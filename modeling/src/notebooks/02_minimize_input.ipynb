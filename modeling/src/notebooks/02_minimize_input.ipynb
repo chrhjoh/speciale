{
 "cells": [
  {
   "cell_type": "markdown",
   "metadata": {},
   "source": [
    "# Minimize input model\n",
    "\n",
    "This notebook can experiment with the input data. such as training only on the Sequence, energy terms, or remove some of the sequences such as mhc or peptide"
   ]
  },
  {
   "cell_type": "markdown",
   "metadata": {},
   "source": [
    "### Load Libraries"
   ]
  },
  {
   "cell_type": "code",
   "execution_count": 32,
   "metadata": {},
   "outputs": [],
   "source": [
    "import sys\n",
    "SRC_DIR = \"/Users/christianjohansen/Desktop/speciale/modeling/src\"\n",
    "sys.path.append(SRC_DIR)\n",
    "import torch\n",
    "import matplotlib.pyplot as plt\n",
    "import seaborn as sns\n",
    "import numpy as np\n",
    "from torch import nn, optim, cuda\n",
    "from torch.utils.data.dataloader import DataLoader\n",
    "from utils import Runner, EarlyStopping, TcrDataset, setup_seed\n",
    "from deep_learning_network import Test\n",
    "import pandas as pd"
   ]
  },
  {
   "cell_type": "markdown",
   "metadata": {},
   "source": [
    "Set general plotting parameters for matplotlib using seaborn"
   ]
  },
  {
   "cell_type": "code",
   "execution_count": 33,
   "metadata": {},
   "outputs": [],
   "source": [
    "custom_params = {\"axes.spines.right\": False, \"axes.spines.top\": False}\n",
    "sns.set_theme(style=\"ticks\", rc=custom_params, palette=\"pastel\")"
   ]
  },
  {
   "cell_type": "markdown",
   "metadata": {},
   "source": [
    "### General parameters"
   ]
  },
  {
   "cell_type": "code",
   "execution_count": 34,
   "metadata": {},
   "outputs": [],
   "source": [
    "# General parameters\n",
    "data_dir = \"../../data/\"\n",
    "data_files = [data_dir+f\"datasets/P{i}_input_cdrs.npz\" for i in range(1,6)]\n",
    "label_files = [data_dir+f\"datasets/P{i}_labels.npz\" for i in range(1,6)]\n",
    "\n",
    "batch_size = 64\n",
    "seed= 123\n",
    "\n",
    "setup_seed(seed)\n",
    "device = torch.device(\"cuda\" if cuda.is_available() else \"cpu\")\n",
    "#device= torch.device(\"cpu\")"
   ]
  },
  {
   "cell_type": "markdown",
   "metadata": {},
   "source": [
    "## Define indexing"
   ]
  },
  {
   "cell_type": "code",
   "execution_count": 35,
   "metadata": {},
   "outputs": [
    {
     "name": "stdout",
     "output_type": "stream",
     "text": [
      "Test(\n",
      "  (conv1): Conv1d(27, 100, kernel_size=(3,), stride=(2,), padding=(1,))\n",
      "  (conv2): Conv1d(100, 100, kernel_size=(3,), stride=(2,), padding=(1,))\n",
      "  (pool): MaxPool1d(kernel_size=2, stride=2, padding=0, dilation=1, ceil_mode=False)\n",
      "  (rnn1): LSTM(100, 50, batch_first=True, bidirectional=True)\n",
      "  (dense1): Linear(in_features=127, out_features=60, bias=True)\n",
      "  (dense2): Linear(in_features=60, out_features=60, bias=True)\n",
      "  (dense3): Linear(in_features=60, out_features=1, bias=True)\n",
      "  (bn_start): BatchNorm1d(27, eps=1e-05, momentum=0.1, affine=True, track_running_stats=True)\n",
      "  (bn_cnn1): BatchNorm1d(100, eps=1e-05, momentum=0.1, affine=True, track_running_stats=True)\n",
      "  (bn_cnn2): BatchNorm1d(100, eps=1e-05, momentum=0.1, affine=True, track_running_stats=True)\n",
      "  (bn_dense): BatchNorm1d(127, eps=1e-05, momentum=0.1, affine=True, track_running_stats=True)\n",
      "  (drop): Dropout(p=0.5, inplace=False)\n",
      "  (heavy_drop): Dropout(p=0.7, inplace=False)\n",
      ")\n",
      "Using Device: cpu\n"
     ]
    }
   ],
   "source": [
    "\n",
    "########### Select Indexes TCR DATA ############\n",
    "\n",
    "# Full model\n",
    "#idx = np.arange(420)\n",
    "\n",
    "# peptide + TCR\n",
    "#idx = np.arange(179,420)\n",
    "\n",
    "# MHC + TCR\n",
    "#idx = np.concatenate([np.arange(179),np.arange(192,420)])\n",
    "\n",
    "# TCR\n",
    "#idx = np.arange(192,420)\n",
    "\n",
    "# MHC + peptide\n",
    "#idx = np.arange(192)\n",
    "\n",
    "\n",
    "########### Select Indexes CDR Data ############\n",
    "\n",
    "# Full model\n",
    "# idx = np.arange(248)\n",
    "\n",
    "# Peptide + All CDRS\n",
    "idx = np.arange(179,248)\n",
    "\n",
    "# peptide + cd\n",
    "\n",
    "########### Select Features ###########\n",
    "\n",
    "# All features\n",
    "local_features = np.arange(27)\n",
    "global_features = np.arange(27, 54)\n",
    "use_global_features = True\n",
    "\n",
    "# Sequence\n",
    "#local_features = np.arange(20)\n",
    "#global_features = None\n",
    "#use_global_features = False\n",
    "\n",
    "# Energy terms\n",
    "#local_features = np.arange(20, 27)\n",
    "#global_features = np.arange(27, 54)\n",
    "#use_global_features = True\n",
    "\n",
    "# Sequence and global energy\n",
    "#local_features = np.arange(20)\n",
    "#global_features = np.arange(27, 54)\n",
    "#use_global_features = True\n",
    "\n",
    "net = Test(local_features, global_features, use_global_features)\n",
    "net.to(device)\n",
    "print(net)\n",
    "print(\"Using Device:\", device)\n"
   ]
  },
  {
   "cell_type": "markdown",
   "metadata": {},
   "source": [
    "## Load Data\n",
    "Partitions can be changed by altering the `data_files` and `label_files` indexing"
   ]
  },
  {
   "cell_type": "code",
   "execution_count": 16,
   "metadata": {},
   "outputs": [
    {
     "ename": "TypeError",
     "evalue": "__init__() missing 1 required positional argument: 'seq_features'",
     "output_type": "error",
     "traceback": [
      "\u001b[0;31m---------------------------------------------------------------------------\u001b[0m",
      "\u001b[0;31mTypeError\u001b[0m                                 Traceback (most recent call last)",
      "\u001b[0;32m<ipython-input-16-bd0c67da35d5>\u001b[0m in \u001b[0;36m<module>\u001b[0;34m\u001b[0m\n\u001b[0;32m----> 1\u001b[0;31m \u001b[0mtrain_data\u001b[0m \u001b[0;34m=\u001b[0m \u001b[0mTcrDataset\u001b[0m\u001b[0;34m(\u001b[0m\u001b[0mdata_files\u001b[0m\u001b[0;34m[\u001b[0m\u001b[0;36m0\u001b[0m\u001b[0;34m]\u001b[0m\u001b[0;34m,\u001b[0m \u001b[0mlabel_files\u001b[0m\u001b[0;34m[\u001b[0m\u001b[0;36m0\u001b[0m\u001b[0;34m]\u001b[0m\u001b[0;34m)\u001b[0m\u001b[0;34m\u001b[0m\u001b[0;34m\u001b[0m\u001b[0m\n\u001b[0m\u001b[1;32m      2\u001b[0m \u001b[0mtrain_data\u001b[0m\u001b[0;34m.\u001b[0m\u001b[0madd_partition\u001b[0m\u001b[0;34m(\u001b[0m\u001b[0mdata_files\u001b[0m\u001b[0;34m[\u001b[0m\u001b[0;36m1\u001b[0m\u001b[0;34m]\u001b[0m\u001b[0;34m,\u001b[0m \u001b[0mlabel_files\u001b[0m\u001b[0;34m[\u001b[0m\u001b[0;36m1\u001b[0m\u001b[0;34m]\u001b[0m\u001b[0;34m)\u001b[0m\u001b[0;34m\u001b[0m\u001b[0;34m\u001b[0m\u001b[0m\n\u001b[1;32m      3\u001b[0m \u001b[0mtrain_data\u001b[0m\u001b[0;34m.\u001b[0m\u001b[0madd_partition\u001b[0m\u001b[0;34m(\u001b[0m\u001b[0mdata_files\u001b[0m\u001b[0;34m[\u001b[0m\u001b[0;36m2\u001b[0m\u001b[0;34m]\u001b[0m\u001b[0;34m,\u001b[0m \u001b[0mlabel_files\u001b[0m\u001b[0;34m[\u001b[0m\u001b[0;36m2\u001b[0m\u001b[0;34m]\u001b[0m\u001b[0;34m)\u001b[0m\u001b[0;34m\u001b[0m\u001b[0;34m\u001b[0m\u001b[0m\n\u001b[1;32m      4\u001b[0m \u001b[0mval_data\u001b[0m \u001b[0;34m=\u001b[0m \u001b[0mTcrDataset\u001b[0m\u001b[0;34m(\u001b[0m\u001b[0mdata_files\u001b[0m\u001b[0;34m[\u001b[0m\u001b[0;36m3\u001b[0m\u001b[0;34m]\u001b[0m\u001b[0;34m,\u001b[0m \u001b[0mlabel_files\u001b[0m\u001b[0;34m[\u001b[0m\u001b[0;36m3\u001b[0m\u001b[0;34m]\u001b[0m\u001b[0;34m)\u001b[0m\u001b[0;34m\u001b[0m\u001b[0;34m\u001b[0m\u001b[0m\n\u001b[1;32m      5\u001b[0m \u001b[0mtest_data\u001b[0m \u001b[0;34m=\u001b[0m \u001b[0mTcrDataset\u001b[0m\u001b[0;34m(\u001b[0m\u001b[0mdata_files\u001b[0m\u001b[0;34m[\u001b[0m\u001b[0;36m4\u001b[0m\u001b[0;34m]\u001b[0m\u001b[0;34m,\u001b[0m \u001b[0mlabel_files\u001b[0m\u001b[0;34m[\u001b[0m\u001b[0;36m4\u001b[0m\u001b[0;34m]\u001b[0m\u001b[0;34m)\u001b[0m\u001b[0;34m\u001b[0m\u001b[0;34m\u001b[0m\u001b[0m\n",
      "\u001b[0;31mTypeError\u001b[0m: __init__() missing 1 required positional argument: 'seq_features'"
     ]
    }
   ],
   "source": [
    "train_data = TcrDataset(data_files[0], label_files[0])\n",
    "train_data.add_partition(data_files[1], label_files[1])\n",
    "train_data.add_partition(data_files[2], label_files[2])\n",
    "val_data = TcrDataset(data_files[3], label_files[3])\n",
    "test_data = TcrDataset(data_files[4], label_files[4])\n",
    "\n",
    "# Shuffle data randomly is needed\n",
    "train_data.shuffle_data()\n",
    "val_data.shuffle_data()\n",
    "test_data.shuffle_data()\n",
    "\n",
    "# slicing sequence dimension\n",
    "train_data.slice_data(idx)\n",
    "val_data.slice_data(idx)\n",
    "test_data.slice_data(idx)\n"
   ]
  },
  {
   "cell_type": "code",
   "execution_count": 6,
   "metadata": {},
   "outputs": [],
   "source": [
    "train_dl = DataLoader(train_data, batch_size)\n",
    "val_dl = DataLoader(val_data, batch_size)\n",
    "test_dl = DataLoader(test_data, batch_size)"
   ]
  },
  {
   "cell_type": "code",
   "execution_count": 7,
   "metadata": {},
   "outputs": [
    {
     "data": {
      "text/plain": [
       "(4174, 1532, 1207)"
      ]
     },
     "execution_count": 7,
     "metadata": {},
     "output_type": "execute_result"
    }
   ],
   "source": [
    "len(train_data), len(val_data), len(test_data)"
   ]
  },
  {
   "cell_type": "code",
   "execution_count": 8,
   "metadata": {},
   "outputs": [
    {
     "data": {
      "text/plain": [
       "(4174, 54, 69)"
      ]
     },
     "execution_count": 8,
     "metadata": {},
     "output_type": "execute_result"
    }
   ],
   "source": [
    "train_data.data.shape"
   ]
  },
  {
   "cell_type": "code",
   "execution_count": 9,
   "metadata": {},
   "outputs": [],
   "source": [
    "#Hyperparameters\n",
    "epochs = 100\n",
    "patience = 15\n",
    "lr = 0.005\n",
    "loss_weight = sum(train_data.labels) / len(train_data.labels)\n",
    "model_name = \"minimize_input.pt\"\n",
    "model_path = \"stored_model/\"\n",
    "\n",
    "\n",
    "# Loss and optimizer\n",
    "criterion = nn.BCELoss(reduction='none')\n",
    "optimizer = optim.Adam(net.parameters(), lr=lr,\n",
    "    weight_decay=0.0005,\n",
    "    amsgrad=True\n",
    ")\n",
    "\n",
    "stopper = EarlyStopping(patience, model_name, model_path)\n",
    "# Define runners\n",
    "train_runner = Runner(train_dl, net, criterion, loss_weight, device, optimizer)\n",
    "val_runner = Runner(val_dl, net, criterion, loss_weight, device)\n",
    "test_runner = Runner(test_dl, net, criterion, loss_weight, device)"
   ]
  },
  {
   "cell_type": "markdown",
   "metadata": {},
   "source": [
    "## Training Loop"
   ]
  },
  {
   "cell_type": "code",
   "execution_count": 10,
   "metadata": {},
   "outputs": [
    {
     "name": "stdout",
     "output_type": "stream",
     "text": [
      "Epoch: 1\n",
      "Train loss: 0.4458048271410393 Train MCC: -0.0014300558564435452 Train AUC: 0.5014712533368633\n",
      "Validation loss: 0.26090774933497113 Validation MCC: -0.05029188806044013 Validation AUC: 0.5362865200071807\n",
      "Validation loss decreased. Counter reset\n"
     ]
    },
    {
     "name": "stderr",
     "output_type": "stream",
     "text": [
      "/Users/christianjohansen/opt/anaconda3/lib/python3.8/site-packages/sklearn/metrics/_classification.py:846: RuntimeWarning: invalid value encountered in double_scalars\n",
      "  mcc = cov_ytyp / np.sqrt(cov_ytyt * cov_ypyp)\n"
     ]
    },
    {
     "name": "stdout",
     "output_type": "stream",
     "text": [
      "Epoch: 2\n",
      "Train loss: 0.28056185173265863 Train MCC: 0.023725134054518746 Train AUC: 0.5094369801663468\n",
      "Validation loss: 0.26072146495183307 Validation MCC: 0.0 Validation AUC: 0.5351969131973086\n",
      "Validation loss decreased. Counter reset\n",
      "Epoch: 3\n",
      "Train loss: 0.2629970492738666 Train MCC: 0.06897251399133532 Train AUC: 0.5440767766575232\n",
      "Validation loss: 0.2597188949584961 Validation MCC: 0.02087414303617165 Validation AUC: 0.705223295543633\n",
      "Validation loss decreased. Counter reset\n",
      "Epoch: 4\n",
      "Train loss: 0.25747541947798297 Train MCC: 0.09460117848735244 Train AUC: 0.5781212081099565\n",
      "Validation loss: 0.25677671035130817 Validation MCC: -0.048617066691427784 Validation AUC: 0.7157046540640402\n",
      "Validation loss decreased. Counter reset\n",
      "Epoch: 5\n",
      "Train loss: 0.25409146511193476 Train MCC: 0.13545941148589577 Train AUC: 0.6080233635581442\n",
      "Validation loss: 0.24930582443873087 Validation MCC: 0.05600033648435501 Validation AUC: 0.7273983279818754\n",
      "Validation loss decreased. Counter reset\n",
      "Epoch: 6\n",
      "Train loss: 0.2465739972663648 Train MCC: 0.18270221759696684 Train AUC: 0.6521104051301285\n",
      "Validation loss: 0.2296652396519979 Validation MCC: 0.23063861928462856 Validation AUC: 0.7475566220598227\n",
      "Validation loss decreased. Counter reset\n",
      "Epoch: 7\n",
      "Train loss: 0.23520098310528378 Train MCC: 0.2376453922726118 Train AUC: 0.6941942563054152\n",
      "Validation loss: 0.20687806606292725 Validation MCC: 0.31940332978525726 Validation AUC: 0.787618703515601\n",
      "Validation loss decreased. Counter reset\n",
      "Epoch: 8\n",
      "Train loss: 0.22545539971553918 Train MCC: 0.32384558817922565 Train AUC: 0.7302153732261615\n",
      "Validation loss: 0.1868098775545756 Validation MCC: 0.5599121210880597 Validation AUC: 0.8106311084448504\n",
      "Validation loss decreased. Counter reset\n",
      "Epoch: 9\n",
      "Train loss: 0.20961943539706143 Train MCC: 0.43581028302694497 Train AUC: 0.7615455774458686\n",
      "Validation loss: 0.17515148719151816 Validation MCC: 0.628427680293989 Validation AUC: 0.8413832439151311\n",
      "Validation loss decreased. Counter reset\n",
      "Epoch: 10\n",
      "Train loss: 0.19727997346357865 Train MCC: 0.5142794264105071 Train AUC: 0.7903259462719056\n",
      "Validation loss: 0.16584624846776327 Validation MCC: 0.6324496174478705 Validation AUC: 0.878263991619458\n",
      "Validation loss decreased. Counter reset\n",
      "Epoch: 11\n",
      "Train loss: 0.19411219972552676 Train MCC: 0.5447598603906689 Train AUC: 0.8168713214836387\n",
      "Validation loss: 0.15561737616856894 Validation MCC: 0.6384069949360834 Validation AUC: 0.8917892048256288\n",
      "Validation loss decreased. Counter reset\n",
      "Epoch: 12\n",
      "Train loss: 0.17646817005041873 Train MCC: 0.5622052342978868 Train AUC: 0.8463420441091036\n",
      "Validation loss: 0.15157695611317953 Validation MCC: 0.6407641328061661 Validation AUC: 0.8950455271583644\n",
      "Validation loss decreased. Counter reset\n",
      "Epoch: 13\n",
      "Train loss: 0.17552264531453451 Train MCC: 0.5684314534360726 Train AUC: 0.8460852680398977\n",
      "Validation loss: 0.1503300964832306 Validation MCC: 0.6489859145218168 Validation AUC: 0.8967157273778764\n",
      "Validation loss decreased. Counter reset\n",
      "Epoch: 14\n",
      "Train loss: 0.1778212749596798 Train MCC: 0.5778720740562217 Train AUC: 0.862273957391106\n",
      "Validation loss: 0.1475990911324819 Validation MCC: 0.6431129389318738 Validation AUC: 0.8968952454967085\n",
      "Validation loss decreased. Counter reset\n",
      "Epoch: 15\n",
      "Train loss: 0.17325382521658234 Train MCC: 0.5788804740997113 Train AUC: 0.8672916620704363\n",
      "Validation loss: 0.14895742138226828 Validation MCC: 0.6528911508347187 Validation AUC: 0.8956545253336424\n",
      "Early Stopping Counter: 1 out of 15\n",
      "Epoch: 16\n",
      "Train loss: 0.1701584006800796 Train MCC: 0.5712683747256393 Train AUC: 0.8667617167104228\n",
      "Validation loss: 0.14654233058293661 Validation MCC: 0.6184780940739314 Validation AUC: 0.8970679464717872\n",
      "Validation loss decreased. Counter reset\n",
      "Epoch: 17\n",
      "Train loss: 0.1654905261415424 Train MCC: 0.5722040706964036 Train AUC: 0.8706050845338686\n",
      "Validation loss: 0.14601553479830423 Validation MCC: 0.5996758951290339 Validation AUC: 0.896486216871522\n",
      "Validation loss decreased. Counter reset\n",
      "Epoch: 18\n",
      "Train loss: 0.16151289506392044 Train MCC: 0.5546794895710487 Train AUC: 0.8813483133673088\n",
      "Validation loss: 0.14752858877182007 Validation MCC: 0.5680272006795178 Validation AUC: 0.8981495999472807\n",
      "Early Stopping Counter: 1 out of 15\n",
      "Epoch: 19\n",
      "Train loss: 0.15904370221224698 Train MCC: 0.5841906464524532 Train AUC: 0.8796555217273001\n",
      "Validation loss: 0.14296796917915344 Validation MCC: 0.6069741360677549 Validation AUC: 0.9038669111748894\n",
      "Validation loss decreased. Counter reset\n",
      "Epoch: 20\n",
      "Train loss: 0.1562718478116122 Train MCC: 0.5779150385440438 Train AUC: 0.8866232537388803\n",
      "Validation loss: 0.1442981163660685 Validation MCC: 0.5508658815190499 Validation AUC: 0.8990267391101809\n",
      "Early Stopping Counter: 1 out of 15\n",
      "Epoch: 21\n",
      "Train loss: 0.15392537550492721 Train MCC: 0.6083124639746582 Train AUC: 0.8889388345920876\n",
      "Validation loss: 0.14810419082641602 Validation MCC: 0.618581773276272 Validation AUC: 0.8960544644338249\n",
      "Early Stopping Counter: 2 out of 15\n",
      "Epoch: 22\n",
      "Train loss: 0.16090117078838925 Train MCC: 0.5845389615194494 Train AUC: 0.8882444973930181\n",
      "Validation loss: 0.14743896325429282 Validation MCC: 0.6312040800502251 Validation AUC: 0.8986972438287806\n",
      "Early Stopping Counter: 3 out of 15\n",
      "Epoch: 23\n",
      "Train loss: 0.1503094615358295 Train MCC: 0.5957027815514256 Train AUC: 0.8967334284446602\n",
      "Validation loss: 0.1472292443116506 Validation MCC: 0.5586256027144202 Validation AUC: 0.8982654913910837\n",
      "Early Stopping Counter: 4 out of 15\n",
      "Epoch: 24\n",
      "Train loss: 0.15475689281116833 Train MCC: 0.5994139432389164 Train AUC: 0.8892205835128927\n",
      "Validation loss: 0.14653506875038147 Validation MCC: 0.5385482469331276 Validation AUC: 0.8994903048853924\n",
      "Early Stopping Counter: 5 out of 15\n",
      "Epoch: 25\n",
      "Train loss: 0.1498282172463157 Train MCC: 0.6315162159532218 Train AUC: 0.8958236812495863\n",
      "Validation loss: 0.14976799488067627 Validation MCC: 0.5754224190126159 Validation AUC: 0.8961067292025988\n",
      "Early Stopping Counter: 6 out of 15\n",
      "Epoch: 26\n",
      "Train loss: 0.14364628358320755 Train MCC: 0.6255334852740664 Train AUC: 0.9032943940697596\n",
      "Validation loss: 0.15075071652730307 Validation MCC: 0.682540248360368 Validation AUC: 0.896183990165134\n",
      "Early Stopping Counter: 7 out of 15\n",
      "Epoch: 27\n",
      "Train loss: 0.14394539052789862 Train MCC: 0.6170337148939534 Train AUC: 0.9004929916679536\n",
      "Validation loss: 0.14838601152102152 Validation MCC: 0.5507487739612901 Validation AUC: 0.8969361483592271\n",
      "Early Stopping Counter: 8 out of 15\n",
      "Epoch: 28\n",
      "Train loss: 0.14146540381691672 Train MCC: 0.6236699039848338 Train AUC: 0.9074860029464901\n",
      "Validation loss: 0.1473611295223236 Validation MCC: 0.63921746821721 Validation AUC: 0.8986904266850274\n",
      "Early Stopping Counter: 9 out of 15\n",
      "Epoch: 29\n",
      "Train loss: 0.15266070221409653 Train MCC: 0.5897909313887517 Train AUC: 0.8946363217410276\n",
      "Validation loss: 0.14523408810297647 Validation MCC: 0.5635906594400649 Validation AUC: 0.9001061202044234\n",
      "Early Stopping Counter: 10 out of 15\n",
      "Epoch: 30\n",
      "Train loss: 0.14703591664632162 Train MCC: 0.6402947278023616 Train AUC: 0.9031234143005272\n",
      "Validation loss: 0.14595251282056174 Validation MCC: 0.6506319672203754 Validation AUC: 0.901008255561085\n",
      "Early Stopping Counter: 11 out of 15\n",
      "Epoch: 31\n",
      "Train loss: 0.15079132715861002 Train MCC: 0.6249127077172781 Train AUC: 0.89868345577691\n",
      "Validation loss: 0.14544756213823953 Validation MCC: 0.6511251837628275 Validation AUC: 0.9001652021169504\n",
      "Early Stopping Counter: 12 out of 15\n",
      "Epoch: 32\n",
      "Train loss: 0.14435286955399948 Train MCC: 0.6387302377656359 Train AUC: 0.9053403294087654\n",
      "Validation loss: 0.15065997838974 Validation MCC: 0.6214458533306944 Validation AUC: 0.8952977614772296\n",
      "Early Stopping Counter: 13 out of 15\n",
      "Epoch: 33\n",
      "Train loss: 0.13975419420184512 Train MCC: 0.6594043305010158 Train AUC: 0.9074329930897209\n",
      "Validation loss: 0.1497491399447123 Validation MCC: 0.6121702339979481 Validation AUC: 0.8956522529523913\n",
      "Early Stopping Counter: 14 out of 15\n",
      "Epoch: 34\n",
      "Train loss: 0.14495843829530658 Train MCC: 0.6416215353714911 Train AUC: 0.8995222678168273\n",
      "Validation loss: 0.14655926823616028 Validation MCC: 0.6351037482952738 Validation AUC: 0.8967770816716544\n",
      "Early Stopping\n"
     ]
    }
   ],
   "source": [
    "train_loss, val_loss, train_auc, val_auc = [], [], [], []\n",
    "\n",
    "for epoch in range(1, epochs+1):\n",
    "    train_runner.run_epoch()\n",
    "    val_runner.run_epoch()\n",
    "    \n",
    "    train_runner.follow_performance(epoch)\n",
    "    val_runner.follow_performance(epoch)\n",
    "    stopper.evaluate_epoch(val_runner.loss, net, epoch)\n",
    "    \n",
    "    train_loss.append(train_runner.loss)\n",
    "    val_loss.append(val_runner.loss)\n",
    "    train_auc.append(train_runner.auc)\n",
    "    val_auc.append(val_runner.auc)\n",
    "    \n",
    "    train_runner.reset()\n",
    "    val_runner.reset()\n",
    "\n",
    "    if stopper.stop:\n",
    "        break\n"
   ]
  },
  {
   "cell_type": "code",
   "execution_count": 11,
   "metadata": {},
   "outputs": [
    {
     "data": {
      "text/plain": [
       "(Text(0.5, 0, 'Epoch'), Text(0, 0.5, 'Loss'))"
      ]
     },
     "execution_count": 11,
     "metadata": {},
     "output_type": "execute_result"
    },
    {
     "data": {
      "image/png": "[encoded data removed]",
      "text/plain": [
       "<Figure size 432x288 with 1 Axes>"
      ]
     },
     "metadata": {},
     "output_type": "display_data"
    },
    {
     "data": {
      "image/png": "[encoded data removed]",
      "text/plain": [
       "<Figure size 432x288 with 1 Axes>"
      ]
     },
     "metadata": {},
     "output_type": "display_data"
    }
   ],
   "source": [
    "# Plots of training epochs\n",
    "epoch = np.arange(1, len(train_loss) + 1)\n",
    "plt.figure()\n",
    "plt.plot(epoch, train_loss, \"r\", epoch, val_loss, \"b\", linewidth=3)\n",
    "plt.vlines(stopper.best_epoch, ymin=0, ymax=0.3, colors=\"black\", linestyles='dashed')\n",
    "plt.legend([\"Train Loss\", \"Validation Loss\", \"Best Epoch\"])\n",
    "plt.xlabel(\"Epoch\"), plt.ylabel(\"Loss\")\n",
    "\n",
    "epoch = np.arange(1, len(train_loss) + 1)\n",
    "plt.figure()\n",
    "plt.plot(epoch, train_auc, \"r\", epoch, val_auc, \"b\", linewidth=3)\n",
    "plt.vlines(stopper.best_epoch, ymin=0, ymax=1, colors=\"black\", linestyles='dashed')\n",
    "plt.legend([\"Train AUC\", \"Validation AUC\", \"Best Epoch\"])\n",
    "plt.xlabel(\"Epoch\"), plt.ylabel(\"Loss\")"
   ]
  },
  {
   "cell_type": "markdown",
   "metadata": {},
   "source": [
    "## Evaluate using the best model\n",
    "\n",
    "Best model is stored as early_stopping_state.pt and loaded into a new object"
   ]
  },
  {
   "cell_type": "code",
   "execution_count": 12,
   "metadata": {},
   "outputs": [],
   "source": [
    "final_model = Test(local_features, global_features, use_global_features)\n",
    "final_model.load_state_dict(torch.load(model_path + model_name))\n",
    "final_model.to(device)\n",
    "\n",
    "train_runner.model = final_model\n",
    "val_runner.model = final_model\n",
    "test_runner.model = final_model"
   ]
  },
  {
   "cell_type": "code",
   "execution_count": 13,
   "metadata": {},
   "outputs": [],
   "source": [
    "train_runner.reset()\n",
    "val_runner.reset()\n",
    "test_runner.reset()\n",
    "\n",
    "train_runner.evaluation_mode() # Set to validation to avoid more training\n",
    "train_runner.run_epoch()\n",
    "val_runner.run_epoch()\n",
    "test_runner.run_epoch()"
   ]
  },
  {
   "cell_type": "code",
   "execution_count": 14,
   "metadata": {},
   "outputs": [
    {
     "name": "stdout",
     "output_type": "stream",
     "text": [
      "Evaluation on Training Data:\n",
      "Loss: 0.12836248224431818\n",
      "MCC: 0.674045143439353\n",
      "Confussion Matrix:\n",
      " [[2801  331]\n",
      " [ 203  839]] \n",
      "\n",
      "Evaluation on Validation Data:\n",
      "Loss: 0.14296796917915344\n",
      "MCC: 0.6069741360677549\n",
      "Confussion Matrix:\n",
      " [[1013  136]\n",
      " [  98  285]] \n",
      "\n",
      "Evaluation on Test Data:\n",
      "Loss: 0.16097851803428248\n",
      "MCC: 0.5507618653166877\n",
      "Confussion Matrix:\n",
      " [[794 112]\n",
      " [ 95 206]] \n",
      "\n"
     ]
    },
    {
     "data": {
      "text/plain": [
       "Text(0.5, 1.0, 'Test Data')"
      ]
     },
     "execution_count": 14,
     "metadata": {},
     "output_type": "execute_result"
    },
    {
     "data": {
      "image/png": "[encoded data removed]",
      "text/plain": [
       "<Figure size 432x288 with 1 Axes>"
      ]
     },
     "metadata": {},
     "output_type": "display_data"
    },
    {
     "data": {
      "image/png": "[encoded data removed]",
      "text/plain": [
       "<Figure size 432x288 with 1 Axes>"
      ]
     },
     "metadata": {},
     "output_type": "display_data"
    },
    {
     "data": {
      "image/png": "[encoded data removed]",
      "text/plain": [
       "<Figure size 432x288 with 1 Axes>"
      ]
     },
     "metadata": {},
     "output_type": "display_data"
    }
   ],
   "source": [
    "print(\"Evaluation on Training Data:\")\n",
    "train_runner.evaluate_model()\n",
    "plt.title(\"Training Data\")\n",
    "\n",
    "print(\"Evaluation on Validation Data:\")\n",
    "val_runner.evaluate_model()\n",
    "plt.title(\"Evaluation Data\")\n",
    "\n",
    "print(\"Evaluation on Test Data:\")\n",
    "test_runner.evaluate_model()\n",
    "plt.title(\"Test Data\")\n"
   ]
  },
  {
   "cell_type": "code",
   "execution_count": 37,
   "metadata": {},
   "outputs": [
    {
     "data": {
      "text/html": [
       "<div>\n",
       "<style scoped>\n",
       "    .dataframe tbody tr th:only-of-type {\n",
       "        vertical-align: middle;\n",
       "    }\n",
       "\n",
       "    .dataframe tbody tr th {\n",
       "        vertical-align: top;\n",
       "    }\n",
       "\n",
       "    .dataframe thead th {\n",
       "        text-align: right;\n",
       "    }\n",
       "</style>\n",
       "<table border=\"1\" class=\"dataframe\">\n",
       "  <thead>\n",
       "    <tr style=\"text-align: right;\">\n",
       "      <th></th>\n",
       "      <th></th>\n",
       "      <th>auc_test</th>\n",
       "    </tr>\n",
       "  </thead>\n",
       "  <tbody>\n",
       "    <tr>\n",
       "      <th rowspan=\"6\" valign=\"top\">All features</th>\n",
       "      <th>peptide_mhc_tcr</th>\n",
       "      <td>0.86</td>\n",
       "    </tr>\n",
       "    <tr>\n",
       "      <th>peptide_tcr</th>\n",
       "      <td>0.86</td>\n",
       "    </tr>\n",
       "    <tr>\n",
       "      <th>mhc_tcr</th>\n",
       "      <td>0.78</td>\n",
       "    </tr>\n",
       "    <tr>\n",
       "      <th>tcr</th>\n",
       "      <td>0.76</td>\n",
       "    </tr>\n",
       "    <tr>\n",
       "      <th>peptide_mhc</th>\n",
       "      <td>0.54</td>\n",
       "    </tr>\n",
       "    <tr>\n",
       "      <th>peptide_cdr3</th>\n",
       "      <td>0.89</td>\n",
       "    </tr>\n",
       "    <tr>\n",
       "      <th rowspan=\"6\" valign=\"top\">Sequence</th>\n",
       "      <th>peptide_mhc_tcr</th>\n",
       "      <td>0.87</td>\n",
       "    </tr>\n",
       "    <tr>\n",
       "      <th>peptide_tcr</th>\n",
       "      <td>0.87</td>\n",
       "    </tr>\n",
       "    <tr>\n",
       "      <th>mhc_tcr</th>\n",
       "      <td>0.70</td>\n",
       "    </tr>\n",
       "    <tr>\n",
       "      <th>tcr</th>\n",
       "      <td>0.70</td>\n",
       "    </tr>\n",
       "    <tr>\n",
       "      <th>peptide_mhc</th>\n",
       "      <td>0.57</td>\n",
       "    </tr>\n",
       "    <tr>\n",
       "      <th>peptide_cdr3</th>\n",
       "      <td>0.89</td>\n",
       "    </tr>\n",
       "    <tr>\n",
       "      <th rowspan=\"6\" valign=\"top\">Energy terms</th>\n",
       "      <th>peptide_mhc_tcr</th>\n",
       "      <td>0.83</td>\n",
       "    </tr>\n",
       "    <tr>\n",
       "      <th>peptide_tcr</th>\n",
       "      <td>0.85</td>\n",
       "    </tr>\n",
       "    <tr>\n",
       "      <th>mhc_tcr</th>\n",
       "      <td>0.81</td>\n",
       "    </tr>\n",
       "    <tr>\n",
       "      <th>tcr</th>\n",
       "      <td>0.74</td>\n",
       "    </tr>\n",
       "    <tr>\n",
       "      <th>peptide_mhc</th>\n",
       "      <td>0.78</td>\n",
       "    </tr>\n",
       "    <tr>\n",
       "      <th>peptide_cdr3</th>\n",
       "      <td>0.83</td>\n",
       "    </tr>\n",
       "    <tr>\n",
       "      <th rowspan=\"6\" valign=\"top\">Sequence + global</th>\n",
       "      <th>peptide_mhc_tcr</th>\n",
       "      <td>0.85</td>\n",
       "    </tr>\n",
       "    <tr>\n",
       "      <th>peptide_tcr</th>\n",
       "      <td>0.87</td>\n",
       "    </tr>\n",
       "    <tr>\n",
       "      <th>mhc_tcr</th>\n",
       "      <td>0.70</td>\n",
       "    </tr>\n",
       "    <tr>\n",
       "      <th>tcr</th>\n",
       "      <td>0.70</td>\n",
       "    </tr>\n",
       "    <tr>\n",
       "      <th>peptide_mhc</th>\n",
       "      <td>0.63</td>\n",
       "    </tr>\n",
       "    <tr>\n",
       "      <th>peptide_cdr3</th>\n",
       "      <td>0.87</td>\n",
       "    </tr>\n",
       "  </tbody>\n",
       "</table>\n",
       "</div>"
      ],
      "text/plain": [
       "                                   auc_test\n",
       "All features      peptide_mhc_tcr      0.86\n",
       "                  peptide_tcr          0.86\n",
       "                  mhc_tcr              0.78\n",
       "                  tcr                  0.76\n",
       "                  peptide_mhc          0.54\n",
       "                  peptide_cdr3         0.89\n",
       "Sequence          peptide_mhc_tcr      0.87\n",
       "                  peptide_tcr          0.87\n",
       "                  mhc_tcr              0.70\n",
       "                  tcr                  0.70\n",
       "                  peptide_mhc          0.57\n",
       "                  peptide_cdr3         0.89\n",
       "Energy terms      peptide_mhc_tcr      0.83\n",
       "                  peptide_tcr          0.85\n",
       "                  mhc_tcr              0.81\n",
       "                  tcr                  0.74\n",
       "                  peptide_mhc          0.78\n",
       "                  peptide_cdr3         0.83\n",
       "Sequence + global peptide_mhc_tcr      0.85\n",
       "                  peptide_tcr          0.87\n",
       "                  mhc_tcr              0.70\n",
       "                  tcr                  0.70\n",
       "                  peptide_mhc          0.63\n",
       "                  peptide_cdr3         0.87"
      ]
     },
     "execution_count": 37,
     "metadata": {},
     "output_type": "execute_result"
    }
   ],
   "source": [
    "import pandas as pd\n",
    "import numpy as np\n",
    "import matplotlib.pyplot as plt\n",
    "arrays=[np.array([\"All features\", \"All features\", \"All features\", \"All features\", \"All features\", \"All features\",\n",
    "       \"Sequence\", \"Sequence\", \"Sequence\", \"Sequence\", \"Sequence\", \"Sequence\",\n",
    "       \"Energy terms\", \"Energy terms\", \"Energy terms\", \"Energy terms\", \"Energy terms\", \"Energy terms\",\n",
    "       \"Sequence + global\", \"Sequence + global\", \"Sequence + global\", \"Sequence + global\", \"Sequence + global\", \"Sequence + global\"])\n",
    "       ,\n",
    "       np.array([\"peptide_mhc_tcr\", \"peptide_tcr\", \"mhc_tcr\", \"tcr\", \"peptide_mhc\", \"peptide_cdr3\",\n",
    "       \"peptide_mhc_tcr\", \"peptide_tcr\", \"mhc_tcr\", \"tcr\", \"peptide_mhc\", \"peptide_cdr3\", \n",
    "       \"peptide_mhc_tcr\", \"peptide_tcr\", \"mhc_tcr\", \"tcr\", \"peptide_mhc\", \"peptide_cdr3\",\n",
    "       \"peptide_mhc_tcr\", \"peptide_tcr\", \"mhc_tcr\", \"tcr\", \"peptide_mhc\", \"peptide_cdr3\"])]\n",
    "\n",
    "results= pd.DataFrame({\"auc_test\" : [0.86, 0.86, 0.78, 0.76, 0.54, 0.89, 0.87, 0.87, 0.70, 0.70, 0.57, 0.89, 0.83, 0.85, 0.81, 0.74, 0.78, 0.83, 0.85, 0.87, 0.70, 0.70, 0.63, 0.87],\n",
    "  }, index=arrays)\n",
    "results"
   ]
  },
  {
   "cell_type": "code",
   "execution_count": 42,
   "metadata": {},
   "outputs": [
    {
     "data": {
      "image/png": "[encoded data removed]",
      "text/plain": [
       "<Figure size 1008x648 with 1 Axes>"
      ]
     },
     "metadata": {},
     "output_type": "display_data"
    }
   ],
   "source": [
    "plt.figure(figsize=(14,9))\n",
    "ax = plt.gca()\n",
    "results[\"auc_test\"].unstack().plot(kind='bar', ax=ax, ylim=(0,1.2), fontsize=14)\n",
    "for container in ax.containers:\n",
    "    ax.bar_label(container, padding=2, fmt=\"%.2f\", fontsize=11)\n",
    "ax.set_ylabel(\"AUC\", fontsize=18)\n",
    "ax.legend(fontsize=12)\n",
    "plt.savefig(\"../../../../plots/reduce_input.png\", dpi=300, pad_inches=0.1, bbox_inches=\"tight\")\n",
    "\n",
    "\n"
   ]
  },
  {
   "cell_type": "code",
   "execution_count": 39,
   "metadata": {},
   "outputs": [
    {
     "data": {
      "image/png": "[encoded data removed]",
      "text/plain": [
       "<Figure size 720x576 with 1 Axes>"
      ]
     },
     "metadata": {},
     "output_type": "display_data"
    }
   ],
   "source": [
    "df = pd.DataFrame({\"AUC\":[0.89, 0.81, 0.83]}, index=[\"cdr3ab\", \"cdr3a\", \"cdr3b\"])\n",
    "plt.figure(figsize=(10,8))\n",
    "ax = plt.gca()\n",
    "df[\"AUC\"].plot(kind='bar', ax=ax, ylim=(0,1), fontsize=14)\n",
    "for container in ax.containers:\n",
    "    ax.bar_label(container, padding=2, fmt=\"%.2f\", fontsize=12)\n",
    "ax.set_ylabel(\"AUC\", fontsize=14)\n",
    "plt.savefig(\"../../../../plots/cdr3ab_vs_a_vs_b.png\", dpi=300)"
   ]
  },
  {
   "cell_type": "code",
   "execution_count": null,
   "metadata": {},
   "outputs": [],
   "source": []
  }
 ],
 "metadata": {
  "interpreter": {
   "hash": "57990f1ad2ea89c67ddae7f31d40c478205c5912da0fccfb7c5cfbb2b8bf17ad"
  },
  "kernelspec": {
   "display_name": "Python (myenv)",
   "language": "python",
   "name": "PythonTest"
  },
  "language_info": {
   "codemirror_mode": {
    "name": "ipython",
    "version": 3
   },
   "file_extension": ".py",
   "mimetype": "text/x-python",
   "name": "python",
   "nbconvert_exporter": "python",
   "pygments_lexer": "ipython3",
   "version": "3.8.3"
  },
  "orig_nbformat": 4
 },
 "nbformat": 4,
 "nbformat_minor": 2
}
