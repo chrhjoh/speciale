{
 "cells": [
  {
   "cell_type": "markdown",
   "metadata": {},
   "source": [
    "# Baseline Model for Master Thesis\n",
    "\n",
    "This is a little notebook showing the performance of the network developed previously by my team for the deep learning course"
   ]
  },
  {
   "cell_type": "markdown",
   "metadata": {},
   "source": [
    "### Load Libraries"
   ]
  },
  {
   "cell_type": "code",
   "execution_count": 1,
   "metadata": {},
   "outputs": [],
   "source": [
    "import sys\n",
    "import os\n",
    "SRC_DIR = \"/Users/christianjohansen/Desktop/speciale/modeling/src\"\n",
    "sys.path.append(SRC_DIR)\n",
    "\n",
    "import torch\n",
    "import matplotlib.pyplot as plt\n",
    "import seaborn as sns\n",
    "import numpy as np\n",
    "from torch import nn, optim, cuda\n",
    "from torch.utils.data.dataloader import DataLoader\n",
    "from src.utils import Runner, EarlyStopping, TcrDataset, setup_seed\n",
    "from src.deep_learning_network import Net"
   ]
  },
  {
   "cell_type": "markdown",
   "metadata": {},
   "source": [
    "Set general plotting parameters for matplotlib using seaborn"
   ]
  },
  {
   "cell_type": "code",
   "execution_count": 2,
   "metadata": {},
   "outputs": [],
   "source": [
    "custom_params = {\"axes.spines.right\": False, \"axes.spines.top\": False}\n",
    "sns.set_theme(style=\"ticks\", rc=custom_params, palette=\"pastel\")"
   ]
  },
  {
   "cell_type": "markdown",
   "metadata": {},
   "source": [
    "### General parameters"
   ]
  },
  {
   "cell_type": "code",
   "execution_count": 3,
   "metadata": {},
   "outputs": [],
   "source": [
    "# General parameters\n",
    "data_dir = \"../../data/\"\n",
    "data_files = [data_dir+f\"datasets/P{i}_input_cdrs.npz\" for i in range(1,6)]\n",
    "label_files = [data_dir+f\"datasets/P{i}_labels.npz\" for i in range(1,6)]\n",
    "device = torch.device(\"cuda\" if cuda.is_available() else \"cpu\")\n",
    "batch_size = 64\n",
    "seed= 123\n",
    "\n",
    "setup_seed(seed)\n"
   ]
  },
  {
   "cell_type": "markdown",
   "metadata": {},
   "source": [
    "## Load Data"
   ]
  },
  {
   "cell_type": "code",
   "execution_count": 4,
   "metadata": {},
   "outputs": [],
   "source": [
    "train_data = TcrDataset(data_files[0], label_files[0])\n",
    "train_data.add_partition(data_files[1], label_files[1])\n",
    "train_data.add_partition(data_files[2], label_files[2])\n",
    "val_data = TcrDataset(data_files[3], label_files[3])\n",
    "test_data = TcrDataset(data_files[4], label_files[4])\n",
    "\n",
    "# Shuffle data randomly is needed\n",
    "train_data.shuffle_data()\n",
    "val_data.shuffle_data()\n",
    "test_data.shuffle_data()\n",
    "\n"
   ]
  },
  {
   "cell_type": "code",
   "execution_count": null,
   "metadata": {},
   "outputs": [],
   "source": [
    "train_dl = DataLoader(train_data, batch_size)\n",
    "val_dl = DataLoader(val_data, batch_size)\n",
    "test_dl = DataLoader(test_data, batch_size)"
   ]
  },
  {
   "cell_type": "markdown",
   "metadata": {},
   "source": [
    "## Define Network parameters\n",
    "\n",
    "For now just have the network parameters be defined here. They should perhaps be moved later"
   ]
  },
  {
   "cell_type": "code",
   "execution_count": 5,
   "metadata": {},
   "outputs": [
    {
     "name": "stdout",
     "output_type": "stream",
     "text": [
      "Net(\n",
      "  (conv1): Conv1d(27, 100, kernel_size=(3,), stride=(2,), padding=(1,))\n",
      "  (conv2): Conv1d(100, 100, kernel_size=(3,), stride=(2,), padding=(1,))\n",
      "  (pool): MaxPool1d(kernel_size=2, stride=2, padding=0, dilation=1, ceil_mode=False)\n",
      "  (rnn1): LSTM(100, 26, batch_first=True, bidirectional=True)\n",
      "  (rnn2): LSTM(52, 26, batch_first=True, bidirectional=True)\n",
      "  (rnn3): LSTM(52, 26, batch_first=True, bidirectional=True)\n",
      "  (dense1): Linear(in_features=79, out_features=60, bias=True)\n",
      "  (dense2): Linear(in_features=60, out_features=60, bias=True)\n",
      "  (dense3): Linear(in_features=60, out_features=1, bias=True)\n",
      "  (bn_start): BatchNorm1d(27, eps=1e-05, momentum=0.1, affine=True, track_running_stats=True)\n",
      "  (bn_cnn1): BatchNorm1d(100, eps=1e-05, momentum=0.1, affine=True, track_running_stats=True)\n",
      "  (bn_cnn2): BatchNorm1d(100, eps=1e-05, momentum=0.1, affine=True, track_running_stats=True)\n",
      "  (bn_dense): BatchNorm1d(79, eps=1e-05, momentum=0.1, affine=True, track_running_stats=True)\n",
      "  (drop): Dropout(p=0.5, inplace=False)\n",
      ")\n"
     ]
    }
   ],
   "source": [
    "n_feat = train_dl.dataset[0][0].shape[0]\n",
    "n_local_feat = 27\n",
    "n_global_feat = n_feat - n_local_feat\n",
    "\n",
    "# Initialize network\n",
    "net = Net(n_local_feat, n_global_feat)\n",
    "print(net)"
   ]
  },
  {
   "cell_type": "code",
   "execution_count": 6,
   "metadata": {},
   "outputs": [],
   "source": [
    "#Hyperparameters\n",
    "epochs = 100\n",
    "patience = 15\n",
    "lr = 0.001\n",
    "loss_weight = sum(train_data.labels) / len(train_data.labels)\n",
    "model_name = \"baseline.pt\"\n",
    "model_path = \"stored_model/\"\n",
    "\n",
    "# Loss and optimizer\n",
    "criterion = nn.BCELoss(reduction='none')\n",
    "optimizer = optim.Adam(net.parameters(), lr=lr,\n",
    "    weight_decay=0.0005,\n",
    "    amsgrad=True\n",
    ")\n",
    "\n",
    "stopper = EarlyStopping(patience, model_name, model_path)\n",
    "# Define runners\n",
    "train_runner = Runner(train_dl, net, criterion, loss_weight, optimizer)\n",
    "val_runner = Runner(val_dl, net, criterion, loss_weight)\n",
    "test_runner = Runner(test_dl, net, criterion, loss_weight)"
   ]
  },
  {
   "cell_type": "markdown",
   "metadata": {},
   "source": [
    "## Training Loop"
   ]
  },
  {
   "cell_type": "code",
   "execution_count": 7,
   "metadata": {},
   "outputs": [
    {
     "name": "stdout",
     "output_type": "stream",
     "text": [
      "Epoch: 1\n",
      "Train loss: 0.006341826972778904 Train MCC: 0.012543251519207583\n",
      "Validation loss: 0.004095780271377664 Validation MCC: -0.027962020001043992\n",
      "Validation loss decreased. Counter reset\n",
      "Epoch: 2\n",
      "Train loss: 0.005374447124426445 Train MCC: -0.042307260360740576\n",
      "Validation loss: 0.004086570377274859 Validation MCC: 0.029820648264057528\n",
      "Validation loss decreased. Counter reset\n",
      "Epoch: 3\n",
      "Train loss: 0.004786497325988477 Train MCC: -0.001933709256907788\n",
      "Validation loss: 0.004088430854627376 Validation MCC: -0.013868808428191045\n",
      "Early Stopping Counter: 1 out of 15\n",
      "Epoch: 4\n",
      "Train loss: 0.00454130081468792 Train MCC: 0.009117986890668683\n",
      "Validation loss: 0.004090336328408977 Validation MCC: -0.05925920291575825\n",
      "Early Stopping Counter: 2 out of 15\n",
      "Epoch: 5\n",
      "Train loss: 0.0043783753682551775 Train MCC: 0.011058280433479954\n",
      "Validation loss: 0.0040889230030704765 Validation MCC: -0.06481180172025827\n",
      "Early Stopping Counter: 3 out of 15\n",
      "Epoch: 6\n",
      "Train loss: 0.004316906267376038 Train MCC: 0.002210002766317444\n",
      "Validation loss: 0.004078306345608413 Validation MCC: 0.06821119510088165\n",
      "Validation loss decreased. Counter reset\n",
      "Epoch: 7\n",
      "Train loss: 0.004269922977429258 Train MCC: 0.006629935441317959\n",
      "Validation loss: 0.004078889736810486 Validation MCC: 0.06877541123090485\n",
      "Early Stopping Counter: 1 out of 15\n",
      "Epoch: 8\n",
      "Train loss: 0.004209352338142943 Train MCC: 0.02707435630121839\n",
      "Validation loss: 0.004078143546028187 Validation MCC: 0.05925185872868378\n",
      "Validation loss decreased. Counter reset\n",
      "Epoch: 9\n",
      "Train loss: 0.004247130161267148 Train MCC: -0.023485723809298125\n",
      "Validation loss: 0.004077403604749927 Validation MCC: 0.09254099156695945\n",
      "Validation loss decreased. Counter reset\n",
      "Epoch: 10\n",
      "Train loss: 0.004162869613136401 Train MCC: 0.03315477833414274\n",
      "Validation loss: 0.004077904814973884 Validation MCC: 0.11007011379698585\n",
      "Early Stopping Counter: 1 out of 15\n",
      "Epoch: 11\n",
      "Train loss: 0.00417129160684832 Train MCC: 0.002210180887224599\n",
      "Validation loss: 0.004074002937126909 Validation MCC: 0.14166887691212235\n",
      "Validation loss decreased. Counter reset\n",
      "Epoch: 12\n",
      "Train loss: 0.004162839040801856 Train MCC: -0.00027633301314963435\n",
      "Validation loss: 0.004076493052011392 Validation MCC: 0.08059776716120233\n",
      "Early Stopping Counter: 1 out of 15\n",
      "Epoch: 13\n",
      "Train loss: 0.004140249279697546 Train MCC: 0.022931858080917546\n",
      "Validation loss: 0.004074104491567549 Validation MCC: 0.06422356642739961\n",
      "Early Stopping Counter: 2 out of 15\n",
      "Epoch: 14\n",
      "Train loss: 0.004132443752015037 Train MCC: 0.009116233235312349\n",
      "Validation loss: 0.004073481103539623 Validation MCC: 0.0921543939894458\n",
      "Validation loss decreased. Counter reset\n",
      "Epoch: 15\n",
      "Train loss: 0.004112577210202742 Train MCC: 0.030122617084893503\n",
      "Validation loss: 0.004070024190380252 Validation MCC: 0.05709212553831372\n",
      "Validation loss decreased. Counter reset\n",
      "Epoch: 16\n",
      "Train loss: 0.004102229615717983 Train MCC: 0.046207734235824596\n",
      "Validation loss: 0.004066022320468648 Validation MCC: 0.09469519546186965\n",
      "Validation loss decreased. Counter reset\n",
      "Epoch: 17\n",
      "Train loss: 0.004105330198005056 Train MCC: 0.03537910009635517\n",
      "Validation loss: 0.004057423002910489 Validation MCC: 0.16292651547875456\n",
      "Validation loss decreased. Counter reset\n",
      "Epoch: 18\n",
      "Train loss: 0.004100594223971572 Train MCC: 0.04143935448329983\n",
      "Validation loss: 0.004047763144516851 Validation MCC: 0.21215043595714622\n",
      "Validation loss decreased. Counter reset\n",
      "Epoch: 19\n",
      "Train loss: 0.00407333693435888 Train MCC: 0.08323918653497692\n",
      "Validation loss: 0.004022868870126467 Validation MCC: 0.2528796157111028\n",
      "Validation loss decreased. Counter reset\n",
      "Epoch: 20\n",
      "Train loss: 0.004042282743317089 Train MCC: 0.0934323158693772\n",
      "Validation loss: 0.003974806746836571 Validation MCC: 0.2852712521226573\n",
      "Validation loss decreased. Counter reset\n",
      "Epoch: 21\n",
      "Train loss: 0.003962589793228076 Train MCC: 0.1486204403639365\n",
      "Validation loss: 0.0038801736319205708 Validation MCC: 0.29191779066794316\n",
      "Validation loss decreased. Counter reset\n",
      "Epoch: 22\n",
      "Train loss: 0.003932158912768205 Train MCC: 0.20694164261731277\n",
      "Validation loss: 0.0038209495819411772 Validation MCC: 0.31230527572786454\n",
      "Validation loss decreased. Counter reset\n",
      "Epoch: 23\n",
      "Train loss: 0.003867924156371486 Train MCC: 0.24636095939776248\n",
      "Validation loss: 0.003730549256111035 Validation MCC: 0.3396904040646136\n",
      "Validation loss decreased. Counter reset\n",
      "Epoch: 24\n",
      "Train loss: 0.0038185674037659566 Train MCC: 0.24452768339640527\n",
      "Validation loss: 0.003662335919521427 Validation MCC: 0.34451632634812723\n",
      "Validation loss decreased. Counter reset\n",
      "Epoch: 25\n",
      "Train loss: 0.0038080215454101562 Train MCC: 0.26447751297095246\n",
      "Validation loss: 0.003638245331350504 Validation MCC: 0.3470081021865496\n",
      "Validation loss decreased. Counter reset\n",
      "Epoch: 26\n",
      "Train loss: 0.003776163119448429 Train MCC: 0.2940384106768901\n",
      "Validation loss: 0.0035704160267841143 Validation MCC: 0.3430865289799956\n",
      "Validation loss decreased. Counter reset\n",
      "Epoch: 27\n",
      "Train loss: 0.0036973419371974527 Train MCC: 0.3041920830489507\n",
      "Validation loss: 0.0035265973167369438 Validation MCC: 0.35973347995091776\n",
      "Validation loss decreased. Counter reset\n",
      "Epoch: 28\n",
      "Train loss: 0.0037652556405683452 Train MCC: 0.28533421165459943\n",
      "Validation loss: 0.0035422710728676573 Validation MCC: 0.37168629699476835\n",
      "Early Stopping Counter: 1 out of 15\n",
      "Epoch: 29\n",
      "Train loss: 0.0036703951621169678 Train MCC: 0.3034168748331328\n",
      "Validation loss: 0.0035105098434388246 Validation MCC: 0.3882041258917573\n",
      "Validation loss decreased. Counter reset\n",
      "Epoch: 30\n",
      "Train loss: 0.003600310594841624 Train MCC: 0.32198772532317854\n",
      "Validation loss: 0.0034587726992985836 Validation MCC: 0.3728544565485091\n",
      "Validation loss decreased. Counter reset\n",
      "Epoch: 31\n",
      "Train loss: 0.003568318015650699 Train MCC: 0.3314530786201505\n",
      "Validation loss: 0.0032251596763280864 Validation MCC: 0.47904210247279855\n",
      "Validation loss decreased. Counter reset\n",
      "Epoch: 32\n",
      "Train loss: 0.0033768320768073415 Train MCC: 0.41518722849979844\n",
      "Validation loss: 0.003073533896849946 Validation MCC: 0.6002878627921217\n",
      "Validation loss decreased. Counter reset\n",
      "Epoch: 33\n",
      "Train loss: 0.003226738112965269 Train MCC: 0.4994847172880184\n",
      "Validation loss: 0.0029645975420390636 Validation MCC: 0.6107664098350674\n",
      "Validation loss decreased. Counter reset\n",
      "Epoch: 34\n",
      "Train loss: 0.0030764531861081647 Train MCC: 0.5524875790797522\n",
      "Validation loss: 0.002921706570866536 Validation MCC: 0.627733695887223\n",
      "Validation loss decreased. Counter reset\n",
      "Epoch: 35\n",
      "Train loss: 0.0030062022962068255 Train MCC: 0.5801225767290552\n",
      "Validation loss: 0.0029271339526495176 Validation MCC: 0.6397494572093687\n",
      "Early Stopping Counter: 1 out of 15\n",
      "Epoch: 36\n",
      "Train loss: 0.002915745830992192 Train MCC: 0.617897558570709\n",
      "Validation loss: 0.002887463350908472 Validation MCC: 0.6212429549041208\n",
      "Validation loss decreased. Counter reset\n",
      "Epoch: 37\n",
      "Train loss: 0.0029301132311661277 Train MCC: 0.6152392578011853\n",
      "Validation loss: 0.002877811616870085 Validation MCC: 0.6438902906358561\n",
      "Validation loss decreased. Counter reset\n",
      "Epoch: 38\n",
      "Train loss: 0.002847652800345535 Train MCC: 0.6175889728296825\n",
      "Validation loss: 0.002845306071510165 Validation MCC: 0.6478862484283258\n",
      "Validation loss decreased. Counter reset\n",
      "Epoch: 39\n",
      "Train loss: 0.002847595990559701 Train MCC: 0.6279505112958571\n",
      "Validation loss: 0.002901755966646487 Validation MCC: 0.6264735217935087\n",
      "Early Stopping Counter: 1 out of 15\n",
      "Epoch: 40\n",
      "Train loss: 0.002853968725250098 Train MCC: 0.6293822608789085\n",
      "Validation loss: 0.002871901773375265 Validation MCC: 0.6340307447774763\n",
      "Early Stopping Counter: 2 out of 15\n",
      "Epoch: 41\n",
      "Train loss: 0.0028169435747502523 Train MCC: 0.6434134405378574\n",
      "Validation loss: 0.002839394040688931 Validation MCC: 0.6359625270813596\n",
      "Validation loss decreased. Counter reset\n",
      "Epoch: 42\n",
      "Train loss: 0.0028498341592305015 Train MCC: 0.6421999475052709\n",
      "Validation loss: 0.0028273406222482185 Validation MCC: 0.6315070567925387\n",
      "Validation loss decreased. Counter reset\n",
      "Epoch: 43\n",
      "Train loss: 0.002794344231272428 Train MCC: 0.6394396001245978\n",
      "Validation loss: 0.002835489038089937 Validation MCC: 0.6319811311811113\n",
      "Early Stopping Counter: 1 out of 15\n",
      "Epoch: 44\n",
      "Train loss: 0.002835356333609403 Train MCC: 0.6369280682994645\n",
      "Validation loss: 0.0028225297540387193 Validation MCC: 0.6357833075537788\n",
      "Validation loss decreased. Counter reset\n",
      "Epoch: 45\n",
      "Train loss: 0.0027705685373698697 Train MCC: 0.6402441803420479\n",
      "Validation loss: 0.0028015501689785897 Validation MCC: 0.6397108586248674\n",
      "Validation loss decreased. Counter reset\n",
      "Epoch: 46\n",
      "Train loss: 0.0028387124458568516 Train MCC: 0.6324846619091616\n",
      "Validation loss: 0.002845217641028008 Validation MCC: 0.6362090783546669\n",
      "Early Stopping Counter: 1 out of 15\n",
      "Epoch: 47\n",
      "Train loss: 0.002765173432929664 Train MCC: 0.6570314237845715\n",
      "Validation loss: 0.0028591449732549225 Validation MCC: 0.6225701338241897\n",
      "Early Stopping Counter: 2 out of 15\n",
      "Epoch: 48\n",
      "Train loss: 0.0027185939715809798 Train MCC: 0.6569736736354134\n",
      "Validation loss: 0.002808143708215316 Validation MCC: 0.644664972701778\n",
      "Early Stopping Counter: 3 out of 15\n",
      "Epoch: 49\n",
      "Train loss: 0.002734944010465339 Train MCC: 0.6467215544577234\n",
      "Validation loss: 0.0028606729769925458 Validation MCC: 0.6362041789415953\n",
      "Early Stopping Counter: 4 out of 15\n",
      "Epoch: 50\n",
      "Train loss: 0.002760358518390564 Train MCC: 0.648864832059647\n",
      "Validation loss: 0.0027597556732897677 Validation MCC: 0.6527557234185486\n",
      "Validation loss decreased. Counter reset\n",
      "Epoch: 51\n",
      "Train loss: 0.002661230005145643 Train MCC: 0.6613740921530906\n",
      "Validation loss: 0.0028187069324178433 Validation MCC: 0.6281634456625466\n",
      "Early Stopping Counter: 1 out of 15\n",
      "Epoch: 52\n",
      "Train loss: 0.002634946239051636 Train MCC: 0.660676735619933\n",
      "Validation loss: 0.002743935991239735 Validation MCC: 0.6458515795747084\n",
      "Validation loss decreased. Counter reset\n",
      "Epoch: 53\n",
      "Train loss: 0.0026137571015426415 Train MCC: 0.6584866428848695\n",
      "Validation loss: 0.002674776167263366 Validation MCC: 0.6417573227184812\n",
      "Validation loss decreased. Counter reset\n",
      "Epoch: 54\n",
      "Train loss: 0.002573131031967236 Train MCC: 0.65145970677209\n",
      "Validation loss: 0.002647031806555832 Validation MCC: 0.6482917564131344\n",
      "Validation loss decreased. Counter reset\n",
      "Epoch: 55\n",
      "Train loss: 0.0025406978917464113 Train MCC: 0.6568006326616179\n",
      "Validation loss: 0.0026553277106928794 Validation MCC: 0.6398734639811773\n",
      "Early Stopping Counter: 1 out of 15\n",
      "Epoch: 56\n",
      "Train loss: 0.002519833186026395 Train MCC: 0.6458629002497019\n",
      "Validation loss: 0.002638326872379408 Validation MCC: 0.647516270873036\n",
      "Validation loss decreased. Counter reset\n",
      "Epoch: 57\n",
      "Train loss: 0.0024086051010058828 Train MCC: 0.5924907932188493\n",
      "Validation loss: 0.0025346621304633264 Validation MCC: 0.6418050086766366\n",
      "Validation loss decreased. Counter reset\n",
      "Epoch: 58\n",
      "Train loss: 0.002406217949242113 Train MCC: 0.613318809843519\n",
      "Validation loss: 0.0024805115841006857 Validation MCC: 0.596412986908877\n",
      "Validation loss decreased. Counter reset\n",
      "Epoch: 59\n",
      "Train loss: 0.0024094857667621814 Train MCC: 0.5820296180105101\n",
      "Validation loss: 0.002473748683304493 Validation MCC: 0.6560218502293721\n",
      "Validation loss decreased. Counter reset\n",
      "Epoch: 60\n",
      "Train loss: 0.002376931249810178 Train MCC: 0.600984368954523\n",
      "Validation loss: 0.0023539500655228 Validation MCC: 0.5483385453170888\n",
      "Validation loss decreased. Counter reset\n",
      "Epoch: 61\n",
      "Train loss: 0.0023246082962985245 Train MCC: 0.6022252751385566\n",
      "Validation loss: 0.0024540807129046238 Validation MCC: 0.5205624277018297\n",
      "Early Stopping Counter: 1 out of 15\n",
      "Epoch: 62\n",
      "Train loss: 0.0022781173578289705 Train MCC: 0.6193500326645942\n",
      "Validation loss: 0.0023793093030137127 Validation MCC: 0.4965713947758064\n",
      "Early Stopping Counter: 2 out of 15\n",
      "Epoch: 63\n",
      "Train loss: 0.002255632774681566 Train MCC: 0.6190251296866167\n",
      "Validation loss: 0.00233375635559562 Validation MCC: 0.6085414598015088\n",
      "Validation loss decreased. Counter reset\n",
      "Epoch: 64\n",
      "Train loss: 0.0022948319832103675 Train MCC: 0.6278018183368743\n",
      "Validation loss: 0.002276086244795613 Validation MCC: 0.6031267782741114\n",
      "Validation loss decreased. Counter reset\n",
      "Epoch: 65\n",
      "Train loss: 0.002242010518124229 Train MCC: 0.6251934095659092\n",
      "Validation loss: 0.0022984588443061157 Validation MCC: 0.5329477449335215\n",
      "Early Stopping Counter: 1 out of 15\n",
      "Epoch: 66\n",
      "Train loss: 0.0022396564483642576 Train MCC: 0.6295531896578801\n",
      "Validation loss: 0.002247737713285074 Validation MCC: 0.5529111640359647\n",
      "Validation loss decreased. Counter reset\n",
      "Epoch: 67\n",
      "Train loss: 0.0021732389641720713 Train MCC: 0.6326470434450097\n",
      "Validation loss: 0.002293423931376806 Validation MCC: 0.6011279807434168\n",
      "Early Stopping Counter: 1 out of 15\n",
      "Epoch: 68\n",
      "Train loss: 0.0021887069683896297 Train MCC: 0.6298332061401525\n",
      "Validation loss: 0.002241119332269791 Validation MCC: 0.5834896579139929\n",
      "Validation loss decreased. Counter reset\n",
      "Epoch: 69\n",
      "Train loss: 0.0021119751998682343 Train MCC: 0.6654902258408715\n",
      "Validation loss: 0.0022076505820998044 Validation MCC: 0.627257302463863\n",
      "Validation loss decreased. Counter reset\n",
      "Epoch: 70\n",
      "Train loss: 0.002077098326249556 Train MCC: 0.666813632884166\n",
      "Validation loss: 0.002223733212032293 Validation MCC: 0.6374105048217272\n",
      "Early Stopping Counter: 1 out of 15\n",
      "Epoch: 71\n",
      "Train loss: 0.002056482762240907 Train MCC: 0.6665953494830583\n",
      "Validation loss: 0.002254144704826225 Validation MCC: 0.5907591457567559\n",
      "Early Stopping Counter: 2 out of 15\n",
      "Epoch: 72\n",
      "Train loss: 0.0020305628981886867 Train MCC: 0.6848457300415793\n",
      "Validation loss: 0.002237831936907487 Validation MCC: 0.5886412516773406\n",
      "Early Stopping Counter: 3 out of 15\n",
      "Epoch: 73\n",
      "Train loss: 0.0020855860276655716 Train MCC: 0.6611742562142062\n",
      "Validation loss: 0.0022882838705420338 Validation MCC: 0.5943578937340036\n",
      "Early Stopping Counter: 4 out of 15\n",
      "Epoch: 74\n",
      "Train loss: 0.0020096968235581688 Train MCC: 0.6880718109214772\n",
      "Validation loss: 0.0022209307781834433 Validation MCC: 0.6353364454793998\n",
      "Early Stopping Counter: 5 out of 15\n",
      "Epoch: 75\n",
      "Train loss: 0.0020199527010392915 Train MCC: 0.682412164291891\n",
      "Validation loss: 0.00221704327419576 Validation MCC: 0.6339668541209242\n",
      "Early Stopping Counter: 6 out of 15\n",
      "Epoch: 76\n",
      "Train loss: 0.0019433968375174053 Train MCC: 0.6938314770470415\n",
      "Validation loss: 0.0023128231731029823 Validation MCC: 0.5907563010704185\n",
      "Early Stopping Counter: 7 out of 15\n",
      "Epoch: 77\n",
      "Train loss: 0.0019515039818138596 Train MCC: 0.6953633928720422\n",
      "Validation loss: 0.0023360441427868286 Validation MCC: 0.5997716445962873\n",
      "Early Stopping Counter: 8 out of 15\n",
      "Epoch: 78\n",
      "Train loss: 0.0020173889598207612 Train MCC: 0.6762244698017096\n",
      "Validation loss: 0.0022477430253635073 Validation MCC: 0.6450454002198472\n",
      "Early Stopping Counter: 9 out of 15\n",
      "Epoch: 79\n",
      "Train loss: 0.0019021274940819262 Train MCC: 0.6997268204553165\n",
      "Validation loss: 0.0023352135836999977 Validation MCC: 0.6097405317631005\n",
      "Early Stopping Counter: 10 out of 15\n",
      "Epoch: 80\n",
      "Train loss: 0.001916443674187911 Train MCC: 0.6993960858534582\n",
      "Validation loss: 0.0023837716051354164 Validation MCC: 0.5581066631608198\n",
      "Early Stopping Counter: 11 out of 15\n",
      "Epoch: 81\n",
      "Train loss: 0.0017978735517656973 Train MCC: 0.7209172202762184\n",
      "Validation loss: 0.0024810645089705682 Validation MCC: 0.5528758505902849\n",
      "Early Stopping Counter: 12 out of 15\n",
      "Epoch: 82\n",
      "Train loss: 0.0019422353169564425 Train MCC: 0.6965516847257883\n",
      "Validation loss: 0.0023857120761396375 Validation MCC: 0.562452789171331\n",
      "Early Stopping Counter: 13 out of 15\n",
      "Epoch: 83\n",
      "Train loss: 0.001876818848568857 Train MCC: 0.6935220312218235\n",
      "Validation loss: 0.002492655620349969 Validation MCC: 0.5559685712615987\n",
      "Early Stopping Counter: 14 out of 15\n",
      "Epoch: 84\n",
      "Train loss: 0.0019450288069875617 Train MCC: 0.6920603523433139\n",
      "Validation loss: 0.002379727551071547 Validation MCC: 0.5925513914694948\n",
      "Early Stopping\n"
     ]
    }
   ],
   "source": [
    "train_loss, val_loss = [], []\n",
    "\n",
    "for epoch in range(1, epochs+1):\n",
    "    train_runner.run_epoch()\n",
    "    val_runner.run_epoch()\n",
    "    \n",
    "    train_runner.follow_performance(epoch)\n",
    "    val_runner.follow_performance(epoch)\n",
    "    stopper.evaluate_epoch(val_runner, net, epoch)\n",
    "    \n",
    "    train_loss.append(train_runner.loss)\n",
    "    val_loss.append(val_runner.loss)\n",
    "    \n",
    "    train_runner.reset()\n",
    "    val_runner.reset()\n",
    "\n",
    "    if stopper.stop:\n",
    "        break\n"
   ]
  },
  {
   "cell_type": "code",
   "execution_count": 8,
   "metadata": {},
   "outputs": [
    {
     "data": {
      "text/plain": [
       "(Text(0.5, 0, 'Epoch'), Text(0, 0.5, 'Loss'))"
      ]
     },
     "execution_count": 8,
     "metadata": {},
     "output_type": "execute_result"
    },
    {
     "data": {
      "image/png": "[encoded data removed]",
      "text/plain": [
       "<Figure size 432x288 with 1 Axes>"
      ]
     },
     "metadata": {},
     "output_type": "display_data"
    }
   ],
   "source": [
    "# Plots of training epochs\n",
    "epoch = np.arange(1, len(train_loss) + 1)\n",
    "plt.figure()\n",
    "plt.plot(epoch, train_loss, \"r\", epoch, val_loss, \"b\", linewidth=3)\n",
    "plt.vlines(stopper.best_epoch, ymin=0, ymax=0.005, colors=\"black\", linestyles='dashed')\n",
    "plt.legend([\"Train Loss\", \"Validation Loss\", \"Best Epoch\"])\n",
    "plt.xlabel(\"Epoch\"), plt.ylabel(\"Loss\")"
   ]
  },
  {
   "cell_type": "markdown",
   "metadata": {},
   "source": [
    "## Evaluate using the best model\n",
    "\n",
    "Best model is stored as early_stopping_state.pt and loaded into a new object"
   ]
  },
  {
   "cell_type": "code",
   "execution_count": 9,
   "metadata": {},
   "outputs": [],
   "source": [
    "final_model = Net(n_local_feat, n_global_feat)\n",
    "final_model.load_state_dict(torch.load(model_path + model_name))\n",
    "train_runner.model = final_model\n",
    "val_runner.model = final_model\n",
    "test_runner.model = final_model"
   ]
  },
  {
   "cell_type": "code",
   "execution_count": 10,
   "metadata": {},
   "outputs": [],
   "source": [
    "train_runner.reset()\n",
    "val_runner.reset()\n",
    "test_runner.reset()\n",
    "\n",
    "train_runner.evaluation_mode() # Set to validation to avoid more training\n",
    "train_runner.run_epoch()\n",
    "val_runner.run_epoch()\n",
    "test_runner.run_epoch()"
   ]
  },
  {
   "cell_type": "code",
   "execution_count": 14,
   "metadata": {},
   "outputs": [
    {
     "name": "stdout",
     "output_type": "stream",
     "text": [
      "Evaluation on Training Data:\n",
      "Loss: 0.0017659547796660064\n",
      "MCC: 0.7455850947761212\n",
      "Confussion Matrix:\n",
      " [[2895  240]\n",
      " [ 169  876]] \n",
      "\n",
      "Evaluation on Validation Data:\n",
      "Loss: 0.0022076505820998044\n",
      "MCC: 0.627257302463863\n",
      "Confussion Matrix:\n",
      " [[1013  133]\n",
      " [  89  291]] \n",
      "\n",
      "Evaluation on Test Data:\n",
      "Loss: 0.002706842967667852\n",
      "MCC: 0.5360964443395385\n",
      "Confussion Matrix:\n",
      " [[790 116]\n",
      " [ 98 203]] \n",
      "\n"
     ]
    },
    {
     "data": {
      "text/plain": [
       "Text(0.5, 1.0, 'Test Data')"
      ]
     },
     "execution_count": 14,
     "metadata": {},
     "output_type": "execute_result"
    },
    {
     "data": {
      "image/png": "[encoded data removed]",
      "text/plain": [
       "<Figure size 432x288 with 1 Axes>"
      ]
     },
     "metadata": {},
     "output_type": "display_data"
    },
    {
     "data": {
      "image/png": "[encoded data removed]",
      "text/plain": [
       "<Figure size 432x288 with 1 Axes>"
      ]
     },
     "metadata": {},
     "output_type": "display_data"
    },
    {
     "data": {
      "image/png": "[encoded data removed]",
      "text/plain": [
       "<Figure size 432x288 with 1 Axes>"
      ]
     },
     "metadata": {},
     "output_type": "display_data"
    }
   ],
   "source": [
    "print(\"Evaluation on Training Data:\")\n",
    "train_runner.evaluate_model()\n",
    "plt.title(\"Training Data\")\n",
    "\n",
    "print(\"Evaluation on Validation Data:\")\n",
    "val_runner.evaluate_model()\n",
    "plt.title(\"Evaluation Data\")\n",
    "\n",
    "print(\"Evaluation on Test Data:\")\n",
    "test_runner.evaluate_model()\n",
    "plt.title(\"Test Data\")\n",
    "\n"
   ]
  },
  {
   "cell_type": "code",
   "execution_count": null,
   "metadata": {},
   "outputs": [],
   "source": []
  }
 ],
 "metadata": {
  "interpreter": {
   "hash": "fbb00a27a4f078702c0f2a6d392c8a7b9999206f8e78388d45f2789c1f256334"
  },
  "kernelspec": {
   "display_name": "Python 3.8.3 64-bit ('base': conda)",
   "language": "python",
   "name": "python3"
  },
  "language_info": {
   "codemirror_mode": {
    "name": "ipython",
    "version": 3
   },
   "file_extension": ".py",
   "mimetype": "text/x-python",
   "name": "python",
   "nbconvert_exporter": "python",
   "pygments_lexer": "ipython3",
   "version": "3.8.3"
  },
  "orig_nbformat": 4
 },
 "nbformat": 4,
 "nbformat_minor": 2
}
