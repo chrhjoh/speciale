{
 "cells": [
  {
   "cell_type": "markdown",
   "metadata": {},
   "source": [
    "# CNN on TCRs\n",
    "\n",
    "Here I use a network doing a CNN over the input. The model architecture is a CNN of the local features. These then get pooled down to the number of channels, which is then fed into a dense layer. Difference is here that the pooling happens over the entire CNN, and not just over the individual CDRs. The hope is it chooses to remember the CDRs, which are known to be more important for binding"
   ]
  },
  {
   "cell_type": "markdown",
   "metadata": {},
   "source": [
    "### Load Libraries"
   ]
  },
  {
   "cell_type": "code",
   "execution_count": 96,
   "metadata": {},
   "outputs": [],
   "source": [
    "import torch\n",
    "import matplotlib.pyplot as plt\n",
    "import seaborn as sns\n",
    "import numpy as np\n",
    "from torch import nn, optim, cuda\n",
    "from torch.utils.data.dataloader import DataLoader\n",
    "from utils import Runner, EarlyStopping, TcrDataset, setup_seed\n",
    "from cnn_network import TcrCNN"
   ]
  },
  {
   "cell_type": "markdown",
   "metadata": {},
   "source": [
    "Set general plotting parameters for matplotlib using seaborn"
   ]
  },
  {
   "cell_type": "code",
   "execution_count": 23,
   "metadata": {},
   "outputs": [],
   "source": [
    "custom_params = {\"axes.spines.right\": False, \"axes.spines.top\": False}\n",
    "sns.set_theme(style=\"ticks\", rc=custom_params, palette=\"pastel\")"
   ]
  },
  {
   "cell_type": "markdown",
   "metadata": {},
   "source": [
    "### General parameters"
   ]
  },
  {
   "cell_type": "code",
   "execution_count": 70,
   "metadata": {},
   "outputs": [],
   "source": [
    "# General parameters\n",
    "data_dir = \"../../data/\"\n",
    "data_files = [data_dir+f\"datasets/P{i}_input_tcrs.npz\" for i in range(1,6)]\n",
    "label_files = [data_dir+f\"datasets/P{i}_labels.npz\" for i in range(1,6)]\n",
    "model_name = \"tcr_model.pt\"\n",
    "model_path = \"stored_models/\"\n",
    "\n",
    "batch_size = 64\n",
    "seed= 12\n",
    "\n",
    "setup_seed(seed)\n",
    "device = torch.device(\"cuda\" if cuda.is_available() else \"cpu\")\n",
    "#device= torch.device(\"cpu\")"
   ]
  },
  {
   "cell_type": "markdown",
   "metadata": {},
   "source": [
    "## Define indexing"
   ]
  },
  {
   "cell_type": "code",
   "execution_count": 71,
   "metadata": {},
   "outputs": [],
   "source": [
    "\n",
    "########### Select Indexes TCR Data ############\n",
    "\n",
    "# Full model\n",
    "# idx = np.arange(417)\n",
    "\n",
    "# Peptide + both TCRs\n",
    "idx = np.arange(179,417)\n",
    "\n",
    "########### Select Features ###########\n",
    "\n",
    "# All features\n",
    "#local_features = np.arange(27)\n",
    "#global_features = np.arange(27, 54)\n",
    "#use_global_features = True\n",
    "\n",
    "# Sequence\n",
    "local_features = np.arange(20)\n",
    "global_features = None\n",
    "use_global_features = False\n",
    "\n",
    "# Energy terms\n",
    "#local_features = np.arange(20, 27)\n",
    "#global_features = np.arange(27, 54)\n",
    "#use_global_features = True\n",
    "\n",
    "# Sequence and global energy\n",
    "#local_features = np.arange(20)\n",
    "#global_features = np.arange(27, 54)\n",
    "#use_global_features = True\n"
   ]
  },
  {
   "cell_type": "markdown",
   "metadata": {},
   "source": [
    "## Load Data\n",
    "Partitions can be changed by altering the `data_files` and `label_files` indexing"
   ]
  },
  {
   "cell_type": "code",
   "execution_count": 72,
   "metadata": {},
   "outputs": [],
   "source": [
    "train_data = TcrDataset(data_files[0], label_files[0])\n",
    "train_data.add_partition(data_files[1], label_files[1])\n",
    "train_data.add_partition(data_files[2], label_files[2])\n",
    "val_data = TcrDataset(data_files[3], label_files[3])\n",
    "test_data = TcrDataset(data_files[4], label_files[4])\n",
    "\n",
    "\n",
    "# Shuffle data randomly is needed\n",
    "train_data.shuffle_data()\n",
    "val_data.shuffle_data()\n",
    "#test_data.shuffle_data()\n",
    "\n",
    "# slicing sequence dimension\n",
    "train_data.slice_sequences(idx)\n",
    "val_data.slice_sequences(idx)\n",
    "test_data.slice_sequences(idx)\n",
    "\n",
    "train_data.to_blossum()\n",
    "val_data.to_blossum()\n",
    "test_data.to_blossum()\n",
    "\n",
    "input_len = train_data.data.shape[2]\n"
   ]
  },
  {
   "cell_type": "code",
   "execution_count": 73,
   "metadata": {},
   "outputs": [],
   "source": [
    "train_dl = DataLoader(train_data, batch_size)\n",
    "val_dl = DataLoader(val_data, batch_size)\n",
    "test_dl = DataLoader(test_data, batch_size)"
   ]
  },
  {
   "cell_type": "code",
   "execution_count": 74,
   "metadata": {},
   "outputs": [
    {
     "data": {
      "text/plain": [
       "(4174, 1532, 1207)"
      ]
     },
     "execution_count": 74,
     "metadata": {},
     "output_type": "execute_result"
    }
   ],
   "source": [
    "len(train_data), len(val_data), len(test_data)"
   ]
  },
  {
   "cell_type": "code",
   "execution_count": 75,
   "metadata": {},
   "outputs": [
    {
     "data": {
      "text/plain": [
       "(4174, 54, 238)"
      ]
     },
     "execution_count": 75,
     "metadata": {},
     "output_type": "execute_result"
    }
   ],
   "source": [
    "train_data.data.shape"
   ]
  },
  {
   "cell_type": "code",
   "execution_count": 76,
   "metadata": {},
   "outputs": [],
   "source": [
    "#Hyperparameters\n",
    "epochs = 100\n",
    "patience = 20\n",
    "lr = 0.005\n",
    "loss_weight = sum(train_data.labels) / len(train_data.labels)\n",
    "weight_decay = 0.0005\n",
    "\n",
    "# Layer parameters\n",
    "cnn_channels = 3\n",
    "hidden_neurons = 32\n",
    "dropout = 0.4\n",
    "cnn_kernel = 3\n",
    "\n",
    "# Loss and optimizer\n",
    "criterion = nn.BCELoss(reduction='none')\n",
    "stopper = EarlyStopping(patience, model_name, model_path)\n"
   ]
  },
  {
   "cell_type": "code",
   "execution_count": 77,
   "metadata": {},
   "outputs": [
    {
     "name": "stdout",
     "output_type": "stream",
     "text": [
      "TcrCNN(\n",
      "  (tcr_a_conv): Conv1d(20, 3, kernel_size=(3,), stride=(1,), padding=same)\n",
      "  (tcr_b_conv): Conv1d(20, 3, kernel_size=(3,), stride=(1,), padding=same)\n",
      "  (pep_conv): Conv1d(20, 3, kernel_size=(3,), stride=(1,), padding=same)\n",
      "  (max_pool): AdaptiveMaxPool1d(output_size=1)\n",
      "  (max_pool_index): AdaptiveMaxPool1d(output_size=1)\n",
      "  (dense1): Linear(in_features=9, out_features=32, bias=True)\n",
      "  (dense_out): Linear(in_features=32, out_features=1, bias=True)\n",
      "  (dropout): Dropout(p=0.4, inplace=False)\n",
      "  (bn_dense): BatchNorm1d(9, eps=1e-05, momentum=0.1, affine=True, track_running_stats=True)\n",
      "  (bn_start): BatchNorm1d(20, eps=1e-05, momentum=0.1, affine=True, track_running_stats=True)\n",
      ")\n",
      "Using Device: cpu\n"
     ]
    }
   ],
   "source": [
    "net = TcrCNN(local_features, global_features, use_global_features, cnn_channels=cnn_channels, dropout=dropout, cnn_kernel_size=cnn_kernel, dense_neurons=hidden_neurons)\n",
    "net.to(device)\n",
    "print(net)\n",
    "print(\"Using Device:\", device)\n",
    "optimizer = optim.Adam(net.parameters(), lr=lr,\n",
    "    weight_decay=weight_decay,\n",
    "    amsgrad=True\n",
    ")"
   ]
  },
  {
   "cell_type": "code",
   "execution_count": 78,
   "metadata": {},
   "outputs": [],
   "source": [
    "# Define runners\n",
    "train_runner = Runner(train_dl, net, criterion, loss_weight, device, optimizer)\n",
    "val_runner = Runner(val_dl, net, criterion, loss_weight, device)\n",
    "test_runner = Runner(test_dl, net, criterion, loss_weight, device)"
   ]
  },
  {
   "cell_type": "markdown",
   "metadata": {},
   "source": [
    "## Training Loop"
   ]
  },
  {
   "cell_type": "code",
   "execution_count": 79,
   "metadata": {},
   "outputs": [
    {
     "name": "stdout",
     "output_type": "stream",
     "text": [
      "Epoch: 1\n",
      "Train loss: 0.28860918680826825 Train MCC: 0.012150003411181075 Train AUC: 0.5037649254920418\n",
      "Validation loss: 0.2586815357208252 Validation MCC: 0.10083768205214311 Validation AUC: 0.5617553690688009\n",
      "Validation loss decreased. Counter reset\n",
      "Epoch: 2\n",
      "Train loss: 0.2668546907829516 Train MCC: 0.040724594360997145 Train AUC: 0.526312805955734\n",
      "Validation loss: 0.26347702741622925 Validation MCC: 0.02738798776283828 Validation AUC: 0.6727509674663177\n",
      "Early Stopping Counter: 1 out of 20\n",
      "Epoch: 3\n",
      "Train loss: 0.25989876371441467 Train MCC: 0.05119812243796839 Train AUC: 0.5523881400097562\n",
      "Validation loss: 0.24914564689000449 Validation MCC: 0.06117943827427604 Validation AUC: 0.6997775338755234\n",
      "Validation loss decreased. Counter reset\n",
      "Epoch: 4\n",
      "Train loss: 0.2560324524388169 Train MCC: 0.1076414490958243 Train AUC: 0.5835749418423652\n",
      "Validation loss: 0.2517680327097575 Validation MCC: 0.05645714951678252 Validation AUC: 0.700366080619542\n",
      "Early Stopping Counter: 1 out of 20\n",
      "Epoch: 5\n",
      "Train loss: 0.25379120219837537 Train MCC: 0.14412776306465686 Train AUC: 0.6097927590374145\n",
      "Validation loss: 0.2519630392392476 Validation MCC: 0.009803241073353796 Validation AUC: 0.7103725114584825\n",
      "Early Stopping Counter: 2 out of 20\n",
      "Epoch: 6\n",
      "Train loss: 0.25248958125258936 Train MCC: 0.14846728457169533 Train AUC: 0.6122788600368189\n",
      "Validation loss: 0.24882707993189493 Validation MCC: 0.05104771655421759 Validation AUC: 0.700431979675822\n",
      "Validation loss decreased. Counter reset\n",
      "Epoch: 7\n",
      "Train loss: 0.25182917623808887 Train MCC: 0.15363232394420542 Train AUC: 0.6202438208279097\n",
      "Validation loss: 0.24886874357859293 Validation MCC: -0.019592348250153702 Validation AUC: 0.6940624950291661\n",
      "Early Stopping Counter: 1 out of 20\n",
      "Epoch: 8\n",
      "Train loss: 0.2487362948330966 Train MCC: 0.19482330641394158 Train AUC: 0.6418497804840383\n",
      "Validation loss: 0.24273540576299033 Validation MCC: 0.05509886957391989 Validation AUC: 0.6961405876832392\n",
      "Validation loss decreased. Counter reset\n",
      "Epoch: 9\n",
      "Train loss: 0.2462982986912583 Train MCC: 0.20772552575364897 Train AUC: 0.655001740439228\n",
      "Validation loss: 0.24891378482182822 Validation MCC: 0.06449327657586852 Validation AUC: 0.7087932064890119\n",
      "Early Stopping Counter: 1 out of 20\n",
      "Epoch: 10\n",
      "Train loss: 0.24641366438432175 Train MCC: 0.20851077688368738 Train AUC: 0.6532570113962\n",
      "Validation loss: 0.24670116106669107 Validation MCC: 0.08934231147982888 Validation AUC: 0.7090102188984859\n",
      "Early Stopping Counter: 2 out of 20\n",
      "Epoch: 11\n",
      "Train loss: 0.2435931581439394 Train MCC: 0.23650427320527737 Train AUC: 0.6652164027817612\n",
      "Validation loss: 0.23163135846455893 Validation MCC: 0.16431341352744028 Validation AUC: 0.7050596840935586\n",
      "Validation loss decreased. Counter reset\n",
      "Epoch: 12\n",
      "Train loss: 0.24283059438069662 Train MCC: 0.22936569331074044 Train AUC: 0.6699846853604547\n",
      "Validation loss: 0.22932217518488565 Validation MCC: 0.15307437752851874 Validation AUC: 0.7145082453353694\n",
      "Validation loss decreased. Counter reset\n",
      "Epoch: 13\n",
      "Train loss: 0.24014848651308002 Train MCC: 0.24870461366148391 Train AUC: 0.6820861002640075\n",
      "Validation loss: 0.22687373558680216 Validation MCC: 0.17185365505707664 Validation AUC: 0.7158762188484935\n",
      "Validation loss decreased. Counter reset\n",
      "Epoch: 14\n",
      "Train loss: 0.2394457585883863 Train MCC: 0.2557878569755072 Train AUC: 0.680248527367794\n",
      "Validation loss: 0.22188522418340048 Validation MCC: 0.186302643661714 Validation AUC: 0.7290878434420212\n",
      "Validation loss decreased. Counter reset\n",
      "Epoch: 15\n",
      "Train loss: 0.23273680426857687 Train MCC: 0.29325290660428555 Train AUC: 0.7091327709998703\n",
      "Validation loss: 0.21555922428766885 Validation MCC: 0.23700021145419164 Validation AUC: 0.7356084414418713\n",
      "Validation loss decreased. Counter reset\n",
      "Epoch: 16\n",
      "Train loss: 0.23277818795406457 Train MCC: 0.2907134633820474 Train AUC: 0.7046502207416232\n",
      "Validation loss: 0.21427766482035318 Validation MCC: 0.2793239811115167 Validation AUC: 0.7374195292989477\n",
      "Validation loss decreased. Counter reset\n",
      "Epoch: 17\n",
      "Train loss: 0.2318971518314246 Train MCC: 0.29232726807445514 Train AUC: 0.7074929892166308\n",
      "Validation loss: 0.2064495881398519 Validation MCC: 0.36229948687444463 Validation AUC: 0.7505482119768127\n",
      "Validation loss decreased. Counter reset\n",
      "Epoch: 18\n",
      "Train loss: 0.22825713591142135 Train MCC: 0.31371915739541095 Train AUC: 0.7206006721527273\n",
      "Validation loss: 0.21439707279205322 Validation MCC: 0.2646843054786834 Validation AUC: 0.7431425214796838\n",
      "Early Stopping Counter: 1 out of 20\n",
      "Epoch: 19\n",
      "Train loss: 0.22929801362933536 Train MCC: 0.31098829044749565 Train AUC: 0.715760228757449\n",
      "Validation loss: 0.21888959407806396 Validation MCC: 0.24024105493089856 Validation AUC: 0.7366139701454552\n",
      "Early Stopping Counter: 2 out of 20\n",
      "Epoch: 20\n",
      "Train loss: 0.23009421608664773 Train MCC: 0.29300198516421155 Train AUC: 0.7133867354017596\n",
      "Validation loss: 0.21741839249928793 Validation MCC: 0.25347086083207976 Validation AUC: 0.7426778195138468\n",
      "Early Stopping Counter: 3 out of 20\n",
      "Epoch: 21\n",
      "Train loss: 0.22991300351691968 Train MCC: 0.2910326581693782 Train AUC: 0.7106939572440267\n",
      "Validation loss: 0.22005689144134521 Validation MCC: 0.2438268731245627 Validation AUC: 0.7497051585326779\n",
      "Early Stopping Counter: 4 out of 20\n",
      "Epoch: 22\n",
      "Train loss: 0.22712836121067856 Train MCC: 0.3327837773524924 Train AUC: 0.725271055024844\n",
      "Validation loss: 0.21162287394205728 Validation MCC: 0.271572847692775 Validation AUC: 0.7659492759057144\n",
      "Early Stopping Counter: 5 out of 20\n",
      "Epoch: 23\n",
      "Train loss: 0.22484767798221472 Train MCC: 0.33428852646504964 Train AUC: 0.7309149194863007\n",
      "Validation loss: 0.20623207092285156 Validation MCC: 0.33620705972343 Validation AUC: 0.7732311216246618\n",
      "Validation loss decreased. Counter reset\n",
      "Epoch: 24\n",
      "Train loss: 0.22413591905073685 Train MCC: 0.3377291723780402 Train AUC: 0.7386744287804914\n",
      "Validation loss: 0.20339037974675497 Validation MCC: 0.35639653354066514 Validation AUC: 0.7936268795433423\n",
      "Validation loss decreased. Counter reset\n",
      "Epoch: 25\n",
      "Train loss: 0.22091169068307587 Train MCC: 0.34847925637161326 Train AUC: 0.7455327705096055\n",
      "Validation loss: 0.20001477003097534 Validation MCC: 0.35590319667127646 Validation AUC: 0.7948687358970338\n",
      "Validation loss decreased. Counter reset\n",
      "Epoch: 26\n",
      "Train loss: 0.220068021254106 Train MCC: 0.35392731558356666 Train AUC: 0.7475875918939656\n",
      "Validation loss: 0.20262636741002402 Validation MCC: 0.34525291757803606 Validation AUC: 0.7857814832741379\n",
      "Early Stopping Counter: 1 out of 20\n",
      "Epoch: 27\n",
      "Train loss: 0.22390229774243903 Train MCC: 0.31617198425280224 Train AUC: 0.7364500064960056\n",
      "Validation loss: 0.21096775929133096 Validation MCC: 0.31895419430662814 Validation AUC: 0.7748445123128977\n",
      "Early Stopping Counter: 2 out of 20\n",
      "Epoch: 28\n",
      "Train loss: 0.2218951600970644 Train MCC: 0.3481038121048671 Train AUC: 0.7423678062866625\n",
      "Validation loss: 0.22328619162241617 Validation MCC: 0.27501416531954703 Validation AUC: 0.771425714720713\n",
      "Early Stopping Counter: 3 out of 20\n",
      "Epoch: 29\n",
      "Train loss: 0.2204364574316776 Train MCC: 0.35379698150929123 Train AUC: 0.7406708780393338\n",
      "Validation loss: 0.21062384049097696 Validation MCC: 0.3331712310821223 Validation AUC: 0.7840260687577119\n",
      "Early Stopping Counter: 4 out of 20\n",
      "Epoch: 30\n",
      "Train loss: 0.224336407401345 Train MCC: 0.3259162605406378 Train AUC: 0.7365976986981024\n",
      "Validation loss: 0.21163026491800943 Validation MCC: 0.3153327023170206 Validation AUC: 0.7873903291998718\n",
      "Early Stopping Counter: 5 out of 20\n",
      "Epoch: 31\n",
      "Train loss: 0.22308417522546017 Train MCC: 0.34187670904019907 Train AUC: 0.7314830135582666\n",
      "Validation loss: 0.20492112636566162 Validation MCC: 0.3679572778260339 Validation AUC: 0.7998338889305491\n",
      "Early Stopping Counter: 6 out of 20\n",
      "Epoch: 32\n",
      "Train loss: 0.22032528212576202 Train MCC: 0.34375247691828353 Train AUC: 0.7434540487273957\n",
      "Validation loss: 0.19823066393534342 Validation MCC: 0.38536317012065435 Validation AUC: 0.805909100205196\n",
      "Validation loss decreased. Counter reset\n",
      "Epoch: 33\n",
      "Train loss: 0.21703309723825165 Train MCC: 0.350878992171197 Train AUC: 0.7562309562855595\n",
      "Validation loss: 0.19555584589640299 Validation MCC: 0.4013602173518222 Validation AUC: 0.8138874307775862\n",
      "Validation loss decreased. Counter reset\n",
      "Epoch: 34\n",
      "Train loss: 0.21835291024410364 Train MCC: 0.3548754048372532 Train AUC: 0.7508601079072321\n",
      "Validation loss: 0.19374461968739828 Validation MCC: 0.42125553211774736 Validation AUC: 0.8049933305610282\n",
      "Validation loss decreased. Counter reset\n",
      "Epoch: 35\n",
      "Train loss: 0.2153406287684585 Train MCC: 0.3682083268880356 Train AUC: 0.7609460757998053\n",
      "Validation loss: 0.19388864437739053 Validation MCC: 0.38643789121824546 Validation AUC: 0.8040025723355761\n",
      "Early Stopping Counter: 1 out of 20\n",
      "Epoch: 36\n",
      "Train loss: 0.21833169821536902 Train MCC: 0.352211625986007 Train AUC: 0.7551817901030291\n",
      "Validation loss: 0.21632951498031616 Validation MCC: 0.3184780623527519 Validation AUC: 0.7820513694505609\n",
      "Early Stopping Counter: 2 out of 20\n",
      "Epoch: 37\n",
      "Train loss: 0.21589673649181018 Train MCC: 0.3690293944254582 Train AUC: 0.7600375542661598\n",
      "Validation loss: 0.19173848628997803 Validation MCC: 0.4285858129598021 Validation AUC: 0.8240847416416137\n",
      "Validation loss decreased. Counter reset\n",
      "Epoch: 38\n",
      "Train loss: 0.21620514898589163 Train MCC: 0.3607705354182181 Train AUC: 0.7567230593489778\n",
      "Validation loss: 0.18062752485275269 Validation MCC: 0.4632170939993047 Validation AUC: 0.8371054862100543\n",
      "Validation loss decreased. Counter reset\n",
      "Epoch: 39\n",
      "Train loss: 0.2178908550378048 Train MCC: 0.3429892239069201 Train AUC: 0.7541361476971047\n",
      "Validation loss: 0.19259077310562134 Validation MCC: 0.41755747334041987 Validation AUC: 0.8108867513355922\n",
      "Early Stopping Counter: 1 out of 20\n",
      "Epoch: 40\n",
      "Train loss: 0.220441587043531 Train MCC: 0.33420551443803287 Train AUC: 0.7447068279146841\n",
      "Validation loss: 0.18139799435933432 Validation MCC: 0.5018920335504405 Validation AUC: 0.8365555699473035\n",
      "Early Stopping Counter: 2 out of 20\n",
      "Epoch: 41\n",
      "Train loss: 0.21607319513956705 Train MCC: 0.35855940677978515 Train AUC: 0.7553031305844198\n",
      "Validation loss: 0.19145001967748007 Validation MCC: 0.4030814903942089 Validation AUC: 0.8209465831339319\n",
      "Early Stopping Counter: 3 out of 20\n",
      "Epoch: 42\n",
      "Train loss: 0.21504360256773053 Train MCC: 0.373584203542267 Train AUC: 0.759729913247684\n",
      "Validation loss: 0.1997483770052592 Validation MCC: 0.37955491581416817 Validation AUC: 0.808011052862405\n",
      "Early Stopping Counter: 4 out of 20\n",
      "Epoch: 43\n",
      "Train loss: 0.21775010137846976 Train MCC: 0.355596505038703 Train AUC: 0.7562505668684105\n",
      "Validation loss: 0.21142133076985678 Validation MCC: 0.3281934668090715 Validation AUC: 0.7879538797501289\n",
      "Early Stopping Counter: 5 out of 20\n",
      "Epoch: 44\n",
      "Train loss: 0.21612388437444513 Train MCC: 0.3657778025707468 Train AUC: 0.7592509860446188\n",
      "Validation loss: 0.19957049687703451 Validation MCC: 0.37368111738707743 Validation AUC: 0.8058784230583071\n",
      "Early Stopping Counter: 6 out of 20\n",
      "Epoch: 45\n",
      "Train loss: 0.21600129387595438 Train MCC: 0.359956258976923 Train AUC: 0.7539515324444837\n",
      "Validation loss: 0.19096636772155762 Validation MCC: 0.4225980353598323 Validation AUC: 0.8238677292321397\n",
      "Early Stopping Counter: 7 out of 20\n",
      "Epoch: 46\n",
      "Train loss: 0.21276767326123786 Train MCC: 0.38154670760264203 Train AUC: 0.7675217493620432\n",
      "Validation loss: 0.18888819217681885 Validation MCC: 0.413244036131105 Validation AUC: 0.823798421603983\n",
      "Early Stopping Counter: 8 out of 20\n",
      "Epoch: 47\n",
      "Train loss: 0.21729284344297467 Train MCC: 0.3449627482874622 Train AUC: 0.7567319453943321\n",
      "Validation loss: 0.1874003012975057 Validation MCC: 0.44295381620768787 Validation AUC: 0.8365714766160607\n",
      "Early Stopping Counter: 9 out of 20\n",
      "Epoch: 48\n",
      "Train loss: 0.21500276796745532 Train MCC: 0.3635661926488774 Train AUC: 0.7611470842740284\n",
      "Validation loss: 0.1776750683784485 Validation MCC: 0.5084190355712321 Validation AUC: 0.8510306385164078\n",
      "Validation loss decreased. Counter reset\n",
      "Epoch: 49\n",
      "Train loss: 0.21554952679258405 Train MCC: 0.35159040784058476 Train AUC: 0.7587172104926424\n",
      "Validation loss: 0.18918532133102417 Validation MCC: 0.42827861443278525 Validation AUC: 0.8368089404567941\n",
      "Early Stopping Counter: 1 out of 20\n",
      "Epoch: 50\n",
      "Train loss: 0.2157310861529726 Train MCC: 0.3588228546190783 Train AUC: 0.758366364908823\n",
      "Validation loss: 0.1803550124168396 Validation MCC: 0.48317967474952817 Validation AUC: 0.8430704869940259\n",
      "Early Stopping Counter: 2 out of 20\n",
      "Epoch: 51\n",
      "Train loss: 0.21676599618160364 Train MCC: 0.3552945524111247 Train AUC: 0.758487398974857\n",
      "Validation loss: 0.18906021118164062 Validation MCC: 0.4488761683730746 Validation AUC: 0.8292191870783312\n",
      "Early Stopping Counter: 3 out of 20\n",
      "Epoch: 52\n",
      "Train loss: 0.2107307260686701 Train MCC: 0.3705337624879217 Train AUC: 0.7703398514008084\n",
      "Validation loss: 0.18722389141718546 Validation MCC: 0.4400658799181074 Validation AUC: 0.8295089156878385\n",
      "Early Stopping Counter: 4 out of 20\n",
      "Epoch: 53\n",
      "Train loss: 0.21360015869140625 Train MCC: 0.36938730523680213 Train AUC: 0.7654494623023315\n",
      "Validation loss: 0.19585146506627402 Validation MCC: 0.4292766932581145 Validation AUC: 0.8075917985215889\n",
      "Early Stopping Counter: 5 out of 20\n",
      "Epoch: 54\n",
      "Train loss: 0.21520233154296875 Train MCC: 0.37743112193881123 Train AUC: 0.763931633831197\n",
      "Validation loss: 0.18503657976786295 Validation MCC: 0.4492592086092208 Validation AUC: 0.8367271347317569\n",
      "Early Stopping Counter: 6 out of 20\n",
      "Epoch: 55\n",
      "Train loss: 0.21810401569713245 Train MCC: 0.3528090947337369 Train AUC: 0.7535004890389099\n",
      "Validation loss: 0.18696232636769614 Validation MCC: 0.44586679629619885 Validation AUC: 0.8344695239588518\n",
      "Early Stopping Counter: 7 out of 20\n",
      "Epoch: 56\n",
      "Train loss: 0.21319269411491626 Train MCC: 0.3753444457012165 Train AUC: 0.7682234405296818\n",
      "Validation loss: 0.1932793656984965 Validation MCC: 0.4014319028350885 Validation AUC: 0.8197978944115328\n",
      "Early Stopping Counter: 8 out of 20\n",
      "Epoch: 57\n",
      "Train loss: 0.2148407878297748 Train MCC: 0.3598394787228621 Train AUC: 0.7612843583539858\n",
      "Validation loss: 0.1929421822230021 Validation MCC: 0.4241326844417545 Validation AUC: 0.8185969409203598\n",
      "Early Stopping Counter: 9 out of 20\n",
      "Epoch: 58\n",
      "Train loss: 0.2200761419354063 Train MCC: 0.3498599165690274 Train AUC: 0.743681715337682\n",
      "Validation loss: 0.19168945153554282 Validation MCC: 0.4311663061980965 Validation AUC: 0.8288260651219018\n",
      "Early Stopping Counter: 10 out of 20\n",
      "Epoch: 59\n",
      "Train loss: 0.21409895925810843 Train MCC: 0.39427878246831777 Train AUC: 0.764547988321898\n",
      "Validation loss: 0.19253637393315634 Validation MCC: 0.4462409946693886 Validation AUC: 0.8287124460593501\n",
      "Early Stopping Counter: 11 out of 20\n",
      "Epoch: 60\n",
      "Train loss: 0.2170223178285541 Train MCC: 0.3518156191205307 Train AUC: 0.7530482199719079\n",
      "Validation loss: 0.19083680709203085 Validation MCC: 0.42088494280232264 Validation AUC: 0.8295645890284888\n",
      "Early Stopping Counter: 12 out of 20\n",
      "Epoch: 61\n",
      "Train loss: 0.21623780510642313 Train MCC: 0.35938030817363725 Train AUC: 0.7550291952552195\n",
      "Validation loss: 0.18877647320429483 Validation MCC: 0.4506944563651351 Validation AUC: 0.8322721312890992\n",
      "Early Stopping Counter: 13 out of 20\n",
      "Epoch: 62\n",
      "Train loss: 0.22018766403198242 Train MCC: 0.36675714726887315 Train AUC: 0.7484204288344205\n",
      "Validation loss: 0.20662627617518106 Validation MCC: 0.3427236279085887 Validation AUC: 0.81709603310405\n",
      "Early Stopping Counter: 14 out of 20\n",
      "Epoch: 63\n",
      "Train loss: 0.21520488912409003 Train MCC: 0.3718056140460291 Train AUC: 0.7620240450258982\n",
      "Validation loss: 0.20301489035288492 Validation MCC: 0.41124518595027165 Validation AUC: 0.8113923561639478\n",
      "Early Stopping Counter: 15 out of 20\n",
      "Epoch: 64\n",
      "Train loss: 0.21398996584343188 Train MCC: 0.3696289866928088 Train AUC: 0.7641658883716598\n",
      "Validation loss: 0.197294811407725 Validation MCC: 0.4194350119119349 Validation AUC: 0.8270899658461098\n",
      "Early Stopping Counter: 16 out of 20\n",
      "Epoch: 65\n",
      "Train loss: 0.21656719843546549 Train MCC: 0.35926913117617415 Train AUC: 0.759063766261463\n",
      "Validation loss: 0.1915971835454305 Validation MCC: 0.42116916572568885 Validation AUC: 0.8245517159887018\n",
      "Early Stopping Counter: 17 out of 20\n",
      "Epoch: 66\n",
      "Train loss: 0.2145514777212432 Train MCC: 0.3672058589866655 Train AUC: 0.7618745143316591\n",
      "Validation loss: 0.19081149498621622 Validation MCC: 0.41725580893896724 Validation AUC: 0.8215203593998186\n",
      "Early Stopping Counter: 18 out of 20\n",
      "Epoch: 67\n",
      "Train loss: 0.2128675923202977 Train MCC: 0.3891169837135349 Train AUC: 0.7705376425137825\n",
      "Validation loss: 0.2049246827761332 Validation MCC: 0.3616981362744988 Validation AUC: 0.8018926663439886\n",
      "Early Stopping Counter: 19 out of 20\n",
      "Epoch: 68\n",
      "Train loss: 0.21312637040109345 Train MCC: 0.37757557008827536 Train AUC: 0.7684846596215648\n",
      "Validation loss: 0.20266064008076987 Validation MCC: 0.3694542480887928 Validation AUC: 0.8113559980639312\n",
      "Early Stopping\n"
     ]
    }
   ],
   "source": [
    "train_loss, val_loss, train_auc, val_auc = [], [], [], []\n",
    "\n",
    "for epoch in range(1, epochs+1):\n",
    "    train_runner.run_epoch()\n",
    "    val_runner.run_epoch()\n",
    "    \n",
    "    train_runner.follow_performance(epoch)\n",
    "    val_runner.follow_performance(epoch)\n",
    "    stopper.evaluate_epoch(val_runner.loss, net, epoch)\n",
    "    \n",
    "    train_loss.append(train_runner.loss)\n",
    "    val_loss.append(val_runner.loss)\n",
    "    train_auc.append(train_runner.auc)\n",
    "    val_auc.append(val_runner.auc)\n",
    "    \n",
    "    train_runner.reset()\n",
    "    val_runner.reset()\n",
    "\n",
    "    if stopper.stop:\n",
    "        break\n"
   ]
  },
  {
   "cell_type": "code",
   "execution_count": 87,
   "metadata": {},
   "outputs": [
    {
     "data": {
      "text/plain": [
       "(Text(0.5, 0, 'Epoch'), Text(0, 0.5, 'Loss'))"
      ]
     },
     "execution_count": 87,
     "metadata": {},
     "output_type": "execute_result"
    },
    {
     "data": {
      "image/png": "[encoded data removed]",
      "text/plain": [
       "<Figure size 432x288 with 1 Axes>"
      ]
     },
     "metadata": {},
     "output_type": "display_data"
    },
    {
     "data": {
      "image/png": "[encoded data removed]",
      "text/plain": [
       "<Figure size 432x288 with 1 Axes>"
      ]
     },
     "metadata": {},
     "output_type": "display_data"
    }
   ],
   "source": [
    "# Plots of training epochs\n",
    "epoch = np.arange(1, len(train_loss) + 1)\n",
    "plt.figure()\n",
    "plt.plot(epoch, train_loss, \"r\", epoch, val_loss, \"b\", linewidth=3)\n",
    "plt.vlines(stopper.best_epoch, ymin=0, ymax=0.3, colors=\"black\", linestyles='dashed')\n",
    "plt.legend([\"Train Loss\", \"Validation Loss\", \"Best Epoch\"])\n",
    "plt.xlabel(\"Epoch\"), plt.ylabel(\"Loss\")\n",
    "\n",
    "epoch = np.arange(1, len(train_loss) + 1)\n",
    "plt.figure()\n",
    "plt.plot(epoch, train_auc, \"r\", epoch, val_auc, \"b\", linewidth=3)\n",
    "plt.vlines(stopper.best_epoch, ymin=0, ymax=1, colors=\"black\", linestyles='dashed')\n",
    "plt.legend([\"Train AUC\", \"Validation AUC\", \"Best Epoch\"])\n",
    "plt.xlabel(\"Epoch\"), plt.ylabel(\"Loss\")"
   ]
  },
  {
   "cell_type": "markdown",
   "metadata": {},
   "source": [
    "## Evaluate using the best model\n",
    "\n",
    "Best model is stored as early_stopping_state.pt and loaded into a new object"
   ]
  },
  {
   "cell_type": "code",
   "execution_count": 88,
   "metadata": {},
   "outputs": [],
   "source": [
    "final_model = TcrCNN(local_features, global_features, use_global_features, cnn_channels=cnn_channels, dropout=dropout, cnn_kernel_size=cnn_kernel, dense_neurons=hidden_neurons)\n",
    "final_model.load_state_dict(torch.load(model_path + model_name))\n",
    "final_model.to(device)\n",
    "\n",
    "train_runner.model = final_model\n",
    "val_runner.model = final_model\n",
    "test_runner.model = final_model"
   ]
  },
  {
   "cell_type": "code",
   "execution_count": 89,
   "metadata": {},
   "outputs": [],
   "source": [
    "train_runner.reset()\n",
    "val_runner.reset()\n",
    "test_runner.reset()\n",
    "\n",
    "train_runner.evaluation_mode() # Set to validation to avoid more training\n",
    "train_runner.run_epoch()\n",
    "val_runner.run_epoch()\n",
    "test_runner.run_epoch()"
   ]
  },
  {
   "cell_type": "code",
   "execution_count": 90,
   "metadata": {},
   "outputs": [
    {
     "name": "stdout",
     "output_type": "stream",
     "text": [
      "Evaluation on Training Data:\n",
      "Loss: 0.16899575609149356\n",
      "MCC: 0.5633140678609674\n",
      "Confussion Matrix:\n",
      " [[2825  307]\n",
      " [ 364  678]] \n",
      "\n",
      "Evaluation on Validation Data:\n",
      "Loss: 0.1776750683784485\n",
      "MCC: 0.5084190355712321\n",
      "Confussion Matrix:\n",
      " [[1014  135]\n",
      " [ 145  238]] \n",
      "\n",
      "Evaluation on Test Data:\n",
      "Loss: 0.18256966691268117\n",
      "MCC: 0.5001553432338169\n",
      "Confussion Matrix:\n",
      " [[823  83]\n",
      " [132 169]] \n",
      "\n"
     ]
    },
    {
     "data": {
      "text/plain": [
       "Text(0.5, 1.0, 'Test Data')"
      ]
     },
     "execution_count": 90,
     "metadata": {},
     "output_type": "execute_result"
    },
    {
     "data": {
      "image/png": "[encoded data removed]",
      "text/plain": [
       "<Figure size 432x288 with 1 Axes>"
      ]
     },
     "metadata": {},
     "output_type": "display_data"
    },
    {
     "data": {
      "image/png": "[encoded data removed]",
      "text/plain": [
       "<Figure size 432x288 with 1 Axes>"
      ]
     },
     "metadata": {},
     "output_type": "display_data"
    },
    {
     "data": {
      "image/png": "[encoded data removed]",
      "text/plain": [
       "<Figure size 432x288 with 1 Axes>"
      ]
     },
     "metadata": {},
     "output_type": "display_data"
    }
   ],
   "source": [
    "print(\"Evaluation on Training Data:\")\n",
    "train_runner.evaluate_model()\n",
    "plt.title(\"Training Data\")\n",
    "\n",
    "print(\"Evaluation on Validation Data:\")\n",
    "val_runner.evaluate_model()\n",
    "plt.title(\"Evaluation Data\")\n",
    "\n",
    "print(\"Evaluation on Test Data:\")\n",
    "test_runner.evaluate_model()\n",
    "plt.title(\"Test Data\")\n"
   ]
  },
  {
   "cell_type": "markdown",
   "metadata": {},
   "source": [
    "## Find maxpooling positions for TCRs\n",
    "First the positions from IGblast is needed for the CDR positions of each TCR"
   ]
  },
  {
   "cell_type": "code",
   "execution_count": 91,
   "metadata": {},
   "outputs": [],
   "source": [
    "def parse_igblast(filename):\n",
    "    \"\"\"\n",
    "    Parses the output from igblast and returns a dict with CDR idxs\n",
    "    Key will be the query name\n",
    "    \"\"\"\n",
    "    features = dict()\n",
    "    with open(filename, \"r\") as fh:\n",
    "        for line in fh:\n",
    "            if line.startswith(\"# Query\"):\n",
    "                id = line.split()[-1]\n",
    "                features[id] = dict()\n",
    "\n",
    "            elif line.startswith(\"CDR1\") or line.startswith(\"CDR2\"):\n",
    "                line = line.split()\n",
    "                feat = line[0][:4]\n",
    "\n",
    "                features[id][feat+\"-start\"] = int(line[1])\n",
    "                features[id][feat+\"-stop\"] = int(line[2])\n",
    "\n",
    "            elif line.startswith(\"FR3\"):\n",
    "                line = line.split()\n",
    "                features[id][\"CDR3-start\"] = int(line[2])+1\n",
    "\n",
    "    return features\n",
    "\n",
    "def find_cdr3_stop(seq, feat):\n",
    "    \"\"\"\n",
    "    Finds the missing CDR3 stop, by using that the CDR3 allways ends on either FG or WG\n",
    "    and is atleast 8 amino acids long \n",
    "    \"\"\"\n",
    "        \n",
    "    cdr3_start = feat[\"CDR3-start\"]\n",
    "    cdr3_end = seq[cdr3_start-1:].find(\"FG\", 7)\n",
    "    if cdr3_end == -1:\n",
    "        cdr3_end = seq[cdr3_start-1:].find(\"WG\", 7)\n",
    "\n",
    "    if cdr3_end ==-1:\n",
    "        print(\"Error in\",seq[cdr3_start-1:])\n",
    "    \n",
    "    feat[\"CDR3-stop\"] = cdr3_start + cdr3_end\n",
    "    return feat\n",
    "    \n",
    "def load_sequences(file_path) -> dict:\n",
    "    \"\"\"\n",
    "    Loads a Fasta file into a dict with header as key and sequences as values\n",
    "    \"\"\"\n",
    "    headers = []\n",
    "    sequences = []\n",
    "    seq_lst = []\n",
    "    with open(file_path, 'r') as fh:\n",
    "        for line in fh:\n",
    "            if line.startswith('>'):\n",
    "                headers.append(line[1:].strip())\n",
    "\n",
    "                if len(seq_lst) != 0:\n",
    "                    sequences.append(\"\".join(seq_lst))\n",
    "\n",
    "                seq_lst = []\n",
    "\n",
    "            else:\n",
    "                seq_lst.append(line.strip())\n",
    "    sequences.append(\"\".join(seq_lst))\n",
    "\n",
    "    return dict(zip(headers, sequences))\n",
    "\n",
    "def increment_annotation_count(idx ,annotation, counter):\n",
    "    \"\"\"\n",
    "    Find which feature the corresponding index overlaps with \n",
    "    + 1 is because sequence idx is 0 based while annotation is 1 based\n",
    "    + 2 is because of a kernel size of 3 and we want all with overlap\n",
    "    \"\"\"\n",
    "    if idx + 2 < annotation[\"CDR1-start\"]:\n",
    "        counter[\"FR1\"] += 1\n",
    "    elif idx <= annotation[\"CDR1-stop\"] :\n",
    "        counter[\"CDR1\"] += 1   \n",
    "    elif idx + 2 < annotation[\"CDR2-start\"]:\n",
    "        counter[\"FR2\"] += 1\n",
    "    elif idx <= annotation[\"CDR2-stop\"]:\n",
    "        counter[\"CDR2\"] += 1\n",
    "    elif idx + 2 < annotation[\"CDR3-start\"]:\n",
    "        counter[\"FR3\"] += 1\n",
    "    elif idx <= annotation[\"CDR3-stop\"]:\n",
    "        counter[\"CDR3\"] += 1\n",
    "    elif idx + 2  > annotation[\"CDR3-stop\"]:\n",
    "        counter[\"FR4\"] += 1\n",
    "    else:\n",
    "        print(\"Error\")\n",
    "    return counter\n",
    "\n",
    "def increase_feature_length(annotation, length_dict, seq):\n",
    "    \"\"\"\n",
    "    Find the lengths of the \n",
    "    \"\"\"\n",
    "    length_dict[\"FR1\"] += annotation[\"CDR1-start\"] - 2\n",
    "    length_dict[\"CDR1\"] += annotation[\"CDR1-stop\"] - annotation[\"CDR1-start\"] + 2\n",
    "    length_dict[\"FR2\"] += annotation[\"CDR2-start\"] - annotation[\"CDR1-stop\"] - 2\n",
    "    length_dict[\"CDR2\"] += annotation[\"CDR2-stop\"] - annotation[\"CDR2-start\"] + 2\n",
    "    length_dict[\"FR3\"] += annotation[\"CDR3-start\"] - annotation[\"CDR2-stop\"] - 2\n",
    "    length_dict[\"CDR3\"] += annotation[\"CDR3-stop\"] - annotation[\"CDR3-start\"] + 2\n",
    "    length_dict[\"FR4\"] += len(seq) - annotation[\"CDR3-stop\"] - 1\n",
    "    return length_dict"
   ]
  },
  {
   "cell_type": "code",
   "execution_count": 92,
   "metadata": {},
   "outputs": [
    {
     "data": {
      "text/plain": [
       "torch.Size([3, 1207])"
      ]
     },
     "execution_count": 92,
     "metadata": {},
     "output_type": "execute_result"
    }
   ],
   "source": [
    "data_dir = \"../../data/\"\n",
    "alpha_igblast_file = data_dir + \"igblast/alpha_igblast.txt\"\n",
    "beta_igblast_file = data_dir + \"igblast/beta_igblast.txt\"\n",
    "alpha_seq_file = data_dir + \"fasta/alpha_chains.fa\"\n",
    "beta_seq_file = data_dir + \"fasta/beta_chains.fa\"\n",
    "\n",
    "alpha_sequences = load_sequences(alpha_seq_file)\n",
    "beta_sequences = load_sequences(beta_seq_file)\n",
    "alpha_igblast = parse_igblast(alpha_igblast_file)\n",
    "beta_igblast = parse_igblast(beta_igblast_file)\n",
    "\n",
    "init_model = TcrCNN(local_features, global_features, use_global_features, cnn_channels=cnn_channels, dropout=dropout, cnn_kernel_size=cnn_kernel, dense_neurons=hidden_neurons)\n",
    "\n",
    "# Get indexes here\n",
    "_, alpha_idxs = test_runner.get_pool_idxs(\"tcra\")\n",
    "_, beta_idxs = test_runner.get_pool_idxs(\"tcrb\")\n",
    "test_runner.model = init_model\n",
    "_, alpha_idxs_init = test_runner.get_pool_idxs(\"tcra\")\n",
    "_, beta_idxs_init = test_runner.get_pool_idxs(\"tcrb\")\n",
    "test_runner.model = final_model\n",
    "alpha_idxs.shape"
   ]
  },
  {
   "cell_type": "markdown",
   "metadata": {},
   "source": [
    "Calculate the number of times a filter has been chosen in the maxpooling"
   ]
  },
  {
   "cell_type": "code",
   "execution_count": 100,
   "metadata": {},
   "outputs": [],
   "source": [
    "alpha_count_dict = {\"FR1\" : 0, \"CDR1\" : 0, \"FR2\" : 0, \"CDR2\" : 0, \"FR3\" : 0, \"CDR3\" : 0, \"FR4\" : 0}\n",
    "beta_count_dict = {\"FR1\" : 0, \"CDR1\" : 0, \"FR2\" : 0, \"CDR2\" : 0, \"FR3\" : 0, \"CDR3\" : 0, \"FR4\" : 0}\n",
    "alpha_count_dict_init = {\"FR1\" : 0, \"CDR1\" : 0, \"FR2\" : 0, \"CDR2\" : 0, \"FR3\" : 0, \"CDR3\" : 0, \"FR4\" : 0}\n",
    "beta_count_dict_init = {\"FR1\" : 0, \"CDR1\" : 0, \"FR2\" : 0, \"CDR2\" : 0, \"FR3\" : 0, \"CDR3\" : 0, \"FR4\" : 0}\n",
    "\n",
    "alpha_lengths = {\"FR1\" : 0, \"CDR1\" : 0, \"FR2\" : 0, \"CDR2\" : 0, \"FR3\" : 0, \"CDR3\" : 0, \"FR4\" : 0}\n",
    "beta_lengths = {\"FR1\" : 0, \"CDR1\" : 0, \"FR2\" : 0, \"CDR2\" : 0, \"FR3\" : 0, \"CDR3\" : 0, \"FR4\" : 0}\n",
    "for i in range(alpha_idxs.shape[1]): # Loop through observations\n",
    "    seq_id = f\"P5_tcr_seq_{i+1}\"\n",
    "    alpha_annotation = find_cdr3_stop(alpha_sequences[seq_id], alpha_igblast[seq_id])\n",
    "    beta_annotation = find_cdr3_stop(beta_sequences[seq_id], beta_igblast[seq_id])\n",
    "    for j in range(alpha_idxs.shape[0]): # Loop through filters\n",
    "        alpha_count_dict = increment_annotation_count(alpha_idxs[j, i], alpha_annotation, alpha_count_dict)\n",
    "        alpha_count_dict_init = increment_annotation_count(alpha_idxs_init[j, i], alpha_annotation, alpha_count_dict_init)\n",
    "        alpha_lengths = increase_feature_length(alpha_annotation, alpha_lengths, alpha_sequences[seq_id])\n",
    "\n",
    "    for j in range(beta_idxs.shape[0]): # Loop through filters\n",
    "        beta_count_dict = increment_annotation_count(beta_idxs[j, i], beta_annotation, beta_count_dict)\n",
    "        beta_count_dict_init = increment_annotation_count(beta_idxs_init[j, i], beta_annotation, beta_count_dict_init)\n",
    "        beta_lengths = increase_feature_length(beta_annotation, beta_lengths, beta_sequences[seq_id])\n",
    "\n",
    "for feat in alpha_count_dict:\n",
    "    alpha_lengths[feat] = alpha_lengths[feat] / (alpha_idxs.shape[0] * alpha_idxs.shape[1])\n",
    "    beta_lengths[feat] = beta_lengths[feat] / (beta_idxs.shape[0] * beta_idxs.shape[1])\n",
    "\n",
    "    alpha_count_dict[feat] = alpha_count_dict[feat] / alpha_lengths[feat]\n",
    "    beta_count_dict[feat] = beta_count_dict[feat] / beta_lengths[feat] \n",
    "    alpha_count_dict_init[feat] = alpha_count_dict_init[feat] / alpha_lengths[feat]\n",
    "    beta_count_dict_init[feat] = beta_count_dict_init[feat] / beta_lengths[feat] "
   ]
  },
  {
   "cell_type": "code",
   "execution_count": 101,
   "metadata": {},
   "outputs": [
    {
     "data": {
      "text/plain": [
       "Text(0.5, 1.0, 'Maxpooling filter positions over entire Beta chain')"
      ]
     },
     "execution_count": 101,
     "metadata": {},
     "output_type": "execute_result"
    },
    {
     "data": {
      "image/png": "[encoded data removed]",
      "text/plain": [
       "<Figure size 432x288 with 1 Axes>"
      ]
     },
     "metadata": {},
     "output_type": "display_data"
    }
   ],
   "source": [
    "width = 0.35\n",
    "\n",
    "fig, ax = plt.subplots()\n",
    "x = np.arange(len(beta_count_dict.keys()))\n",
    "\n",
    "rects1 = ax.bar(x - width/2, beta_count_dict.values() , width, label='Trained')\n",
    "ax.tick_params(rotation=90)\n",
    "ax.set_xticks(x, beta_count_dict.keys())\n",
    "ax.legend()\n",
    "ax.set_title(f\"Maxpooling filter positions over entire Beta chain\")"
   ]
  },
  {
   "cell_type": "code",
   "execution_count": 102,
   "metadata": {},
   "outputs": [
    {
     "data": {
      "text/plain": [
       "Text(0.5, 1.0, 'Maxpooling filter positions over entire Beta chain')"
      ]
     },
     "execution_count": 102,
     "metadata": {},
     "output_type": "execute_result"
    },
    {
     "data": {
      "image/png": "[encoded data removed]",
      "text/plain": [
       "<Figure size 432x288 with 1 Axes>"
      ]
     },
     "metadata": {},
     "output_type": "display_data"
    }
   ],
   "source": [
    "width = 0.35\n",
    "\n",
    "fig, ax = plt.subplots()\n",
    "x = np.arange(len(alpha_count_dict.keys()))\n",
    "\n",
    "rects1 = ax.bar(x - width/2, alpha_count_dict.values() , width, label='Trained')\n",
    "ax.tick_params(rotation=90)\n",
    "ax.set_xticks(x, alpha_count_dict.keys())\n",
    "ax.legend()\n",
    "ax.set_title(f\"Maxpooling filter positions over entire Beta chain\")"
   ]
  },
  {
   "cell_type": "code",
   "execution_count": null,
   "metadata": {},
   "outputs": [],
   "source": []
  },
  {
   "cell_type": "code",
   "execution_count": null,
   "metadata": {},
   "outputs": [],
   "source": []
  }
 ],
 "metadata": {
  "interpreter": {
   "hash": "57990f1ad2ea89c67ddae7f31d40c478205c5912da0fccfb7c5cfbb2b8bf17ad"
  },
  "kernelspec": {
   "display_name": "Python (myenv)",
   "language": "python",
   "name": "undefined.ipython.kernel"
  },
  "language_info": {
   "codemirror_mode": {
    "name": "ipython",
    "version": 3
   },
   "file_extension": ".py",
   "mimetype": "text/x-python",
   "name": "python",
   "nbconvert_exporter": "python",
   "pygments_lexer": "ipython3",
   "version": "3.8.3"
  },
  "orig_nbformat": 4
 },
 "nbformat": 4,
 "nbformat_minor": 2
}
