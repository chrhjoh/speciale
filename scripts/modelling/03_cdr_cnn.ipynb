{
 "cells": [
  {
   "cell_type": "markdown",
   "metadata": {},
   "source": [
    "# CNN first model\n",
    "\n",
    "Here I use a network doing a CNN over the input. The model architecture is a CNN of the local features. These then get pooled down to the number of channels, which is then fed into a dense layer."
   ]
  },
  {
   "cell_type": "markdown",
   "metadata": {},
   "source": [
    "### Load Libraries"
   ]
  },
  {
   "cell_type": "code",
   "execution_count": 1,
   "metadata": {},
   "outputs": [],
   "source": [
    "import torch\n",
    "import matplotlib.pyplot as plt\n",
    "import seaborn as sns\n",
    "import numpy as np\n",
    "from torch import nn, optim, cuda\n",
    "from torch.utils.data.dataloader import DataLoader\n",
    "from utils import Runner, EarlyStopping, TcrDataset, setup_seed\n",
    "from cnn_network import CdrCNN"
   ]
  },
  {
   "cell_type": "markdown",
   "metadata": {},
   "source": [
    "Set general plotting parameters for matplotlib using seaborn"
   ]
  },
  {
   "cell_type": "code",
   "execution_count": 2,
   "metadata": {},
   "outputs": [],
   "source": [
    "custom_params = {\"axes.spines.right\": False, \"axes.spines.top\": False}\n",
    "sns.set_theme(style=\"ticks\", rc=custom_params, palette=\"pastel\")"
   ]
  },
  {
   "cell_type": "markdown",
   "metadata": {},
   "source": [
    "### General parameters"
   ]
  },
  {
   "cell_type": "code",
   "execution_count": 3,
   "metadata": {},
   "outputs": [],
   "source": [
    "# General parameters\n",
    "data_dir = \"../../data/\"\n",
    "data_files = [data_dir+f\"datasets/P{i}_input_cdrs.npz\" for i in range(1,6)]\n",
    "label_files = [data_dir+f\"datasets/P{i}_labels.npz\" for i in range(1,6)]\n",
    "model_name = \"cdr_model.pt\"\n",
    "model_path = \"stored_models/\"\n",
    "\n",
    "batch_size = 64\n",
    "seed= 123\n",
    "\n",
    "setup_seed(seed)\n",
    "device = torch.device(\"cuda\" if cuda.is_available() else \"cpu\")\n",
    "#device= torch.device(\"cpu\")"
   ]
  },
  {
   "cell_type": "markdown",
   "metadata": {},
   "source": [
    "## Define indexing"
   ]
  },
  {
   "cell_type": "code",
   "execution_count": 4,
   "metadata": {},
   "outputs": [],
   "source": [
    "\n",
    "########### Select Indexes TCR DATA ############\n",
    "\n",
    "# Full model\n",
    "#idx = np.arange(420)\n",
    "\n",
    "# peptide + TCR\n",
    "#idx = np.arange(179,420)\n",
    "\n",
    "# MHC + TCR\n",
    "#idx = np.concatenate([np.arange(179),np.arange(192,420)])\n",
    "\n",
    "# TCR\n",
    "#idx = np.arange(192,420)\n",
    "\n",
    "# MHC + peptide\n",
    "#idx = np.arange(192)\n",
    "\n",
    "\n",
    "########### Select Indexes CDR Data ############\n",
    "\n",
    "# Full model\n",
    "# idx = np.arange(248)\n",
    "\n",
    "# Peptide + All CDRS\n",
    "idx = np.arange(179,248)\n",
    "\n",
    "########### Select Features ###########\n",
    "\n",
    "# All features\n",
    "#local_features = np.arange(27)\n",
    "#global_features = np.arange(27, 54)\n",
    "#use_global_features = True\n",
    "\n",
    "# Sequence\n",
    "local_features = np.arange(20)\n",
    "global_features = None\n",
    "use_global_features = False\n",
    "\n",
    "# Energy terms\n",
    "#local_features = np.arange(20, 27)\n",
    "#global_features = np.arange(27, 54)\n",
    "#use_global_features = True\n",
    "\n",
    "# Sequence and global energy\n",
    "#local_features = np.arange(20)\n",
    "#global_features = np.arange(27, 54)\n",
    "#use_global_features = True\n"
   ]
  },
  {
   "cell_type": "markdown",
   "metadata": {},
   "source": [
    "## Load Data\n",
    "Partitions can be changed by altering the `data_files` and `label_files` indexing"
   ]
  },
  {
   "cell_type": "code",
   "execution_count": 5,
   "metadata": {},
   "outputs": [],
   "source": [
    "train_data = TcrDataset(data_files[0], label_files[0])\n",
    "train_data.add_partition(data_files[1], label_files[1])\n",
    "train_data.add_partition(data_files[2], label_files[2])\n",
    "val_data = TcrDataset(data_files[3], label_files[3])\n",
    "test_data = TcrDataset(data_files[4], label_files[4])\n",
    "\n",
    "\n",
    "# Shuffle data randomly is needed\n",
    "train_data.shuffle_data()\n",
    "val_data.shuffle_data()\n",
    "test_data.shuffle_data()\n",
    "\n",
    "# slicing sequence dimension\n",
    "train_data.slice_sequences(idx)\n",
    "val_data.slice_sequences(idx)\n",
    "test_data.slice_sequences(idx)\n",
    "\n",
    "train_data.to_blossum()\n",
    "val_data.to_blossum()\n",
    "test_data.to_blossum()\n",
    "\n",
    "input_len = train_data.data.shape[2]\n"
   ]
  },
  {
   "cell_type": "code",
   "execution_count": 6,
   "metadata": {},
   "outputs": [],
   "source": [
    "train_dl = DataLoader(train_data, batch_size)\n",
    "val_dl = DataLoader(val_data, batch_size)\n",
    "test_dl = DataLoader(test_data, batch_size)"
   ]
  },
  {
   "cell_type": "code",
   "execution_count": 7,
   "metadata": {},
   "outputs": [
    {
     "data": {
      "text/plain": [
       "(4174, 1532, 1207)"
      ]
     },
     "execution_count": 7,
     "metadata": {},
     "output_type": "execute_result"
    }
   ],
   "source": [
    "len(train_data), len(val_data), len(test_data)"
   ]
  },
  {
   "cell_type": "code",
   "execution_count": 8,
   "metadata": {},
   "outputs": [
    {
     "data": {
      "text/plain": [
       "(4174, 54, 69)"
      ]
     },
     "execution_count": 8,
     "metadata": {},
     "output_type": "execute_result"
    }
   ],
   "source": [
    "train_data.data.shape"
   ]
  },
  {
   "cell_type": "code",
   "execution_count": 9,
   "metadata": {},
   "outputs": [],
   "source": [
    "#Hyperparameters\n",
    "epochs = 100\n",
    "patience = 20\n",
    "lr = 0.005\n",
    "loss_weight = sum(train_data.labels) / len(train_data.labels)\n",
    "weight_decay = 0.0005\n",
    "\n",
    "# Layer parameters\n",
    "cnn_channels = 20\n",
    "hidden_neurons = 64\n",
    "dropout = 0.4\n",
    "cnn_kernel = 3\n",
    "\n",
    "# Loss and optimizer\n",
    "criterion = nn.BCELoss(reduction='none')\n",
    "stopper = EarlyStopping(patience, model_name, model_path)\n"
   ]
  },
  {
   "cell_type": "code",
   "execution_count": 10,
   "metadata": {},
   "outputs": [
    {
     "name": "stdout",
     "output_type": "stream",
     "text": [
      "CdrCNN(\n",
      "  (cdr1a_conv): Conv1d(20, 20, kernel_size=(3,), stride=(1,), padding=same)\n",
      "  (cdr2a_conv): Conv1d(20, 20, kernel_size=(3,), stride=(1,), padding=same)\n",
      "  (cdr3a_conv): Conv1d(20, 20, kernel_size=(3,), stride=(1,), padding=same)\n",
      "  (cdr1b_conv): Conv1d(20, 20, kernel_size=(3,), stride=(1,), padding=same)\n",
      "  (cdr2b_conv): Conv1d(20, 20, kernel_size=(3,), stride=(1,), padding=same)\n",
      "  (cdr3b_conv): Conv1d(20, 20, kernel_size=(3,), stride=(1,), padding=same)\n",
      "  (pep_conv): Conv1d(20, 20, kernel_size=(3,), stride=(1,), padding=same)\n",
      "  (max_pool): AdaptiveMaxPool1d(output_size=1)\n",
      "  (max_pool_index): AdaptiveMaxPool1d(output_size=1)\n",
      "  (dense1): Linear(in_features=60, out_features=64, bias=True)\n",
      "  (dense_out): Linear(in_features=64, out_features=1, bias=True)\n",
      "  (dropout): Dropout(p=0.4, inplace=False)\n",
      "  (bn_dense): BatchNorm1d(60, eps=1e-05, momentum=0.1, affine=True, track_running_stats=True)\n",
      "  (bn_start): BatchNorm1d(20, eps=1e-05, momentum=0.1, affine=True, track_running_stats=True)\n",
      ")\n",
      "Using Device: cpu\n"
     ]
    }
   ],
   "source": [
    "net = CdrCNN(local_features, global_features, use_global_features, cnn_channels=cnn_channels, dropout=dropout, cnn_kernel_size=cnn_kernel, dense_neurons=hidden_neurons)\n",
    "net.to(device)\n",
    "print(net)\n",
    "print(\"Using Device:\", device)\n",
    "optimizer = optim.Adam(net.parameters(), lr=lr,\n",
    "    weight_decay=weight_decay,\n",
    "    amsgrad=True\n",
    ")"
   ]
  },
  {
   "cell_type": "code",
   "execution_count": 11,
   "metadata": {},
   "outputs": [],
   "source": [
    "# Define runners\n",
    "train_runner = Runner(train_dl, net, criterion, loss_weight, device, optimizer)\n",
    "val_runner = Runner(val_dl, net, criterion, loss_weight, device)\n",
    "test_runner = Runner(test_dl, net, criterion, loss_weight, device)"
   ]
  },
  {
   "cell_type": "markdown",
   "metadata": {},
   "source": [
    "## Training Loop"
   ]
  },
  {
   "cell_type": "code",
   "execution_count": 12,
   "metadata": {},
   "outputs": [
    {
     "name": "stdout",
     "output_type": "stream",
     "text": [
      "Epoch: 1\n",
      "Train loss: 0.29412263812440814 Train MCC: 0.05977939489416477 Train AUC: 0.5448291795667533\n",
      "Validation loss: 0.2549169858296712 Validation MCC: 0.08368553155607515 Validation AUC: 0.6645363092438198\n",
      "Validation loss decreased. Counter reset\n",
      "Epoch: 2\n",
      "Train loss: 0.2623041037357215 Train MCC: 0.1269711650984793 Train AUC: 0.5984166292839931\n",
      "Validation loss: 0.25772492090861004 Validation MCC: 0.040211326504912645 Validation AUC: 0.6857285367909887\n",
      "Early Stopping Counter: 1 out of 20\n",
      "Epoch: 3\n",
      "Train loss: 0.24696118903882575 Train MCC: 0.1988189838578727 Train AUC: 0.6528621952086443\n",
      "Validation loss: 0.24685062964757284 Validation MCC: 0.11581743490724115 Validation AUC: 0.6864534264100693\n",
      "Validation loss decreased. Counter reset\n",
      "Epoch: 4\n",
      "Train loss: 0.24402005744702887 Train MCC: 0.221573970179803 Train AUC: 0.6623952365894255\n",
      "Validation loss: 0.2556722164154053 Validation MCC: 0.04703498159755505 Validation AUC: 0.6911663451247196\n",
      "Early Stopping Counter: 1 out of 20\n",
      "Epoch: 5\n",
      "Train loss: 0.2402726664687648 Train MCC: 0.23962204695441489 Train AUC: 0.6772229821323077\n",
      "Validation loss: 0.23782275120417276 Validation MCC: 0.15552330785940116 Validation AUC: 0.692063935718879\n",
      "Validation loss decreased. Counter reset\n",
      "Epoch: 6\n",
      "Train loss: 0.23781923814253372 Train MCC: 0.26944020680344677 Train AUC: 0.6884794566888022\n",
      "Validation loss: 0.2521752715110779 Validation MCC: 0.09115627768611438 Validation AUC: 0.6994787157410121\n",
      "Early Stopping Counter: 1 out of 20\n",
      "Epoch: 7\n",
      "Train loss: 0.23489671764951764 Train MCC: 0.25788940328941423 Train AUC: 0.6931982531873325\n",
      "Validation loss: 0.24257409572601318 Validation MCC: 0.10378282195093264 Validation AUC: 0.700274049178875\n",
      "Early Stopping Counter: 2 out of 20\n",
      "Epoch: 8\n",
      "Train loss: 0.2331115838253137 Train MCC: 0.27661062071243686 Train AUC: 0.696883204271185\n",
      "Validation loss: 0.2224117318789164 Validation MCC: 0.21009662959064715 Validation AUC: 0.7151536016106639\n",
      "Validation loss decreased. Counter reset\n",
      "Epoch: 9\n",
      "Train loss: 0.22637660575635504 Train MCC: 0.30762602450869936 Train AUC: 0.7181107409613599\n",
      "Validation loss: 0.21875003973642984 Validation MCC: 0.2307292880202048 Validation AUC: 0.7281334433165859\n",
      "Validation loss decreased. Counter reset\n",
      "Epoch: 10\n",
      "Train loss: 0.22207215338042288 Train MCC: 0.32817165379122715 Train AUC: 0.7275088063773615\n",
      "Validation loss: 0.20247731606165567 Validation MCC: 0.37652462948709053 Validation AUC: 0.7579652643801966\n",
      "Validation loss decreased. Counter reset\n",
      "Epoch: 11\n",
      "Train loss: 0.2148062243606105 Train MCC: 0.3755824345547817 Train AUC: 0.7487905785857337\n",
      "Validation loss: 0.19835702578226724 Validation MCC: 0.3652853472184042 Validation AUC: 0.7812571722033235\n",
      "Validation loss decreased. Counter reset\n",
      "Epoch: 12\n",
      "Train loss: 0.2134920611526027 Train MCC: 0.3576201026092618 Train AUC: 0.7504819913566356\n",
      "Validation loss: 0.18652556339899698 Validation MCC: 0.4747010960639216 Validation AUC: 0.8242233568979269\n",
      "Validation loss decreased. Counter reset\n",
      "Epoch: 13\n",
      "Train loss: 0.2127192092664314 Train MCC: 0.3649884509317774 Train AUC: 0.7542066232292257\n",
      "Validation loss: 0.18504520257314047 Validation MCC: 0.4739647619354419 Validation AUC: 0.822253202353278\n",
      "Validation loss decreased. Counter reset\n",
      "Epoch: 14\n",
      "Train loss: 0.21061033191102924 Train MCC: 0.3836309646744108 Train AUC: 0.7590743375912812\n",
      "Validation loss: 0.1855747103691101 Validation MCC: 0.4559827543802195 Validation AUC: 0.8216442041780001\n",
      "Early Stopping Counter: 1 out of 20\n",
      "Epoch: 15\n",
      "Train loss: 0.20639460014574457 Train MCC: 0.3945793978646667 Train AUC: 0.7703910227654354\n",
      "Validation loss: 0.18491655588150024 Validation MCC: 0.4772909624278762 Validation AUC: 0.8289112794188157\n",
      "Validation loss decreased. Counter reset\n",
      "Epoch: 16\n",
      "Train loss: 0.20405882055109198 Train MCC: 0.4034613021750966 Train AUC: 0.7775743179806983\n",
      "Validation loss: 0.17931155363718668 Validation MCC: 0.5043787262669606 Validation AUC: 0.8432159193940922\n",
      "Validation loss decreased. Counter reset\n",
      "Epoch: 17\n",
      "Train loss: 0.20472068497628876 Train MCC: 0.3938024735089485 Train AUC: 0.776757721054167\n",
      "Validation loss: 0.17649890979131064 Validation MCC: 0.524391039698548 Validation AUC: 0.8481924343338628\n",
      "Validation loss decreased. Counter reset\n",
      "Epoch: 18\n",
      "Train loss: 0.20616642634073892 Train MCC: 0.3935166759828999 Train AUC: 0.7701435923646196\n",
      "Validation loss: 0.17783536513646445 Validation MCC: 0.5151793211612729 Validation AUC: 0.8460132207141186\n",
      "Early Stopping Counter: 1 out of 20\n",
      "Epoch: 19\n",
      "Train loss: 0.2030381000403202 Train MCC: 0.3961561391273266 Train AUC: 0.7802582100930767\n",
      "Validation loss: 0.17829634745915732 Validation MCC: 0.5230635335073978 Validation AUC: 0.8341173048649411\n",
      "Early Stopping Counter: 2 out of 20\n",
      "Epoch: 20\n",
      "Train loss: 0.20160264679879852 Train MCC: 0.425812309215885 Train AUC: 0.7851740316661886\n",
      "Validation loss: 0.18166317542394003 Validation MCC: 0.4893160426423827 Validation AUC: 0.831581327388784\n",
      "Early Stopping Counter: 3 out of 20\n",
      "Epoch: 21\n",
      "Train loss: 0.19522310025764233 Train MCC: 0.4375588297779413 Train AUC: 0.7970431837290994\n",
      "Validation loss: 0.1766156554222107 Validation MCC: 0.513356058601995 Validation AUC: 0.8389870178859129\n",
      "Early Stopping Counter: 4 out of 20\n",
      "Epoch: 22\n",
      "Train loss: 0.19623714504819928 Train MCC: 0.4245278850921617 Train AUC: 0.801883167501342\n",
      "Validation loss: 0.17691254615783691 Validation MCC: 0.4766814895834108 Validation AUC: 0.8422115268811341\n",
      "Early Stopping Counter: 5 out of 20\n",
      "Epoch: 23\n",
      "Train loss: 0.19683693394516455 Train MCC: 0.42168016412175713 Train AUC: 0.7966609305711827\n",
      "Validation loss: 0.17579261461893717 Validation MCC: 0.4935071091120658 Validation AUC: 0.8457723483015087\n",
      "Validation loss decreased. Counter reset\n",
      "Epoch: 24\n",
      "Train loss: 0.1988126870357629 Train MCC: 0.4223633831492139 Train AUC: 0.7940248392545037\n",
      "Validation loss: 0.1741963028907776 Validation MCC: 0.5027076116946987 Validation AUC: 0.841900210649742\n",
      "Validation loss decreased. Counter reset\n",
      "Epoch: 25\n",
      "Train loss: 0.19584352319890802 Train MCC: 0.4246194599876541 Train AUC: 0.8000838965247596\n",
      "Validation loss: 0.17624489466349283 Validation MCC: 0.5016352008065764 Validation AUC: 0.8382439492168238\n",
      "Early Stopping Counter: 1 out of 20\n",
      "Epoch: 26\n",
      "Train loss: 0.19803973400231564 Train MCC: 0.4327159060505986 Train AUC: 0.7950173185959802\n",
      "Validation loss: 0.1757278839747111 Validation MCC: 0.48041259756140614 Validation AUC: 0.8482765124401512\n",
      "Early Stopping Counter: 2 out of 20\n",
      "Epoch: 27\n",
      "Train loss: 0.1961858489296653 Train MCC: 0.4310358177481278 Train AUC: 0.7968003495586393\n",
      "Validation loss: 0.17243653535842896 Validation MCC: 0.5235673853646194 Validation AUC: 0.8464949655393385\n",
      "Validation loss decreased. Counter reset\n",
      "Epoch: 28\n",
      "Train loss: 0.1961136008753921 Train MCC: 0.43608521160154345 Train AUC: 0.7994057993396135\n",
      "Validation loss: 0.17461605866750082 Validation MCC: 0.4998810154771198 Validation AUC: 0.8544233037242057\n",
      "Early Stopping Counter: 1 out of 20\n",
      "Epoch: 29\n",
      "Train loss: 0.19612432248664624 Train MCC: 0.4363418336179155 Train AUC: 0.8017737772188762\n",
      "Validation loss: 0.17346415917078653 Validation MCC: 0.5084073967388026 Validation AUC: 0.8491945544655699\n",
      "Early Stopping Counter: 2 out of 20\n",
      "Epoch: 30\n",
      "Train loss: 0.19694787805730646 Train MCC: 0.4181873980139706 Train AUC: 0.7990757900000736\n",
      "Validation loss: 0.18040563662846884 Validation MCC: 0.46479376299623326 Validation AUC: 0.8402981818677611\n",
      "Early Stopping Counter: 3 out of 20\n",
      "Epoch: 31\n",
      "Train loss: 0.19720470544063684 Train MCC: 0.4198099755697822 Train AUC: 0.7929713832569746\n",
      "Validation loss: 0.17185519138971964 Validation MCC: 0.5207915553157191 Validation AUC: 0.8515873719229119\n",
      "Validation loss decreased. Counter reset\n",
      "Epoch: 32\n",
      "Train loss: 0.19210074164650656 Train MCC: 0.44808593235440025 Train AUC: 0.8093673625972255\n",
      "Validation loss: 0.17263690630594888 Validation MCC: 0.5187477054309154 Validation AUC: 0.8492536363780969\n",
      "Early Stopping Counter: 1 out of 20\n",
      "Epoch: 33\n",
      "Train loss: 0.19853655497233072 Train MCC: 0.43566339788193875 Train AUC: 0.7931429758569212\n",
      "Validation loss: 0.1728177269299825 Validation MCC: 0.5361178930269331 Validation AUC: 0.8516805395542042\n",
      "Early Stopping Counter: 2 out of 20\n",
      "Epoch: 34\n",
      "Train loss: 0.19664869886456113 Train MCC: 0.4296078227676074 Train AUC: 0.7979068154129376\n",
      "Validation loss: 0.17158172527949014 Validation MCC: 0.5410641711535339 Validation AUC: 0.8531734940361356\n",
      "Validation loss decreased. Counter reset\n",
      "Epoch: 35\n",
      "Train loss: 0.19788440068562826 Train MCC: 0.41924760863763805 Train AUC: 0.7971754019556655\n",
      "Validation loss: 0.17434356609980264 Validation MCC: 0.5173389784298502 Validation AUC: 0.8476107047335973\n",
      "Early Stopping Counter: 1 out of 20\n",
      "Epoch: 36\n",
      "Train loss: 0.19088389656760477 Train MCC: 0.45418654766378047 Train AUC: 0.8127397700168896\n",
      "Validation loss: 0.16721993684768677 Validation MCC: 0.5532531406216785 Validation AUC: 0.863340127753274\n",
      "Validation loss decreased. Counter reset\n",
      "Epoch: 37\n",
      "Train loss: 0.1969881924715909 Train MCC: 0.43202349449073935 Train AUC: 0.8002796959379129\n",
      "Validation loss: 0.17660089333852133 Validation MCC: 0.494438815859135 Validation AUC: 0.845304237763795\n",
      "Early Stopping Counter: 1 out of 20\n",
      "Epoch: 38\n",
      "Train loss: 0.1957716941833496 Train MCC: 0.44716248976460665 Train AUC: 0.7993809796956928\n",
      "Validation loss: 0.1739331285158793 Validation MCC: 0.5130372201541787 Validation AUC: 0.8504739051099037\n",
      "Early Stopping Counter: 2 out of 20\n",
      "Epoch: 39\n",
      "Train loss: 0.19517615347197562 Train MCC: 0.431385016764559 Train AUC: 0.8034106480562235\n",
      "Validation loss: 0.17047794659932455 Validation MCC: 0.5054029988708266 Validation AUC: 0.8568365726128068\n",
      "Early Stopping Counter: 3 out of 20\n",
      "Epoch: 40\n",
      "Train loss: 0.19387261072794595 Train MCC: 0.4312584087993589 Train AUC: 0.8064815427645529\n",
      "Validation loss: 0.17337594429651895 Validation MCC: 0.5130372201541787 Validation AUC: 0.8503761927161091\n",
      "Early Stopping Counter: 4 out of 20\n",
      "Epoch: 41\n",
      "Train loss: 0.19638149666063714 Train MCC: 0.4380779910713406 Train AUC: 0.7996834116530986\n",
      "Validation loss: 0.17515714963277182 Validation MCC: 0.49173131597707104 Validation AUC: 0.8492968116218667\n",
      "Early Stopping Counter: 5 out of 20\n",
      "Epoch: 42\n",
      "Train loss: 0.1938330332438151 Train MCC: 0.44645998206042414 Train AUC: 0.8034253559933618\n",
      "Validation loss: 0.1684804161389669 Validation MCC: 0.5319586228672997 Validation AUC: 0.8645990269663484\n",
      "Early Stopping Counter: 6 out of 20\n",
      "Epoch: 43\n",
      "Train loss: 0.19419904188676315 Train MCC: 0.4362200841335914 Train AUC: 0.8043896451219901\n",
      "Validation loss: 0.16849631071090698 Validation MCC: 0.5104161069031409 Validation AUC: 0.8629742743718571\n",
      "Early Stopping Counter: 7 out of 20\n",
      "Epoch: 44\n",
      "Train loss: 0.19603194612445254 Train MCC: 0.4406574668465722 Train AUC: 0.8028042520646266\n",
      "Validation loss: 0.1685426433881124 Validation MCC: 0.5220773831125219 Validation AUC: 0.8642309012036804\n",
      "Early Stopping Counter: 8 out of 20\n",
      "Epoch: 45\n",
      "Train loss: 0.1924316810839104 Train MCC: 0.44348387561006786 Train AUC: 0.8106867871246719\n",
      "Validation loss: 0.17294241984685263 Validation MCC: 0.5177921689629232 Validation AUC: 0.8517168976542209\n",
      "Early Stopping Counter: 9 out of 20\n",
      "Epoch: 46\n",
      "Train loss: 0.1949946519100305 Train MCC: 0.43731092375089603 Train AUC: 0.7996656395623898\n",
      "Validation loss: 0.17298696438471475 Validation MCC: 0.5439628447832753 Validation AUC: 0.8470539713270934\n",
      "Early Stopping Counter: 10 out of 20\n",
      "Epoch: 47\n",
      "Train loss: 0.19409107439445727 Train MCC: 0.4380779910713406 Train AUC: 0.8070079643479604\n",
      "Validation loss: 0.17620442310969034 Validation MCC: 0.5050534985974219 Validation AUC: 0.8451133577387079\n",
      "Early Stopping Counter: 11 out of 20\n",
      "Epoch: 48\n",
      "Train loss: 0.1917628808455034 Train MCC: 0.4346427185455411 Train AUC: 0.8078463167648422\n",
      "Validation loss: 0.1693549950917562 Validation MCC: 0.5401179558099469 Validation AUC: 0.8558844448686223\n",
      "Early Stopping Counter: 12 out of 20\n",
      "Epoch: 49\n",
      "Train loss: 0.1934774283206824 Train MCC: 0.4324217149010028 Train AUC: 0.8075248870552993\n",
      "Validation loss: 0.17317400376001993 Validation MCC: 0.512639776818026 Validation AUC: 0.848083360033813\n",
      "Early Stopping Counter: 13 out of 20\n",
      "Epoch: 50\n",
      "Train loss: 0.19394384730945935 Train MCC: 0.44129463992992446 Train AUC: 0.8034354677001443\n",
      "Validation loss: 0.17185344298680624 Validation MCC: 0.5497179767838404 Validation AUC: 0.8530007930610566\n",
      "Early Stopping Counter: 14 out of 20\n",
      "Epoch: 51\n",
      "Train loss: 0.19537727760546136 Train MCC: 0.4312584087993589 Train AUC: 0.805067435891779\n",
      "Validation loss: 0.16902969280878702 Validation MCC: 0.5796389780295088 Validation AUC: 0.8568683859503212\n",
      "Early Stopping Counter: 15 out of 20\n",
      "Epoch: 52\n",
      "Train loss: 0.18865817965883197 Train MCC: 0.46912889617809544 Train AUC: 0.8201047695388817\n",
      "Validation loss: 0.17373915513356528 Validation MCC: 0.5271299702570007 Validation AUC: 0.8451406263137203\n",
      "Early Stopping Counter: 16 out of 20\n",
      "Epoch: 53\n",
      "Train loss: 0.19728331132368607 Train MCC: 0.42528059095826304 Train AUC: 0.7982671598728253\n",
      "Validation loss: 0.17657544215520224 Validation MCC: 0.500064404479263 Validation AUC: 0.8382803073168403\n",
      "Early Stopping Counter: 17 out of 20\n",
      "Epoch: 54\n",
      "Train loss: 0.19278104377515387 Train MCC: 0.4507945237575453 Train AUC: 0.8071841531782626\n",
      "Validation loss: 0.1732245683670044 Validation MCC: 0.5275881319456747 Validation AUC: 0.8468017370082284\n",
      "Early Stopping Counter: 18 out of 20\n",
      "Epoch: 55\n",
      "Train loss: 0.19343523545698685 Train MCC: 0.4512165595308803 Train AUC: 0.8068709966833602\n",
      "Validation loss: 0.1739118496576945 Validation MCC: 0.5195335751764512 Validation AUC: 0.8473198399334646\n",
      "Early Stopping Counter: 19 out of 20\n",
      "Epoch: 56\n",
      "Train loss: 0.19593643419670337 Train MCC: 0.4384569723865078 Train AUC: 0.8056108635275026\n",
      "Validation loss: 0.17651071151097616 Validation MCC: 0.5151861620286533 Validation AUC: 0.8416934239558975\n",
      "Early Stopping\n"
     ]
    }
   ],
   "source": [
    "train_loss, val_loss, train_auc, val_auc = [], [], [], []\n",
    "\n",
    "for epoch in range(1, epochs+1):\n",
    "    train_runner.run_epoch()\n",
    "    val_runner.run_epoch()\n",
    "    \n",
    "    train_runner.follow_performance(epoch)\n",
    "    val_runner.follow_performance(epoch)\n",
    "    stopper.evaluate_epoch(val_runner.loss, net, epoch)\n",
    "    \n",
    "    train_loss.append(train_runner.loss)\n",
    "    val_loss.append(val_runner.loss)\n",
    "    train_auc.append(train_runner.auc)\n",
    "    val_auc.append(val_runner.auc)\n",
    "    \n",
    "    train_runner.reset()\n",
    "    val_runner.reset()\n",
    "\n",
    "    if stopper.stop:\n",
    "        break\n"
   ]
  },
  {
   "cell_type": "code",
   "execution_count": 28,
   "metadata": {},
   "outputs": [
    {
     "data": {
      "text/plain": [
       "(Text(0.5, 0, 'Epoch'), Text(0, 0.5, 'Loss'))"
      ]
     },
     "execution_count": 28,
     "metadata": {},
     "output_type": "execute_result"
    },
    {
     "data": {
      "image/png": "[encoded data removed]",
      "text/plain": [
       "<Figure size 432x288 with 1 Axes>"
      ]
     },
     "metadata": {},
     "output_type": "display_data"
    },
    {
     "data": {
      "image/png": "[encoded data removed]",
      "text/plain": [
       "<Figure size 432x288 with 1 Axes>"
      ]
     },
     "metadata": {},
     "output_type": "display_data"
    }
   ],
   "source": [
    "# Plots of training epochs\n",
    "epoch = np.arange(1, len(train_loss) + 1)\n",
    "plt.figure()\n",
    "plt.plot(epoch, train_loss, \"r\", epoch, val_loss, \"b\", linewidth=3)\n",
    "plt.vlines(stopper.best_epoch, ymin=0, ymax=0.3, colors=\"black\", linestyles='dashed')\n",
    "plt.legend([\"Train Loss\", \"Validation Loss\", \"Best Epoch\"])\n",
    "plt.xlabel(\"Epoch\"), plt.ylabel(\"Loss\")\n",
    "\n",
    "epoch = np.arange(1, len(train_loss) + 1)\n",
    "plt.figure()\n",
    "plt.plot(epoch, train_auc, \"r\", epoch, val_auc, \"b\", linewidth=3)\n",
    "plt.vlines(stopper.best_epoch, ymin=0, ymax=1, colors=\"black\", linestyles='dashed')\n",
    "plt.legend([\"Train AUC\", \"Validation AUC\", \"Best Epoch\"])\n",
    "plt.xlabel(\"Epoch\"), plt.ylabel(\"Loss\")"
   ]
  },
  {
   "cell_type": "markdown",
   "metadata": {},
   "source": [
    "## Evaluate using the best model\n",
    "\n",
    "Best model is stored as early_stopping_state.pt and loaded into a new object"
   ]
  },
  {
   "cell_type": "code",
   "execution_count": 29,
   "metadata": {},
   "outputs": [],
   "source": [
    "final_model = CdrCNN(local_features, global_features, use_global_features, cnn_channels=cnn_channels, dropout=dropout, cnn_kernel_size=cnn_kernel, dense_neurons=hidden_neurons)\n",
    "final_model.load_state_dict(torch.load(model_path + model_name))\n",
    "final_model.to(device)\n",
    "\n",
    "train_runner.model = final_model\n",
    "val_runner.model = final_model\n",
    "test_runner.model = final_model"
   ]
  },
  {
   "cell_type": "code",
   "execution_count": 30,
   "metadata": {},
   "outputs": [],
   "source": [
    "train_runner.reset()\n",
    "val_runner.reset()\n",
    "test_runner.reset()\n",
    "\n",
    "train_runner.evaluation_mode() # Set to validation to avoid more training\n",
    "train_runner.run_epoch()\n",
    "val_runner.run_epoch()\n",
    "test_runner.run_epoch()"
   ]
  },
  {
   "cell_type": "code",
   "execution_count": 31,
   "metadata": {},
   "outputs": [
    {
     "name": "stdout",
     "output_type": "stream",
     "text": [
      "Evaluation on Training Data:\n",
      "Loss: 0.15770936734748608\n",
      "MCC: 0.6156968902060771\n",
      "Confussion Matrix:\n",
      " [[2844  288]\n",
      " [ 309  733]] \n",
      "\n",
      "Evaluation on Validation Data:\n",
      "Loss: 0.16721993684768677\n",
      "MCC: 0.5532531406216785\n",
      "Confussion Matrix:\n",
      " [[1031  118]\n",
      " [ 135  248]] \n",
      "\n",
      "Evaluation on Test Data:\n",
      "Loss: 0.18505769026906868\n",
      "MCC: 0.5214392859299398\n",
      "Confussion Matrix:\n",
      " [[815  91]\n",
      " [119 182]] \n",
      "\n"
     ]
    },
    {
     "data": {
      "text/plain": [
       "Text(0.5, 1.0, 'Test Data')"
      ]
     },
     "execution_count": 31,
     "metadata": {},
     "output_type": "execute_result"
    },
    {
     "data": {
      "image/png": "[encoded data removed]",
      "text/plain": [
       "<Figure size 432x288 with 1 Axes>"
      ]
     },
     "metadata": {},
     "output_type": "display_data"
    },
    {
     "data": {
      "image/png": "[encoded data removed]",
      "text/plain": [
       "<Figure size 432x288 with 1 Axes>"
      ]
     },
     "metadata": {},
     "output_type": "display_data"
    },
    {
     "data": {
      "image/png": "[encoded data removed]",
      "text/plain": [
       "<Figure size 432x288 with 1 Axes>"
      ]
     },
     "metadata": {},
     "output_type": "display_data"
    }
   ],
   "source": [
    "print(\"Evaluation on Training Data:\")\n",
    "train_runner.evaluate_model()\n",
    "plt.title(\"Training Data\")\n",
    "\n",
    "print(\"Evaluation on Validation Data:\")\n",
    "val_runner.evaluate_model()\n",
    "plt.title(\"Evaluation Data\")\n",
    "\n",
    "print(\"Evaluation on Test Data:\")\n",
    "test_runner.evaluate_model()\n",
    "plt.title(\"Test Data\")\n"
   ]
  },
  {
   "cell_type": "code",
   "execution_count": null,
   "metadata": {},
   "outputs": [],
   "source": []
  }
 ],
 "metadata": {
  "interpreter": {
   "hash": "57990f1ad2ea89c67ddae7f31d40c478205c5912da0fccfb7c5cfbb2b8bf17ad"
  },
  "kernelspec": {
   "display_name": "Python (myenv)",
   "language": "python",
   "name": "undefined.ipython.kernel"
  },
  "language_info": {
   "codemirror_mode": {
    "name": "ipython",
    "version": 3
   },
   "file_extension": ".py",
   "mimetype": "text/x-python",
   "name": "python",
   "nbconvert_exporter": "python",
   "pygments_lexer": "ipython3",
   "version": "3.8.3"
  },
  "orig_nbformat": 4
 },
 "nbformat": 4,
 "nbformat_minor": 2
}
