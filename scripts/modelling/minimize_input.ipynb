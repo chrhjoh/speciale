{
 "cells": [
  {
   "cell_type": "markdown",
   "metadata": {},
   "source": [
    "# Minimize input model\n",
    "\n",
    "This notebook can experiment with the input data. such as training only on the sequence, energy terms, or remove some of the sequences such as mhc or peptide"
   ]
  },
  {
   "cell_type": "markdown",
   "metadata": {},
   "source": [
    "### Load Libraries"
   ]
  },
  {
   "cell_type": "code",
   "execution_count": 1,
   "metadata": {},
   "outputs": [],
   "source": [
    "import torch\n",
    "import matplotlib.pyplot as plt\n",
    "import seaborn as sns\n",
    "import numpy as np\n",
    "from torch import nn, optim, cuda\n",
    "from utils import Runner, EarlyStopping, load_data, setup_seed\n",
    "from network import Test\n",
    "import pandas as pd"
   ]
  },
  {
   "cell_type": "markdown",
   "metadata": {},
   "source": [
    "Set general plotting parameters for matplotlib using seaborn"
   ]
  },
  {
   "cell_type": "code",
   "execution_count": 2,
   "metadata": {},
   "outputs": [],
   "source": [
    "custom_params = {\"axes.spines.right\": False, \"axes.spines.top\": False}\n",
    "sns.set_theme(style=\"ticks\", rc=custom_params, palette=\"pastel\")"
   ]
  },
  {
   "cell_type": "markdown",
   "metadata": {},
   "source": [
    "### General parameters"
   ]
  },
  {
   "cell_type": "code",
   "execution_count": 13,
   "metadata": {},
   "outputs": [],
   "source": [
    "# General parameters\n",
    "data_path = \"../../data/\"\n",
    "partitions = {\"train\" : [3, 4, 2], \"validation\" : 1, \"test\" : 5}    # Which partitions to use\n",
    "batch_size = 64\n",
    "seed= 123\n",
    "\n",
    "setup_seed(seed)\n",
    "device = torch.device(\"cuda\" if cuda.is_available() else \"cpu\")\n",
    "#device= torch.device(\"cpu\")"
   ]
  },
  {
   "cell_type": "markdown",
   "metadata": {},
   "source": [
    "## Define Network parameters\n",
    "\n",
    "For now just have the network parameters be defined here. They should perhaps be moved later"
   ]
  },
  {
   "cell_type": "markdown",
   "metadata": {},
   "source": [
    "## Load Data"
   ]
  },
  {
   "cell_type": "code",
   "execution_count": 14,
   "metadata": {},
   "outputs": [
    {
     "name": "stdout",
     "output_type": "stream",
     "text": [
      "Test(\n",
      "  (conv1): Conv1d(27, 100, kernel_size=(3,), stride=(2,), padding=(1,))\n",
      "  (conv2): Conv1d(100, 100, kernel_size=(3,), stride=(2,), padding=(1,))\n",
      "  (pool): MaxPool1d(kernel_size=2, stride=2, padding=0, dilation=1, ceil_mode=False)\n",
      "  (rnn1): LSTM(100, 50, batch_first=True, bidirectional=True)\n",
      "  (dense1): Linear(in_features=127, out_features=60, bias=True)\n",
      "  (dense2): Linear(in_features=60, out_features=60, bias=True)\n",
      "  (dense3): Linear(in_features=60, out_features=1, bias=True)\n",
      "  (bn_start): BatchNorm1d(27, eps=1e-05, momentum=0.1, affine=True, track_running_stats=True)\n",
      "  (bn_cnn1): BatchNorm1d(100, eps=1e-05, momentum=0.1, affine=True, track_running_stats=True)\n",
      "  (bn_cnn2): BatchNorm1d(100, eps=1e-05, momentum=0.1, affine=True, track_running_stats=True)\n",
      "  (bn_dense): BatchNorm1d(127, eps=1e-05, momentum=0.1, affine=True, track_running_stats=True)\n",
      "  (drop): Dropout(p=0.5, inplace=False)\n",
      "  (heavy_drop): Dropout(p=0.7, inplace=False)\n",
      ")\n",
      "Using Device: cpu\n"
     ]
    }
   ],
   "source": [
    "\n",
    "########### Select Indexes ############\n",
    "\n",
    "# Full model\n",
    "#idx = np.arange(420)\n",
    "\n",
    "# peptide + TCR\n",
    "idx = np.arange(179,420)\n",
    "\n",
    "# MHC + TCR\n",
    "#idx = np.concatenate([np.arange(179),np.arange(192,420)])\n",
    "\n",
    "# TCR\n",
    "#idx = np.arange(192,420)\n",
    "\n",
    "# MHC + peptide\n",
    "#idx = np.arange(192)\n",
    "\n",
    "########### Select Features ###########\n",
    "\n",
    "# All features\n",
    "local_features = np.arange(27)\n",
    "global_features = np.arange(27, 54)\n",
    "use_global_features = True\n",
    "\n",
    "# Sequence\n",
    "#local_features = np.arange(20)\n",
    "#global_features = None\n",
    "#use_global_features = False\n",
    "\n",
    "# Energy terms\n",
    "#local_features = np.arange(20, 27)\n",
    "#global_features = np.arange(27, 54)\n",
    "#use_global_features = True\n",
    "\n",
    "# Sequence and global energy\n",
    "#local_features = np.arange(20)\n",
    "#global_features = np.arange(27, 54)\n",
    "#use_global_features = True\n",
    "\n",
    "net = Test(local_features, global_features, use_global_features)\n",
    "net.to(device)\n",
    "print(net)\n",
    "print(\"Using Device:\", device)\n"
   ]
  },
  {
   "cell_type": "code",
   "execution_count": 15,
   "metadata": {},
   "outputs": [],
   "source": [
    "train_dl, x_train, y_train = load_data(data_path, partitions[\"train\"], batch_size, idx, seed)\n",
    "val_dl, x_val, y_val = load_data(data_path, partitions[\"validation\"], batch_size, idx, seed)\n",
    "test_dl, x_test, y_test = load_data(data_path, partitions[\"test\"], batch_size, idx, seed)"
   ]
  },
  {
   "cell_type": "code",
   "execution_count": 16,
   "metadata": {},
   "outputs": [],
   "source": [
    "#Hyperparameters\n",
    "epochs = 100\n",
    "patience = 15\n",
    "lr = 0.005\n",
    "loss_weight = sum(y_train) / len(y_train)\n",
    "model_name = \"minimize_input.pt\"\n",
    "\n",
    "\n",
    "# Loss and optimizer\n",
    "criterion = nn.BCELoss(reduction='none')\n",
    "optimizer = optim.Adam(net.parameters(), lr=lr,\n",
    "    weight_decay=0.0005,\n",
    "    amsgrad=True\n",
    ")\n",
    "\n",
    "stopper = EarlyStopping(patience, model_name)\n",
    "# Define runners\n",
    "train_runner = Runner(train_dl, net, criterion, loss_weight, device, optimizer)\n",
    "val_runner = Runner(val_dl, net, criterion, loss_weight, device)\n",
    "test_runner = Runner(test_dl, net, criterion, loss_weight, device)"
   ]
  },
  {
   "cell_type": "markdown",
   "metadata": {},
   "source": [
    "## Training Loop"
   ]
  },
  {
   "cell_type": "code",
   "execution_count": 17,
   "metadata": {},
   "outputs": [
    {
     "name": "stdout",
     "output_type": "stream",
     "text": [
      "Epoch: 1\n",
      "Train loss: 0.45301587653882575 Train MCC: 0.02267399831115372 Train AUC: 0.5124534694718528\n",
      "Validation loss: 0.2601613799730937 Validation MCC: 0.014745671943736476 Validation AUC: 0.5826329567373932\n",
      "Validation loss decreased. Counter reset\n"
     ]
    },
    {
     "name": "stderr",
     "output_type": "stream",
     "text": [
      "/Users/christianjohansen/opt/anaconda3/lib/python3.8/site-packages/sklearn/metrics/_classification.py:846: RuntimeWarning: invalid value encountered in double_scalars\n",
      "  mcc = cov_ytyp / np.sqrt(cov_ytyt * cov_ypyp)\n"
     ]
    },
    {
     "name": "stdout",
     "output_type": "stream",
     "text": [
      "Epoch: 2\n",
      "Train loss: 0.28016217549641925 Train MCC: 0.019811679936575156 Train AUC: 0.5123710537762414\n",
      "Validation loss: 0.26059697071711224 Validation MCC: 0.0 Validation AUC: 0.5510379351520162\n",
      "Early Stopping Counter: 1 out of 15\n"
     ]
    },
    {
     "name": "stderr",
     "output_type": "stream",
     "text": [
      "/Users/christianjohansen/opt/anaconda3/lib/python3.8/site-packages/sklearn/metrics/_classification.py:846: RuntimeWarning: invalid value encountered in double_scalars\n",
      "  mcc = cov_ytyp / np.sqrt(cov_ytyt * cov_ypyp)\n"
     ]
    },
    {
     "name": "stdout",
     "output_type": "stream",
     "text": [
      "Epoch: 3\n",
      "Train loss: 0.26529257225267816 Train MCC: 0.02393442898491818 Train AUC: 0.5092172798241799\n",
      "Validation loss: 0.26004640261332196 Validation MCC: 0.0 Validation AUC: 0.6083494075502893\n",
      "Validation loss decreased. Counter reset\n"
     ]
    },
    {
     "name": "stderr",
     "output_type": "stream",
     "text": [
      "/Users/christianjohansen/opt/anaconda3/lib/python3.8/site-packages/sklearn/metrics/_classification.py:846: RuntimeWarning: invalid value encountered in double_scalars\n",
      "  mcc = cov_ytyp / np.sqrt(cov_ytyt * cov_ypyp)\n"
     ]
    },
    {
     "name": "stdout",
     "output_type": "stream",
     "text": [
      "Epoch: 4\n",
      "Train loss: 0.26153752298066113 Train MCC: 0.049201616718860565 Train AUC: 0.5293720381859389\n",
      "Validation loss: 0.26000096400578815 Validation MCC: 0.0 Validation AUC: 0.6277693579498484\n",
      "Validation loss decreased. Counter reset\n"
     ]
    },
    {
     "name": "stderr",
     "output_type": "stream",
     "text": [
      "/Users/christianjohansen/opt/anaconda3/lib/python3.8/site-packages/sklearn/metrics/_classification.py:846: RuntimeWarning: invalid value encountered in double_scalars\n",
      "  mcc = cov_ytyp / np.sqrt(cov_ytyt * cov_ypyp)\n"
     ]
    },
    {
     "name": "stdout",
     "output_type": "stream",
     "text": [
      "Epoch: 5\n",
      "Train loss: 0.2618384505763198 Train MCC: 0.03235673740012139 Train AUC: 0.5141577955327641\n",
      "Validation loss: 0.2601264516512553 Validation MCC: 0.0 Validation AUC: 0.5175978230917608\n",
      "Early Stopping Counter: 1 out of 15\n",
      "Epoch: 6\n",
      "Train loss: 0.2601405635024562 Train MCC: 0.0250411891887073 Train AUC: 0.5138420213212457\n",
      "Validation loss: 0.25923367341359455 Validation MCC: 0.03115402416309531 Validation AUC: 0.5993708092220079\n",
      "Validation loss decreased. Counter reset\n"
     ]
    },
    {
     "name": "stderr",
     "output_type": "stream",
     "text": [
      "/Users/christianjohansen/opt/anaconda3/lib/python3.8/site-packages/sklearn/metrics/_classification.py:846: RuntimeWarning: invalid value encountered in double_scalars\n",
      "  mcc = cov_ytyp / np.sqrt(cov_ytyt * cov_ypyp)\n"
     ]
    },
    {
     "name": "stdout",
     "output_type": "stream",
     "text": [
      "Epoch: 7\n",
      "Train loss: 0.26009059674812085 Train MCC: 0.05393965436758492 Train AUC: 0.5224627030821943\n",
      "Validation loss: 0.25935693581899005 Validation MCC: 0.0 Validation AUC: 0.6457851106824652\n",
      "Early Stopping Counter: 1 out of 15\n",
      "Epoch: 8\n",
      "Train loss: 0.2588593165079753 Train MCC: 0.06642941329553745 Train AUC: 0.5523913524568271\n",
      "Validation loss: 0.25912779569625854 Validation MCC: -0.000202364737211267 Validation AUC: 0.687248553320474\n",
      "Validation loss decreased. Counter reset\n",
      "Epoch: 9\n",
      "Train loss: 0.2592454968076764 Train MCC: 0.05692746731891102 Train AUC: 0.5456457803926955\n",
      "Validation loss: 0.2581053376197815 Validation MCC: 0.05056142420938345 Validation AUC: 0.6963442638008634\n",
      "Validation loss decreased. Counter reset\n",
      "Epoch: 10\n",
      "Train loss: 0.25794058135061554 Train MCC: 0.07586665380849443 Train AUC: 0.5660258083224591\n",
      "Validation loss: 0.2559749682744344 Validation MCC: 0.18600230041759502 Validation AUC: 0.7106882061173876\n",
      "Validation loss decreased. Counter reset\n",
      "Epoch: 11\n",
      "Train loss: 0.2576116793083422 Train MCC: 0.10252279546675205 Train AUC: 0.585003853696878\n",
      "Validation loss: 0.25463394323984784 Validation MCC: 0.17449985632848003 Validation AUC: 0.7267337191145402\n",
      "Validation loss decreased. Counter reset\n",
      "Epoch: 12\n",
      "Train loss: 0.25234569202769885 Train MCC: 0.1398563340340487 Train AUC: 0.6120957243042361\n",
      "Validation loss: 0.24567596117655435 Validation MCC: 0.15619647859441824 Validation AUC: 0.7357995774777256\n",
      "Validation loss decreased. Counter reset\n",
      "Epoch: 13\n",
      "Train loss: 0.2483759793368253 Train MCC: 0.1803920746438191 Train AUC: 0.646307242660806\n",
      "Validation loss: 0.23280827204386392 Validation MCC: 0.24864252127131123 Validation AUC: 0.7466588591898595\n",
      "Validation loss decreased. Counter reset\n",
      "Epoch: 14\n",
      "Train loss: 0.2404815789425012 Train MCC: 0.2371073043316604 Train AUC: 0.6727046847218088\n",
      "Validation loss: 0.20565426349639893 Validation MCC: 0.5950687286400709 Validation AUC: 0.7698585468907873\n",
      "Validation loss decreased. Counter reset\n",
      "Epoch: 15\n",
      "Train loss: 0.2255577752084443 Train MCC: 0.3832908942747922 Train AUC: 0.7349477652373648\n",
      "Validation loss: 0.18268408377965292 Validation MCC: 0.6273857615881963 Validation AUC: 0.8673521172040048\n",
      "Validation loss decreased. Counter reset\n",
      "Epoch: 16\n",
      "Train loss: 0.20680219476873224 Train MCC: 0.5040033717249411 Train AUC: 0.7697944949367765\n",
      "Validation loss: 0.17746537923812866 Validation MCC: 0.6233097398383007 Validation AUC: 0.8741067328005878\n",
      "Validation loss decreased. Counter reset\n",
      "Epoch: 17\n",
      "Train loss: 0.1985230012373491 Train MCC: 0.5449762869291627 Train AUC: 0.7966868890364232\n",
      "Validation loss: 0.17142462730407715 Validation MCC: 0.6274106032492673 Validation AUC: 0.8790162579222927\n",
      "Validation loss decreased. Counter reset\n",
      "Epoch: 18\n",
      "Train loss: 0.1877522613063003 Train MCC: 0.5338567922680767 Train AUC: 0.8110884213578748\n",
      "Validation loss: 0.1678167780240377 Validation MCC: 0.6149710316598732 Validation AUC: 0.8654611003949666\n",
      "Validation loss decreased. Counter reset\n",
      "Epoch: 19\n",
      "Train loss: 0.18800816391453598 Train MCC: 0.5408670261545561 Train AUC: 0.8222757415504834\n",
      "Validation loss: 0.1635353962580363 Validation MCC: 0.6377003483517965 Validation AUC: 0.88756314870947\n",
      "Validation loss decreased. Counter reset\n",
      "Epoch: 20\n",
      "Train loss: 0.18487947637384589 Train MCC: 0.4944000977648437 Train AUC: 0.8280956632555725\n",
      "Validation loss: 0.16234621405601501 Validation MCC: 0.6335933857335183 Validation AUC: 0.887544778175806\n",
      "Validation loss decreased. Counter reset\n",
      "Epoch: 21\n",
      "Train loss: 0.18352437741828687 Train MCC: 0.538792572555292 Train AUC: 0.8344827270437948\n",
      "Validation loss: 0.16135201851526895 Validation MCC: 0.6273857615881963 Validation AUC: 0.87452925507486\n",
      "Validation loss decreased. Counter reset\n",
      "Epoch: 22\n",
      "Train loss: 0.18359182820175635 Train MCC: 0.5082280993423909 Train AUC: 0.8340147890387124\n",
      "Validation loss: 0.16504135727882385 Validation MCC: 0.6315354688214092 Validation AUC: 0.8680444566914669\n",
      "Early Stopping Counter: 1 out of 15\n",
      "Epoch: 23\n",
      "Train loss: 0.1789064985333067 Train MCC: 0.5230672532936887 Train AUC: 0.8466100440313484\n",
      "Validation loss: 0.16076799233754477 Validation MCC: 0.5168161504755637 Validation AUC: 0.8780265454211444\n",
      "Validation loss decreased. Counter reset\n",
      "Epoch: 24\n",
      "Train loss: 0.1767666701114539 Train MCC: 0.513703934569529 Train AUC: 0.8474006242225834\n",
      "Validation loss: 0.15922682483990988 Validation MCC: 0.6172686772959923 Validation AUC: 0.8785317350969046\n",
      "Validation loss decreased. Counter reset\n",
      "Epoch: 25\n",
      "Train loss: 0.18190067464655096 Train MCC: 0.5158929584234189 Train AUC: 0.8466393473897881\n",
      "Validation loss: 0.16219817598660788 Validation MCC: 0.6255036628116727 Validation AUC: 0.8639524203178102\n",
      "Early Stopping Counter: 1 out of 15\n",
      "Epoch: 26\n",
      "Train loss: 0.1761153250029593 Train MCC: 0.5094637492235972 Train AUC: 0.8477605060934197\n",
      "Validation loss: 0.1534066597620646 Validation MCC: 0.6399115267195546 Validation AUC: 0.8989413979976117\n",
      "Validation loss decreased. Counter reset\n",
      "Epoch: 27\n",
      "Train loss: 0.1701517105102539 Train MCC: 0.546918581948772 Train AUC: 0.8598844654044857\n",
      "Validation loss: 0.15095563729604086 Validation MCC: 0.5068804636946825 Validation AUC: 0.8931018646091669\n",
      "Validation loss decreased. Counter reset\n",
      "Epoch: 28\n",
      "Train loss: 0.17543143937082 Train MCC: 0.5424788925653924 Train AUC: 0.8538426318078799\n",
      "Validation loss: 0.15470951795578003 Validation MCC: 0.6480168694315008 Validation AUC: 0.8975590153393955\n",
      "Early Stopping Counter: 1 out of 15\n",
      "Epoch: 29\n",
      "Train loss: 0.17029119260383374 Train MCC: 0.5272609000032119 Train AUC: 0.8637836435368544\n",
      "Validation loss: 0.1517331302165985 Validation MCC: 0.635980039298428 Validation AUC: 0.9015775695783963\n",
      "Early Stopping Counter: 2 out of 15\n",
      "Epoch: 30\n",
      "Train loss: 0.17138661760272403 Train MCC: 0.544001363678915 Train AUC: 0.8658422044672359\n",
      "Validation loss: 0.15409323573112488 Validation MCC: 0.5289262046467381 Validation AUC: 0.8828947368421052\n",
      "Early Stopping Counter: 3 out of 15\n",
      "Epoch: 31\n",
      "Train loss: 0.16811935829393793 Train MCC: 0.5412978753242141 Train AUC: 0.8678181970803477\n",
      "Validation loss: 0.1500139037768046 Validation MCC: 0.47321844097702426 Validation AUC: 0.8934417194819511\n",
      "Validation loss decreased. Counter reset\n",
      "Epoch: 32\n",
      "Train loss: 0.16665634964451645 Train MCC: 0.5233094509459191 Train AUC: 0.8697963263966789\n",
      "Validation loss: 0.1537303626537323 Validation MCC: 0.5007413344625853 Validation AUC: 0.8915679250482226\n",
      "Early Stopping Counter: 1 out of 15\n",
      "Epoch: 33\n",
      "Train loss: 0.16846558541962595 Train MCC: 0.5344809502161054 Train AUC: 0.8656883618354281\n",
      "Validation loss: 0.1508424480756124 Validation MCC: 0.5441566930452464 Validation AUC: 0.8913520712776707\n",
      "Early Stopping Counter: 2 out of 15\n",
      "Epoch: 34\n",
      "Train loss: 0.16374371268532492 Train MCC: 0.5605817959455208 Train AUC: 0.8780247704951809\n",
      "Validation loss: 0.14889384309450784 Validation MCC: 0.5150753433829222 Validation AUC: 0.8861256544502618\n",
      "Validation loss decreased. Counter reset\n",
      "Epoch: 35\n",
      "Train loss: 0.16253800825639206 Train MCC: 0.5337754258951503 Train AUC: 0.871852750623841\n",
      "Validation loss: 0.14643155535062155 Validation MCC: 0.5468857963985541 Validation AUC: 0.8982387250849636\n",
      "Validation loss decreased. Counter reset\n",
      "Epoch: 36\n",
      "Train loss: 0.1688665332216205 Train MCC: 0.5190991768738727 Train AUC: 0.8733548529871875\n",
      "Validation loss: 0.1506782372792562 Validation MCC: 0.5267796544074017 Validation AUC: 0.892817121337375\n",
      "Early Stopping Counter: 1 out of 15\n",
      "Epoch: 37\n",
      "Train loss: 0.1667947769165039 Train MCC: 0.5594208528952761 Train AUC: 0.8725264226246345\n",
      "Validation loss: 0.14688222606976828 Validation MCC: 0.5038108990786339 Validation AUC: 0.8898135390833104\n",
      "Early Stopping Counter: 2 out of 15\n",
      "Epoch: 38\n",
      "Train loss: 0.16319214213978162 Train MCC: 0.5530051173240826 Train AUC: 0.8761368405790467\n",
      "Validation loss: 0.15382569034894308 Validation MCC: 0.4896211727715661 Validation AUC: 0.8846123817396896\n",
      "Early Stopping Counter: 3 out of 15\n",
      "Epoch: 39\n",
      "Train loss: 0.16263526858705463 Train MCC: 0.5443248309126723 Train AUC: 0.8749364712346329\n",
      "Validation loss: 0.15050373474756876 Validation MCC: 0.6305434835791308 Validation AUC: 0.8960250757784514\n",
      "Early Stopping Counter: 4 out of 15\n",
      "Epoch: 40\n",
      "Train loss: 0.16226245417739404 Train MCC: 0.5484990033625072 Train AUC: 0.8770260143616981\n",
      "Validation loss: 0.15495331088701883 Validation MCC: 0.6316808862136967 Validation AUC: 0.8761045283365482\n",
      "Early Stopping Counter: 5 out of 15\n",
      "Epoch: 41\n",
      "Train loss: 0.16026397184892135 Train MCC: 0.5663080262444822 Train AUC: 0.8818915928359394\n",
      "Validation loss: 0.14648988842964172 Validation MCC: 0.5397769922376651 Validation AUC: 0.9032378065582805\n",
      "Early Stopping Counter: 6 out of 15\n",
      "Epoch: 42\n",
      "Train loss: 0.16524301875721326 Train MCC: 0.5307186382330915 Train AUC: 0.8726970536388817\n",
      "Validation loss: 0.15755127867062887 Validation MCC: 0.5257246384272838 Validation AUC: 0.8764317534674382\n",
      "Early Stopping Counter: 7 out of 15\n",
      "Epoch: 43\n",
      "Train loss: 0.16483912323460434 Train MCC: 0.5272598566954632 Train AUC: 0.8686437276313881\n",
      "Validation loss: 0.1483760674794515 Validation MCC: 0.649922639627687 Validation AUC: 0.8976922017084596\n",
      "Early Stopping Counter: 8 out of 15\n",
      "Epoch: 44\n",
      "Train loss: 0.15614129557754053 Train MCC: 0.5651032973666654 Train AUC: 0.8848275756812649\n",
      "Validation loss: 0.14347283045450845 Validation MCC: 0.5449802538617942 Validation AUC: 0.9007451547717461\n",
      "Validation loss decreased. Counter reset\n",
      "Epoch: 45\n",
      "Train loss: 0.16086615938128848 Train MCC: 0.5538760795381886 Train AUC: 0.8797629785642881\n",
      "Validation loss: 0.14758610725402832 Validation MCC: 0.5147786727670777 Validation AUC: 0.8929388261228989\n",
      "Early Stopping Counter: 1 out of 15\n",
      "Epoch: 46\n",
      "Train loss: 0.1599524382388953 Train MCC: 0.5498899050912651 Train AUC: 0.8804589333272285\n",
      "Validation loss: 0.14890097578366598 Validation MCC: 0.5185692073496736 Validation AUC: 0.8965210801873794\n",
      "Early Stopping Counter: 2 out of 15\n",
      "Epoch: 47\n",
      "Train loss: 0.15901941241640033 Train MCC: 0.5623235027682753 Train AUC: 0.8823114550185817\n",
      "Validation loss: 0.14925769964853922 Validation MCC: 0.5670077492286296 Validation AUC: 0.8917791861853587\n",
      "Early Stopping Counter: 3 out of 15\n",
      "Epoch: 48\n",
      "Train loss: 0.16301474426731918 Train MCC: 0.5415153191644384 Train AUC: 0.880735178529185\n",
      "Validation loss: 0.1461572547753652 Validation MCC: 0.5247480007754198 Validation AUC: 0.8985854689078718\n",
      "Early Stopping Counter: 4 out of 15\n",
      "Epoch: 49\n",
      "Train loss: 0.16232166868267636 Train MCC: 0.53937079377126 Train AUC: 0.874156421937837\n",
      "Validation loss: 0.1469680368900299 Validation MCC: 0.6238073326944448 Validation AUC: 0.8897928722329382\n",
      "Early Stopping Counter: 5 out of 15\n",
      "Epoch: 50\n",
      "Train loss: 0.15992050459890655 Train MCC: 0.5431957139125689 Train AUC: 0.8788051250352937\n",
      "Validation loss: 0.15599530935287476 Validation MCC: 0.656187173874392 Validation AUC: 0.8763364563240562\n",
      "Early Stopping Counter: 6 out of 15\n",
      "Epoch: 51\n",
      "Train loss: 0.1610107421875 Train MCC: 0.5707996797198042 Train AUC: 0.887981197011668\n",
      "Validation loss: 0.1532285213470459 Validation MCC: 0.6357406139681622 Validation AUC: 0.8896941306144944\n",
      "Early Stopping Counter: 7 out of 15\n",
      "Epoch: 52\n",
      "Train loss: 0.15997710372462418 Train MCC: 0.5624436026522334 Train AUC: 0.8803188266446891\n",
      "Validation loss: 0.14929542938868204 Validation MCC: 0.5319556300611316 Validation AUC: 0.8830072563607972\n",
      "Early Stopping Counter: 8 out of 15\n",
      "Epoch: 53\n",
      "Train loss: 0.15698451706857391 Train MCC: 0.5765667423993718 Train AUC: 0.8857976389429425\n",
      "Validation loss: 0.1523697872956594 Validation MCC: 0.603422796031509 Validation AUC: 0.8824400661339211\n",
      "Early Stopping Counter: 9 out of 15\n",
      "Epoch: 54\n",
      "Train loss: 0.16126391381928415 Train MCC: 0.5565216404629476 Train AUC: 0.8774223728089253\n",
      "Validation loss: 0.14944412310918173 Validation MCC: 0.6479149203041006 Validation AUC: 0.8843345274180215\n",
      "Early Stopping Counter: 10 out of 15\n",
      "Epoch: 55\n",
      "Train loss: 0.158863674510609 Train MCC: 0.5770647352674364 Train AUC: 0.8839326022755889\n",
      "Validation loss: 0.14723220467567444 Validation MCC: 0.5419779323244447 Validation AUC: 0.9001446679526041\n",
      "Early Stopping Counter: 11 out of 15\n",
      "Epoch: 56\n",
      "Train loss: 0.16228762539950284 Train MCC: 0.5587892481639982 Train AUC: 0.8814865349541754\n",
      "Validation loss: 0.15065109729766846 Validation MCC: 0.5012231349678359 Validation AUC: 0.8881383760448242\n",
      "Early Stopping Counter: 12 out of 15\n",
      "Epoch: 57\n",
      "Train loss: 0.1617957606460109 Train MCC: 0.5636508514635628 Train AUC: 0.8802867760963958\n",
      "Validation loss: 0.15395285685857138 Validation MCC: 0.5839916612820737 Validation AUC: 0.8901258381555984\n",
      "Early Stopping Counter: 13 out of 15\n",
      "Epoch: 58\n",
      "Train loss: 0.15998815767692798 Train MCC: 0.5394956032734971 Train AUC: 0.8795641125432111\n",
      "Validation loss: 0.1417439083258311 Validation MCC: 0.5457536535679706 Validation AUC: 0.9020804629374483\n",
      "Validation loss decreased. Counter reset\n",
      "Epoch: 59\n",
      "Train loss: 0.15666101918076025 Train MCC: 0.5508453287065698 Train AUC: 0.8882723991361614\n",
      "Validation loss: 0.15131171544392905 Validation MCC: 0.4956563638716444 Validation AUC: 0.8873472949389181\n",
      "Early Stopping Counter: 1 out of 15\n",
      "Epoch: 60\n",
      "Train loss: 0.15959433353308475 Train MCC: 0.5241892659280868 Train AUC: 0.8801785673404913\n",
      "Validation loss: 0.14309324820836386 Validation MCC: 0.5182142584607932 Validation AUC: 0.8905621383301184\n",
      "Early Stopping Counter: 2 out of 15\n",
      "Epoch: 61\n",
      "Train loss: 0.16034539540608725 Train MCC: 0.5569064561576972 Train AUC: 0.8841574139786177\n",
      "Validation loss: 0.14498332142829895 Validation MCC: 0.5266234620152387 Validation AUC: 0.8984109488380638\n",
      "Early Stopping Counter: 3 out of 15\n",
      "Epoch: 62\n",
      "Train loss: 0.16328068935509885 Train MCC: 0.5513884482727378 Train AUC: 0.8882876613020154\n",
      "Validation loss: 0.15339065591494241 Validation MCC: 0.48492478061165084 Validation AUC: 0.8860636538991458\n",
      "Early Stopping Counter: 4 out of 15\n",
      "Epoch: 63\n",
      "Train loss: 0.15616177067612158 Train MCC: 0.5529062837245492 Train AUC: 0.8862812969788543\n",
      "Validation loss: 0.14504748582839966 Validation MCC: 0.5342347718604173 Validation AUC: 0.8958184072747314\n",
      "Early Stopping Counter: 5 out of 15\n",
      "Epoch: 64\n",
      "Train loss: 0.15779956181844076 Train MCC: 0.5676117592753411 Train AUC: 0.8877144143525407\n",
      "Validation loss: 0.14413805802663168 Validation MCC: 0.5485353643516279 Validation AUC: 0.8963718196013595\n",
      "Early Stopping Counter: 6 out of 15\n",
      "Epoch: 65\n",
      "Train loss: 0.15781039902658173 Train MCC: 0.5618950772862513 Train AUC: 0.8843457491052555\n",
      "Validation loss: 0.1452764372030894 Validation MCC: 0.5156703442807475 Validation AUC: 0.8956760356388354\n",
      "Early Stopping Counter: 7 out of 15\n",
      "Epoch: 66\n",
      "Train loss: 0.15079566204186642 Train MCC: 0.5842580241594691 Train AUC: 0.8957627648939663\n",
      "Validation loss: 0.14589770634969076 Validation MCC: 0.5772155114165868 Validation AUC: 0.9004983007256361\n",
      "Early Stopping Counter: 8 out of 15\n",
      "Epoch: 67\n",
      "Train loss: 0.1523505702163234 Train MCC: 0.5732742448381746 Train AUC: 0.8952719336401029\n",
      "Validation loss: 0.14722501238187155 Validation MCC: 0.5218231488889997 Validation AUC: 0.8950973638284192\n",
      "Early Stopping Counter: 9 out of 15\n",
      "Epoch: 68\n",
      "Train loss: 0.15712528517751984 Train MCC: 0.5536577116130407 Train AUC: 0.8879517410315697\n",
      "Validation loss: 0.15168736378351846 Validation MCC: 0.4924578300041669 Validation AUC: 0.8862622852943878\n",
      "Early Stopping Counter: 10 out of 15\n",
      "Epoch: 69\n",
      "Train loss: 0.16113604921283145 Train MCC: 0.566616751580482 Train AUC: 0.884603832329846\n",
      "Validation loss: 0.14637651046117148 Validation MCC: 0.5203846938545009 Validation AUC: 0.8997014788279599\n",
      "Early Stopping Counter: 11 out of 15\n",
      "Epoch: 70\n",
      "Train loss: 0.1546259359879927 Train MCC: 0.5751546820569324 Train AUC: 0.8924778889372189\n",
      "Validation loss: 0.1436428725719452 Validation MCC: 0.5456550364373476 Validation AUC: 0.9044123725544229\n",
      "Early Stopping Counter: 12 out of 15\n",
      "Epoch: 71\n",
      "Train loss: 0.1565126794757265 Train MCC: 0.5374564415323785 Train AUC: 0.8883386369359675\n",
      "Validation loss: 0.14915854732195535 Validation MCC: 0.5116988204971288 Validation AUC: 0.894256911913291\n",
      "Early Stopping Counter: 13 out of 15\n",
      "Epoch: 72\n",
      "Train loss: 0.15004644971905332 Train MCC: 0.5913574772083345 Train AUC: 0.8975160825072688\n",
      "Validation loss: 0.14618109663327536 Validation MCC: 0.5167594832166059 Validation AUC: 0.8928676403049509\n",
      "Early Stopping Counter: 14 out of 15\n",
      "Epoch: 73\n",
      "Train loss: 0.15842059164336234 Train MCC: 0.5527784040081308 Train AUC: 0.8842057950443747\n",
      "Validation loss: 0.14536450306574503 Validation MCC: 0.5236769230176975 Validation AUC: 0.8945106549095253\n",
      "Early Stopping\n"
     ]
    }
   ],
   "source": [
    "train_loss, val_loss, train_auc, val_auc = [], [], [], []\n",
    "\n",
    "for epoch in range(1, epochs+1):\n",
    "    train_runner.run_epoch()\n",
    "    val_runner.run_epoch()\n",
    "    \n",
    "    train_runner.follow_performance(epoch)\n",
    "    val_runner.follow_performance(epoch)\n",
    "    stopper.evaluate_epoch(val_runner.loss, net, epoch)\n",
    "    \n",
    "    train_loss.append(train_runner.loss)\n",
    "    val_loss.append(val_runner.loss)\n",
    "    train_auc.append(train_runner.auc)\n",
    "    val_auc.append(val_runner.auc)\n",
    "    \n",
    "    train_runner.reset()\n",
    "    val_runner.reset()\n",
    "\n",
    "    if stopper.stop:\n",
    "        break\n"
   ]
  },
  {
   "cell_type": "code",
   "execution_count": 18,
   "metadata": {},
   "outputs": [
    {
     "data": {
      "text/plain": [
       "(Text(0.5, 0, 'Epoch'), Text(0, 0.5, 'Loss'))"
      ]
     },
     "execution_count": 18,
     "metadata": {},
     "output_type": "execute_result"
    },
    {
     "data": {
      "image/png": "[encoded data removed]",
      "text/plain": [
       "<Figure size 432x288 with 1 Axes>"
      ]
     },
     "metadata": {},
     "output_type": "display_data"
    },
    {
     "data": {
      "image/png": "[encoded data removed]",
      "text/plain": [
       "<Figure size 432x288 with 1 Axes>"
      ]
     },
     "metadata": {},
     "output_type": "display_data"
    }
   ],
   "source": [
    "# Plots of training epochs\n",
    "epoch = np.arange(1, len(train_loss) + 1)\n",
    "plt.figure()\n",
    "plt.plot(epoch, train_loss, \"r\", epoch, val_loss, \"b\", linewidth=3)\n",
    "plt.vlines(stopper.best_epoch, ymin=0, ymax=0.3, colors=\"black\", linestyles='dashed')\n",
    "plt.legend([\"Train Loss\", \"Validation Loss\", \"Best Epoch\"])\n",
    "plt.xlabel(\"Epoch\"), plt.ylabel(\"Loss\")\n",
    "\n",
    "epoch = np.arange(1, len(train_loss) + 1)\n",
    "plt.figure()\n",
    "plt.plot(epoch, train_auc, \"r\", epoch, val_auc, \"b\", linewidth=3)\n",
    "plt.vlines(stopper.best_epoch, ymin=0, ymax=1, colors=\"black\", linestyles='dashed')\n",
    "plt.legend([\"Train AUC\", \"Validation AUC\", \"Best Epoch\"])\n",
    "plt.xlabel(\"Epoch\"), plt.ylabel(\"Loss\")"
   ]
  },
  {
   "cell_type": "markdown",
   "metadata": {},
   "source": [
    "## Evaluate using the best model\n",
    "\n",
    "Best model is stored as early_stopping_state.pt and loaded into a new object"
   ]
  },
  {
   "cell_type": "code",
   "execution_count": 19,
   "metadata": {},
   "outputs": [],
   "source": [
    "final_model = Test(local_features, global_features, use_global_features)\n",
    "final_model.load_state_dict(torch.load(\"early_stopping_state.pt\"))\n",
    "final_model.to(device)\n",
    "\n",
    "train_runner.model = final_model\n",
    "val_runner.model = final_model\n",
    "test_runner.model = final_model"
   ]
  },
  {
   "cell_type": "code",
   "execution_count": 20,
   "metadata": {},
   "outputs": [],
   "source": [
    "train_runner.reset()\n",
    "val_runner.reset()\n",
    "test_runner.reset()\n",
    "\n",
    "train_runner.evaluation_mode() # Set to validation to avoid more training\n",
    "train_runner.run_epoch()\n",
    "val_runner.run_epoch()\n",
    "test_runner.run_epoch()"
   ]
  },
  {
   "cell_type": "code",
   "execution_count": 21,
   "metadata": {},
   "outputs": [
    {
     "name": "stdout",
     "output_type": "stream",
     "text": [
      "Evaluation on Training Data:\n",
      "Loss: 0.12880394675514914\n",
      "MCC: 0.5726604385623059\n",
      "Confussion Matrix:\n",
      " [[2467  668]\n",
      " [ 154  891]] \n",
      "\n",
      "Evaluation on Validation Data:\n",
      "Loss: 0.1417439083258311\n",
      "MCC: 0.5457536535679706\n",
      "Confussion Matrix:\n",
      " [[879 267]\n",
      " [ 58 322]] \n",
      "\n",
      "Evaluation on Test Data:\n",
      "Loss: 0.1678910129948666\n",
      "MCC: 0.46607006958288394\n",
      "Confussion Matrix:\n",
      " [[674 232]\n",
      " [ 66 235]] \n",
      "\n"
     ]
    },
    {
     "data": {
      "text/plain": [
       "Text(0.5, 1.0, 'Test Data')"
      ]
     },
     "execution_count": 21,
     "metadata": {},
     "output_type": "execute_result"
    },
    {
     "data": {
      "image/png": "[encoded data removed]",
      "text/plain": [
       "<Figure size 432x288 with 1 Axes>"
      ]
     },
     "metadata": {},
     "output_type": "display_data"
    },
    {
     "data": {
      "image/png": "[encoded data removed]",
      "text/plain": [
       "<Figure size 432x288 with 1 Axes>"
      ]
     },
     "metadata": {},
     "output_type": "display_data"
    },
    {
     "data": {
      "image/png": "[encoded data removed]",
      "text/plain": [
       "<Figure size 432x288 with 1 Axes>"
      ]
     },
     "metadata": {},
     "output_type": "display_data"
    }
   ],
   "source": [
    "print(\"Evaluation on Training Data:\")\n",
    "train_runner.evaluate_model()\n",
    "plt.title(\"Training Data\")\n",
    "\n",
    "print(\"Evaluation on Validation Data:\")\n",
    "val_runner.evaluate_model()\n",
    "plt.title(\"Evaluation Data\")\n",
    "\n",
    "print(\"Evaluation on Test Data:\")\n",
    "test_runner.evaluate_model()\n",
    "plt.title(\"Test Data\")\n"
   ]
  },
  {
   "cell_type": "code",
   "execution_count": 13,
   "metadata": {},
   "outputs": [
    {
     "data": {
      "text/html": [
       "<div>\n",
       "<style scoped>\n",
       "    .dataframe tbody tr th:only-of-type {\n",
       "        vertical-align: middle;\n",
       "    }\n",
       "\n",
       "    .dataframe tbody tr th {\n",
       "        vertical-align: top;\n",
       "    }\n",
       "\n",
       "    .dataframe thead th {\n",
       "        text-align: right;\n",
       "    }\n",
       "</style>\n",
       "<table border=\"1\" class=\"dataframe\">\n",
       "  <thead>\n",
       "    <tr style=\"text-align: right;\">\n",
       "      <th></th>\n",
       "      <th></th>\n",
       "      <th>auc_train</th>\n",
       "      <th>auc_val</th>\n",
       "      <th>auc_test</th>\n",
       "      <th>mcc_train</th>\n",
       "      <th>mcc_val</th>\n",
       "      <th>mcc_test</th>\n",
       "    </tr>\n",
       "  </thead>\n",
       "  <tbody>\n",
       "    <tr>\n",
       "      <th rowspan=\"5\" valign=\"top\">all_feat</th>\n",
       "      <th>full_model</th>\n",
       "      <td>0.95</td>\n",
       "      <td>0.91</td>\n",
       "      <td>0.86</td>\n",
       "      <td>0.75000</td>\n",
       "      <td>0.63000</td>\n",
       "      <td>0.54000</td>\n",
       "    </tr>\n",
       "    <tr>\n",
       "      <th>peptide_tcr</th>\n",
       "      <td>0.96</td>\n",
       "      <td>0.91</td>\n",
       "      <td>0.86</td>\n",
       "      <td>0.70000</td>\n",
       "      <td>0.56000</td>\n",
       "      <td>0.52000</td>\n",
       "    </tr>\n",
       "    <tr>\n",
       "      <th>mhc_tcr</th>\n",
       "      <td>0.91</td>\n",
       "      <td>0.84</td>\n",
       "      <td>0.78</td>\n",
       "      <td>0.69000</td>\n",
       "      <td>0.58000</td>\n",
       "      <td>0.51000</td>\n",
       "    </tr>\n",
       "    <tr>\n",
       "      <th>tcr</th>\n",
       "      <td>0.88</td>\n",
       "      <td>0.79</td>\n",
       "      <td>0.76</td>\n",
       "      <td>0.55000</td>\n",
       "      <td>0.45000</td>\n",
       "      <td>0.41000</td>\n",
       "    </tr>\n",
       "    <tr>\n",
       "      <th>peptide_mhc</th>\n",
       "      <td>0.60</td>\n",
       "      <td>0.62</td>\n",
       "      <td>0.54</td>\n",
       "      <td>0.09500</td>\n",
       "      <td>0.14000</td>\n",
       "      <td>0.04700</td>\n",
       "    </tr>\n",
       "    <tr>\n",
       "      <th rowspan=\"5\" valign=\"top\">sequence</th>\n",
       "      <th>full_model</th>\n",
       "      <td>0.92</td>\n",
       "      <td>0.90</td>\n",
       "      <td>0.87</td>\n",
       "      <td>0.63000</td>\n",
       "      <td>0.54000</td>\n",
       "      <td>0.49000</td>\n",
       "    </tr>\n",
       "    <tr>\n",
       "      <th>peptide_tcr</th>\n",
       "      <td>0.95</td>\n",
       "      <td>0.90</td>\n",
       "      <td>0.87</td>\n",
       "      <td>0.61000</td>\n",
       "      <td>0.55000</td>\n",
       "      <td>0.47000</td>\n",
       "    </tr>\n",
       "    <tr>\n",
       "      <th>mhc_tcr</th>\n",
       "      <td>0.77</td>\n",
       "      <td>0.72</td>\n",
       "      <td>0.70</td>\n",
       "      <td>0.36000</td>\n",
       "      <td>0.32000</td>\n",
       "      <td>0.31000</td>\n",
       "    </tr>\n",
       "    <tr>\n",
       "      <th>tcr</th>\n",
       "      <td>0.76</td>\n",
       "      <td>0.73</td>\n",
       "      <td>0.70</td>\n",
       "      <td>0.37000</td>\n",
       "      <td>0.32000</td>\n",
       "      <td>0.31000</td>\n",
       "    </tr>\n",
       "    <tr>\n",
       "      <th>peptide_mhc</th>\n",
       "      <td>0.60</td>\n",
       "      <td>0.61</td>\n",
       "      <td>0.57</td>\n",
       "      <td>0.18000</td>\n",
       "      <td>0.18000</td>\n",
       "      <td>0.12000</td>\n",
       "    </tr>\n",
       "    <tr>\n",
       "      <th rowspan=\"5\" valign=\"top\">energy_terms</th>\n",
       "      <th>full_model</th>\n",
       "      <td>0.94</td>\n",
       "      <td>0.87</td>\n",
       "      <td>0.83</td>\n",
       "      <td>0.72000</td>\n",
       "      <td>0.58000</td>\n",
       "      <td>0.52000</td>\n",
       "    </tr>\n",
       "    <tr>\n",
       "      <th>peptide_tcr</th>\n",
       "      <td>0.94</td>\n",
       "      <td>0.89</td>\n",
       "      <td>0.85</td>\n",
       "      <td>0.61000</td>\n",
       "      <td>0.51000</td>\n",
       "      <td>0.47000</td>\n",
       "    </tr>\n",
       "    <tr>\n",
       "      <th>mhc_tcr</th>\n",
       "      <td>0.93</td>\n",
       "      <td>0.85</td>\n",
       "      <td>0.81</td>\n",
       "      <td>0.67000</td>\n",
       "      <td>0.57000</td>\n",
       "      <td>0.53000</td>\n",
       "    </tr>\n",
       "    <tr>\n",
       "      <th>tcr</th>\n",
       "      <td>0.92</td>\n",
       "      <td>0.79</td>\n",
       "      <td>0.74</td>\n",
       "      <td>0.62000</td>\n",
       "      <td>0.44000</td>\n",
       "      <td>0.37000</td>\n",
       "    </tr>\n",
       "    <tr>\n",
       "      <th>peptide_mhc</th>\n",
       "      <td>0.88</td>\n",
       "      <td>0.82</td>\n",
       "      <td>0.78</td>\n",
       "      <td>0.62000</td>\n",
       "      <td>0.54000</td>\n",
       "      <td>0.49000</td>\n",
       "    </tr>\n",
       "    <tr>\n",
       "      <th rowspan=\"5\" valign=\"top\">seq_globalenergy</th>\n",
       "      <th>full_model</th>\n",
       "      <td>0.95</td>\n",
       "      <td>0.89</td>\n",
       "      <td>0.85</td>\n",
       "      <td>0.72000</td>\n",
       "      <td>0.65000</td>\n",
       "      <td>0.59000</td>\n",
       "    </tr>\n",
       "    <tr>\n",
       "      <th>peptide_tcr</th>\n",
       "      <td>0.94</td>\n",
       "      <td>0.90</td>\n",
       "      <td>0.87</td>\n",
       "      <td>0.60000</td>\n",
       "      <td>0.52000</td>\n",
       "      <td>0.49000</td>\n",
       "    </tr>\n",
       "    <tr>\n",
       "      <th>mhc_tcr</th>\n",
       "      <td>0.78</td>\n",
       "      <td>0.73</td>\n",
       "      <td>0.70</td>\n",
       "      <td>0.38000</td>\n",
       "      <td>0.33000</td>\n",
       "      <td>0.31000</td>\n",
       "    </tr>\n",
       "    <tr>\n",
       "      <th>tcr</th>\n",
       "      <td>0.77</td>\n",
       "      <td>0.72</td>\n",
       "      <td>0.70</td>\n",
       "      <td>0.39000</td>\n",
       "      <td>0.32000</td>\n",
       "      <td>0.30000</td>\n",
       "    </tr>\n",
       "    <tr>\n",
       "      <th>peptide_mhc</th>\n",
       "      <td>0.70</td>\n",
       "      <td>0.71</td>\n",
       "      <td>0.63</td>\n",
       "      <td>0.00228</td>\n",
       "      <td>0.00223</td>\n",
       "      <td>0.00169</td>\n",
       "    </tr>\n",
       "  </tbody>\n",
       "</table>\n",
       "</div>"
      ],
      "text/plain": [
       "                              auc_train  auc_val  auc_test  mcc_train  \\\n",
       "all_feat         full_model        0.95     0.91      0.86    0.75000   \n",
       "                 peptide_tcr       0.96     0.91      0.86    0.70000   \n",
       "                 mhc_tcr           0.91     0.84      0.78    0.69000   \n",
       "                 tcr               0.88     0.79      0.76    0.55000   \n",
       "                 peptide_mhc       0.60     0.62      0.54    0.09500   \n",
       "sequence         full_model        0.92     0.90      0.87    0.63000   \n",
       "                 peptide_tcr       0.95     0.90      0.87    0.61000   \n",
       "                 mhc_tcr           0.77     0.72      0.70    0.36000   \n",
       "                 tcr               0.76     0.73      0.70    0.37000   \n",
       "                 peptide_mhc       0.60     0.61      0.57    0.18000   \n",
       "energy_terms     full_model        0.94     0.87      0.83    0.72000   \n",
       "                 peptide_tcr       0.94     0.89      0.85    0.61000   \n",
       "                 mhc_tcr           0.93     0.85      0.81    0.67000   \n",
       "                 tcr               0.92     0.79      0.74    0.62000   \n",
       "                 peptide_mhc       0.88     0.82      0.78    0.62000   \n",
       "seq_globalenergy full_model        0.95     0.89      0.85    0.72000   \n",
       "                 peptide_tcr       0.94     0.90      0.87    0.60000   \n",
       "                 mhc_tcr           0.78     0.73      0.70    0.38000   \n",
       "                 tcr               0.77     0.72      0.70    0.39000   \n",
       "                 peptide_mhc       0.70     0.71      0.63    0.00228   \n",
       "\n",
       "                              mcc_val  mcc_test  \n",
       "all_feat         full_model   0.63000   0.54000  \n",
       "                 peptide_tcr  0.56000   0.52000  \n",
       "                 mhc_tcr      0.58000   0.51000  \n",
       "                 tcr          0.45000   0.41000  \n",
       "                 peptide_mhc  0.14000   0.04700  \n",
       "sequence         full_model   0.54000   0.49000  \n",
       "                 peptide_tcr  0.55000   0.47000  \n",
       "                 mhc_tcr      0.32000   0.31000  \n",
       "                 tcr          0.32000   0.31000  \n",
       "                 peptide_mhc  0.18000   0.12000  \n",
       "energy_terms     full_model   0.58000   0.52000  \n",
       "                 peptide_tcr  0.51000   0.47000  \n",
       "                 mhc_tcr      0.57000   0.53000  \n",
       "                 tcr          0.44000   0.37000  \n",
       "                 peptide_mhc  0.54000   0.49000  \n",
       "seq_globalenergy full_model   0.65000   0.59000  \n",
       "                 peptide_tcr  0.52000   0.49000  \n",
       "                 mhc_tcr      0.33000   0.31000  \n",
       "                 tcr          0.32000   0.30000  \n",
       "                 peptide_mhc  0.00223   0.00169  "
      ]
     },
     "execution_count": 13,
     "metadata": {},
     "output_type": "execute_result"
    }
   ],
   "source": [
    "arrays=[np.array([\"all_feat\", \"all_feat\", \"all_feat\", \"all_feat\", \"all_feat\",\n",
    "       \"sequence\", \"sequence\", \"sequence\", \"sequence\", \"sequence\",\n",
    "       \"energy_terms\", \"energy_terms\", \"energy_terms\", \"energy_terms\", \"energy_terms\",\n",
    "       \"seq_globalenergy\", \"seq_globalenergy\", \"seq_globalenergy\", \"seq_globalenergy\", \"seq_globalenergy\"])\n",
    "       ,\n",
    "       np.array([\"full_model\", \"peptide_tcr\", \"mhc_tcr\", \"tcr\", \"peptide_mhc\",\n",
    "       \"full_model\", \"peptide_tcr\", \"mhc_tcr\", \"tcr\", \"peptide_mhc\",\n",
    "       \"full_model\", \"peptide_tcr\", \"mhc_tcr\", \"tcr\", \"peptide_mhc\",\n",
    "       \"full_model\", \"peptide_tcr\", \"mhc_tcr\", \"tcr\", \"peptide_mhc\"])]\n",
    "\n",
    "results= pd.DataFrame({\"auc_train\" : [0.95, 0.96, 0.91, 0.88, 0.60, 0.92, 0.95, 0.77, 0.76, 0.60, 0.94, 0.94, 0.93, 0.92, 0.88, 0.95, 0.94, 0.78, 0.77, 0.70],\n",
    "                       \"auc_val\" : [0.91, 0.91, 0.84, 0.79, 0.62, 0.90, 0.90, 0.72, 0.73, 0.61, 0.87, 0.89, 0.85, 0.79, 0.82, 0.89, 0.90, 0.73, 0.72, 0.71],\n",
    "                       \"auc_test\" : [0.86, 0.86, 0.78, 0.76, 0.54, 0.87, 0.87, 0.70, 0.70, 0.57, 0.83, 0.85, 0.81, 0.74, 0.78, 0.85, 0.87, 0.70, 0.70, 0.63],\n",
    "                       \"mcc_train\" : [0.75, 0.70, 0.69, 0.55, 0.095, 0.63, 0.61, 0.36, 0.37, 0.18, 0.72, 0.61, 0.67, 0.62, 0.62, 0.72, 0.60, 0.38, 0.39, 0.00228],\n",
    "                       \"mcc_val\" : [0.63, 0.56, 0.58, 0.45, 0.14, 0.54, 0.55, 0.32, 0.32, 0.18, 0.58, 0.51, 0.57, 0.44, 0.54, 0.65, 0.52, 0.33, 0.32, 0.00223], \n",
    "                       \"mcc_test\" : [0.54, 0.52, 0.51, 0.41, 0.047, 0.49, 0.47, 0.31, 0.31, 0.12, 0.52, 0.47, 0.53, 0.37, 0.49, 0.59, 0.49, 0.31, 0.30, 0.00169]}, index=arrays)\n",
    "results"
   ]
  },
  {
   "cell_type": "code",
   "execution_count": 75,
   "metadata": {},
   "outputs": [
    {
     "data": {
      "image/png": "[encoded data removed]",
      "text/plain": [
       "<Figure size 1008x576 with 1 Axes>"
      ]
     },
     "metadata": {},
     "output_type": "display_data"
    }
   ],
   "source": [
    "plt.figure(figsize=(14,8))\n",
    "ax = plt.gca()\n",
    "results[\"auc_test\"].unstack().plot(kind='bar', ax=ax, ylim=(0,1.2))\n",
    "for container in ax.containers:\n",
    "    ax.bar_label(container, padding=2, fmt=\"%.2f\", fontsize=10)\n"
   ]
  },
  {
   "cell_type": "code",
   "execution_count": 74,
   "metadata": {},
   "outputs": [
    {
     "data": {
      "image/png": "[encoded data removed]",
      "text/plain": [
       "<Figure size 1008x576 with 1 Axes>"
      ]
     },
     "metadata": {},
     "output_type": "display_data"
    }
   ],
   "source": [
    "plt.figure(figsize=(14,8))\n",
    "ax = plt.gca()\n",
    "results[\"mcc_test\"].unstack().plot(kind='bar', ax=ax, ylim=(0,1))\n",
    "for container in ax.containers:\n",
    "    ax.bar_label(container, padding=2, fmt=\"%.2f\", fontsize=10)"
   ]
  },
  {
   "cell_type": "code",
   "execution_count": null,
   "metadata": {},
   "outputs": [],
   "source": []
  }
 ],
 "metadata": {
  "interpreter": {
   "hash": "57990f1ad2ea89c67ddae7f31d40c478205c5912da0fccfb7c5cfbb2b8bf17ad"
  },
  "kernelspec": {
   "display_name": "Python (myenv)",
   "language": "python",
   "name": "undefined.ipython.kernel"
  },
  "language_info": {
   "codemirror_mode": {
    "name": "ipython",
    "version": 3
   },
   "file_extension": ".py",
   "mimetype": "text/x-python",
   "name": "python",
   "nbconvert_exporter": "python",
   "pygments_lexer": "ipython3",
   "version": "3.8.3"
  },
  "orig_nbformat": 4
 },
 "nbformat": 4,
 "nbformat_minor": 2
}
