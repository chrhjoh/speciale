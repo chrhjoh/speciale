{
 "cells": [
  {
   "cell_type": "markdown",
   "metadata": {},
   "source": [
    "# CNN first model\n",
    "\n",
    "Here I use a network doing a CNN over the input. The model architecture is a CNN of the local features. These then get pooled down to the number of channels, which is then fed into a dense layer."
   ]
  },
  {
   "cell_type": "markdown",
   "metadata": {},
   "source": [
    "### Load Libraries"
   ]
  },
  {
   "cell_type": "code",
   "execution_count": 1,
   "metadata": {},
   "outputs": [],
   "source": [
    "import torch\n",
    "import matplotlib.pyplot as plt\n",
    "import seaborn as sns\n",
    "import numpy as np\n",
    "from torch import nn, optim, cuda\n",
    "from torch.utils.data.dataloader import DataLoader\n",
    "from utils import Runner, EarlyStopping, TcrDataset, setup_seed\n",
    "from cnn_network import SimpleCNN\n",
    "import pandas as pd"
   ]
  },
  {
   "cell_type": "markdown",
   "metadata": {},
   "source": [
    "Set general plotting parameters for matplotlib using seaborn"
   ]
  },
  {
   "cell_type": "code",
   "execution_count": 2,
   "metadata": {},
   "outputs": [],
   "source": [
    "custom_params = {\"axes.spines.right\": False, \"axes.spines.top\": False}\n",
    "sns.set_theme(style=\"ticks\", rc=custom_params, palette=\"pastel\")"
   ]
  },
  {
   "cell_type": "markdown",
   "metadata": {},
   "source": [
    "### General parameters"
   ]
  },
  {
   "cell_type": "code",
   "execution_count": 3,
   "metadata": {},
   "outputs": [],
   "source": [
    "# General parameters\n",
    "data_dir = \"../../data/\"\n",
    "data_files = [data_dir+f\"datasets/P{i}_input_cdrs.npz\" for i in range(1,6)]\n",
    "label_files = [data_dir+f\"datasets/P{i}_labels.npz\" for i in range(1,6)]\n",
    "model_name = \"cnn_model.pt\"\n",
    "model_path = \"stored_models/\"\n",
    "\n",
    "batch_size = 64\n",
    "seed= 123\n",
    "\n",
    "setup_seed(seed)\n",
    "device = torch.device(\"cuda\" if cuda.is_available() else \"cpu\")\n",
    "#device= torch.device(\"cpu\")"
   ]
  },
  {
   "cell_type": "markdown",
   "metadata": {},
   "source": [
    "## Define indexing"
   ]
  },
  {
   "cell_type": "code",
   "execution_count": 4,
   "metadata": {},
   "outputs": [],
   "source": [
    "\n",
    "########### Select Indexes TCR DATA ############\n",
    "\n",
    "# Full model\n",
    "#idx = np.arange(420)\n",
    "\n",
    "# peptide + TCR\n",
    "#idx = np.arange(179,420)\n",
    "\n",
    "# MHC + TCR\n",
    "#idx = np.concatenate([np.arange(179),np.arange(192,420)])\n",
    "\n",
    "# TCR\n",
    "#idx = np.arange(192,420)\n",
    "\n",
    "# MHC + peptide\n",
    "#idx = np.arange(192)\n",
    "\n",
    "\n",
    "########### Select Indexes CDR Data ############\n",
    "\n",
    "# Full model\n",
    "# idx = np.arange(248)\n",
    "\n",
    "# Peptide + All CDRS\n",
    "idx = np.arange(179,248)\n",
    "\n",
    "########### Select Features ###########\n",
    "\n",
    "# All features\n",
    "#local_features = np.arange(27)\n",
    "#global_features = np.arange(27, 54)\n",
    "#use_global_features = True\n",
    "\n",
    "# Sequence\n",
    "local_features = np.arange(20)\n",
    "global_features = None\n",
    "use_global_features = False\n",
    "\n",
    "# Energy terms\n",
    "#local_features = np.arange(20, 27)\n",
    "#global_features = np.arange(27, 54)\n",
    "#use_global_features = True\n",
    "\n",
    "# Sequence and global energy\n",
    "#local_features = np.arange(20)\n",
    "#global_features = np.arange(27, 54)\n",
    "#use_global_features = True\n"
   ]
  },
  {
   "cell_type": "markdown",
   "metadata": {},
   "source": [
    "## Load Data\n",
    "Partitions can be changed by altering the `data_files` and `label_files` indexing"
   ]
  },
  {
   "cell_type": "code",
   "execution_count": 5,
   "metadata": {},
   "outputs": [],
   "source": [
    "train_data = TcrDataset(data_files[0], label_files[0])\n",
    "train_data.add_partition(data_files[1], label_files[1])\n",
    "train_data.add_partition(data_files[2], label_files[2])\n",
    "val_data = TcrDataset(data_files[3], label_files[3])\n",
    "test_data = TcrDataset(data_files[4], label_files[4])\n",
    "\n",
    "\n",
    "# Shuffle data randomly is needed\n",
    "train_data.shuffle_data()\n",
    "val_data.shuffle_data()\n",
    "test_data.shuffle_data()\n",
    "\n",
    "# slicing sequence dimension\n",
    "train_data.slice_data(idx)\n",
    "val_data.slice_data(idx)\n",
    "test_data.slice_data(idx)\n",
    "\n",
    "train_data.to_blossum()\n",
    "val_data.to_blossum()\n",
    "test_data.to_blossum()\n",
    "\n",
    "input_len = train_data.data.shape[2]\n"
   ]
  },
  {
   "cell_type": "code",
   "execution_count": 6,
   "metadata": {},
   "outputs": [],
   "source": [
    "train_dl = DataLoader(train_data, batch_size)\n",
    "val_dl = DataLoader(val_data, batch_size)\n",
    "test_dl = DataLoader(test_data, batch_size)"
   ]
  },
  {
   "cell_type": "code",
   "execution_count": 7,
   "metadata": {},
   "outputs": [
    {
     "data": {
      "text/plain": [
       "(4174, 1532, 1207)"
      ]
     },
     "execution_count": 7,
     "metadata": {},
     "output_type": "execute_result"
    }
   ],
   "source": [
    "len(train_data), len(val_data), len(test_data)"
   ]
  },
  {
   "cell_type": "code",
   "execution_count": 8,
   "metadata": {},
   "outputs": [
    {
     "data": {
      "text/plain": [
       "(4174, 54, 69)"
      ]
     },
     "execution_count": 8,
     "metadata": {},
     "output_type": "execute_result"
    }
   ],
   "source": [
    "train_data.data.shape"
   ]
  },
  {
   "cell_type": "code",
   "execution_count": 9,
   "metadata": {},
   "outputs": [],
   "source": [
    "#Hyperparameters\n",
    "epochs = 100\n",
    "patience = 20\n",
    "lr = 0.005\n",
    "loss_weight = sum(train_data.labels) / len(train_data.labels)\n",
    "weight_decay = 0.0005\n",
    "\n",
    "# Layer parameters\n",
    "cnn_channels = 30\n",
    "hidden_neurons = 64\n",
    "dropout = 0.4\n",
    "cnn_kernel = 3\n",
    "\n",
    "# Loss and optimizer\n",
    "criterion = nn.BCELoss(reduction='none')\n",
    "stopper = EarlyStopping(patience, model_name, model_path)\n"
   ]
  },
  {
   "cell_type": "code",
   "execution_count": 10,
   "metadata": {},
   "outputs": [
    {
     "name": "stdout",
     "output_type": "stream",
     "text": [
      "SimpleCNN(\n",
      "  (cdr1a_conv): Conv1d(20, 30, kernel_size=(3,), stride=(1,), padding=same)\n",
      "  (cdr2a_conv): Conv1d(20, 30, kernel_size=(3,), stride=(1,), padding=same)\n",
      "  (cdr3a_conv): Conv1d(20, 30, kernel_size=(3,), stride=(1,), padding=same)\n",
      "  (cdr1b_conv): Conv1d(20, 30, kernel_size=(3,), stride=(1,), padding=same)\n",
      "  (cdr2b_conv): Conv1d(20, 30, kernel_size=(3,), stride=(1,), padding=same)\n",
      "  (cdr3b_conv): Conv1d(20, 30, kernel_size=(3,), stride=(1,), padding=same)\n",
      "  (pep_conv): Conv1d(20, 30, kernel_size=(3,), stride=(1,), padding=same)\n",
      "  (max_pool): AdaptiveMaxPool1d(output_size=1)\n",
      "  (max_pool_index): AdaptiveMaxPool1d(output_size=1)\n",
      "  (dense1): Linear(in_features=210, out_features=64, bias=True)\n",
      "  (dense_out): Linear(in_features=64, out_features=1, bias=True)\n",
      "  (dropout): Dropout(p=0.4, inplace=False)\n",
      "  (bn_dense): BatchNorm1d(210, eps=1e-05, momentum=0.1, affine=True, track_running_stats=True)\n",
      "  (bn_start): BatchNorm1d(20, eps=1e-05, momentum=0.1, affine=True, track_running_stats=True)\n",
      ")\n",
      "Using Device: cpu\n"
     ]
    }
   ],
   "source": [
    "net = SimpleCNN(local_features, global_features, use_global_features, cnn_channels=cnn_channels, dropout=dropout, cnn_kernel_size=cnn_kernel, dense_neurons=hidden_neurons)\n",
    "net.to(device)\n",
    "print(net)\n",
    "print(\"Using Device:\", device)\n",
    "optimizer = optim.Adam(net.parameters(), lr=lr,\n",
    "    weight_decay=weight_decay,\n",
    "    amsgrad=True\n",
    ")"
   ]
  },
  {
   "cell_type": "code",
   "execution_count": 11,
   "metadata": {},
   "outputs": [],
   "source": [
    "# Define runners\n",
    "train_runner = Runner(train_dl, net, criterion, loss_weight, device, optimizer)\n",
    "val_runner = Runner(val_dl, net, criterion, loss_weight, device)\n",
    "test_runner = Runner(test_dl, net, criterion, loss_weight, device)"
   ]
  },
  {
   "cell_type": "markdown",
   "metadata": {},
   "source": [
    "## Training Loop"
   ]
  },
  {
   "cell_type": "code",
   "execution_count": 12,
   "metadata": {},
   "outputs": [
    {
     "name": "stdout",
     "output_type": "stream",
     "text": [
      "Epoch: 1\n",
      "Train loss: 0.2826380296186967 Train MCC: 0.17744122382406433 Train AUC: 0.6238975175453434\n",
      "Validation loss: 0.24128792683283487 Validation MCC: 0.24175219837412287 Validation AUC: 0.7231751074268236\n",
      "Validation loss decreased. Counter reset\n",
      "Epoch: 2\n",
      "Train loss: 0.24257261102849786 Train MCC: 0.24762214043626316 Train AUC: 0.6851239021137756\n",
      "Validation loss: 0.23233423630396524 Validation MCC: 0.2257524652128271 Validation AUC: 0.7271245060411256\n",
      "Validation loss decreased. Counter reset\n",
      "Epoch: 3\n",
      "Train loss: 0.23164424029263583 Train MCC: 0.26966602628033975 Train AUC: 0.7150392334223163\n",
      "Validation loss: 0.23459486166636148 Validation MCC: 0.24048568621574545 Validation AUC: 0.729933169267407\n",
      "Early Stopping Counter: 1 out of 20\n",
      "Epoch: 4\n",
      "Train loss: 0.22782571388013434 Train MCC: 0.3182636699087577 Train AUC: 0.7289412981715582\n",
      "Validation loss: 0.22451045115788779 Validation MCC: 0.27885878186867746 Validation AUC: 0.7407065287785723\n",
      "Validation loss decreased. Counter reset\n",
      "Epoch: 5\n",
      "Train loss: 0.21975871288415158 Train MCC: 0.33815390326878636 Train AUC: 0.7470133695148586\n",
      "Validation loss: 0.20837744077046713 Validation MCC: 0.3890092098841324 Validation AUC: 0.7540567686284134\n",
      "Validation loss decreased. Counter reset\n",
      "Epoch: 6\n",
      "Train loss: 0.2074709805575284 Train MCC: 0.4195033015192567 Train AUC: 0.7781209629776711\n",
      "Validation loss: 0.1913172403971354 Validation MCC: 0.5093780633930082 Validation AUC: 0.7904853124637838\n",
      "Validation loss decreased. Counter reset\n",
      "Epoch: 7\n",
      "Train loss: 0.1972294287248091 Train MCC: 0.46124187263903343 Train AUC: 0.8004408704157198\n",
      "Validation loss: 0.17817757527033487 Validation MCC: 0.545022669583287 Validation AUC: 0.8292362299377141\n",
      "Validation loss decreased. Counter reset\n",
      "Epoch: 8\n",
      "Train loss: 0.18557404026840674 Train MCC: 0.4911741169047102 Train AUC: 0.8246519734374655\n",
      "Validation loss: 0.16666789849599203 Validation MCC: 0.6286638920722419 Validation AUC: 0.8562071230062696\n",
      "Validation loss decreased. Counter reset\n",
      "Epoch: 9\n",
      "Train loss: 0.18265075394601532 Train MCC: 0.5133442688746358 Train AUC: 0.8322532191997412\n",
      "Validation loss: 0.16328773895899454 Validation MCC: 0.6056522865119539 Validation AUC: 0.8676281111739803\n",
      "Validation loss decreased. Counter reset\n",
      "Epoch: 10\n",
      "Train loss: 0.1813018683231238 Train MCC: 0.5078348396191238 Train AUC: 0.8363913585966667\n",
      "Validation loss: 0.159025639295578 Validation MCC: 0.5914856959068224 Validation AUC: 0.8772675524408784\n",
      "Validation loss decreased. Counter reset\n",
      "Epoch: 11\n",
      "Train loss: 0.17565322644782788 Train MCC: 0.5346024321306774 Train AUC: 0.8455406147427459\n",
      "Validation loss: 0.1573767066001892 Validation MCC: 0.6156751529605698 Validation AUC: 0.8781946839913015\n",
      "Validation loss decreased. Counter reset\n",
      "Epoch: 12\n",
      "Train loss: 0.1680073593602036 Train MCC: 0.5489271754647962 Train AUC: 0.8620076824458319\n",
      "Validation loss: 0.15476269523302713 Validation MCC: 0.6129468049224246 Validation AUC: 0.8819713816305245\n",
      "Validation loss decreased. Counter reset\n",
      "Epoch: 13\n",
      "Train loss: 0.17183926611235648 Train MCC: 0.5264776570830605 Train AUC: 0.8552800268664985\n",
      "Validation loss: 0.15858863790829977 Validation MCC: 0.6382438668034244 Validation AUC: 0.882262246430657\n",
      "Early Stopping Counter: 1 out of 20\n",
      "Epoch: 14\n",
      "Train loss: 0.16680020997018524 Train MCC: 0.5467763898092716 Train AUC: 0.8669942859664217\n",
      "Validation loss: 0.15848653515179953 Validation MCC: 0.6237097644089574 Validation AUC: 0.8768857923907041\n",
      "Early Stopping Counter: 2 out of 20\n",
      "Epoch: 15\n",
      "Train loss: 0.16467718644575638 Train MCC: 0.5535874556912903 Train AUC: 0.8694502050531568\n",
      "Validation loss: 0.1551859180132548 Validation MCC: 0.6400419190479258 Validation AUC: 0.8878909347894751\n",
      "Early Stopping Counter: 3 out of 20\n",
      "Epoch: 16\n",
      "Train loss: 0.16677522659301758 Train MCC: 0.5479133364914966 Train AUC: 0.8647130236332036\n",
      "Validation loss: 0.15618005394935608 Validation MCC: 0.6283838861015962 Validation AUC: 0.8834052541999287\n",
      "Early Stopping Counter: 4 out of 20\n",
      "Epoch: 17\n",
      "Train loss: 0.1638624162384958 Train MCC: 0.5453127834087571 Train AUC: 0.8709004689380625\n",
      "Validation loss: 0.15762819846471152 Validation MCC: 0.6038264091179416 Validation AUC: 0.8801193909109295\n",
      "Early Stopping Counter: 5 out of 20\n",
      "Epoch: 18\n",
      "Train loss: 0.16852919260660806 Train MCC: 0.5358699131982121 Train AUC: 0.8644249931975789\n",
      "Validation loss: 0.15343360106150308 Validation MCC: 0.6056998153062283 Validation AUC: 0.8852731515882809\n",
      "Validation loss decreased. Counter reset\n",
      "Epoch: 19\n",
      "Train loss: 0.1703295852198745 Train MCC: 0.5414375878666496 Train AUC: 0.8576651640057558\n",
      "Validation loss: 0.1547446052233378 Validation MCC: 0.6526614425448504 Validation AUC: 0.8844528219566566\n",
      "Early Stopping Counter: 1 out of 20\n",
      "Epoch: 20\n",
      "Train loss: 0.16448674057469223 Train MCC: 0.5491130300707824 Train AUC: 0.8702965242693219\n",
      "Validation loss: 0.1556074619293213 Validation MCC: 0.6292997715738058 Validation AUC: 0.8833438999061507\n",
      "Early Stopping Counter: 2 out of 20\n",
      "Epoch: 21\n",
      "Train loss: 0.16597129359389795 Train MCC: 0.550193918593531 Train AUC: 0.8652532339076783\n",
      "Validation loss: 0.15420924623807272 Validation MCC: 0.6357299091638913 Validation AUC: 0.8874546375892762\n",
      "Early Stopping Counter: 3 out of 20\n",
      "Epoch: 22\n",
      "Train loss: 0.1637616880012281 Train MCC: 0.5632298931970716 Train AUC: 0.871000666759817\n",
      "Validation loss: 0.1542747219403585 Validation MCC: 0.6379142415500791 Validation AUC: 0.8883545005646867\n",
      "Early Stopping Counter: 4 out of 20\n",
      "Epoch: 23\n",
      "Train loss: 0.165254376151345 Train MCC: 0.5543193850652735 Train AUC: 0.8672755752641913\n",
      "Validation loss: 0.1545671820640564 Validation MCC: 0.6163943323355583 Validation AUC: 0.8851118125194573\n",
      "Early Stopping Counter: 5 out of 20\n",
      "Epoch: 24\n",
      "Train loss: 0.1694880398837003 Train MCC: 0.535898370677067 Train AUC: 0.8638709942320373\n",
      "Validation loss: 0.15059329072634378 Validation MCC: 0.6121542522033948 Validation AUC: 0.892574312547862\n",
      "Validation loss decreased. Counter reset\n",
      "Epoch: 25\n",
      "Train loss: 0.16754289106889206 Train MCC: 0.5221676629150531 Train AUC: 0.8653788642040677\n",
      "Validation loss: 0.15165172020594278 Validation MCC: 0.6110207301136323 Validation AUC: 0.8862957231512475\n",
      "Early Stopping Counter: 1 out of 20\n",
      "Epoch: 26\n",
      "Train loss: 0.1668430964152018 Train MCC: 0.5495430237755412 Train AUC: 0.8670433124235493\n",
      "Validation loss: 0.15366441011428833 Validation MCC: 0.6276463571853756 Validation AUC: 0.8891225654275371\n",
      "Early Stopping Counter: 2 out of 20\n",
      "Epoch: 27\n",
      "Train loss: 0.16641829230568625 Train MCC: 0.5445306566196791 Train AUC: 0.8652198346337601\n",
      "Validation loss: 0.14840089281400046 Validation MCC: 0.6215738174114026 Validation AUC: 0.895414789111658\n",
      "Validation loss decreased. Counter reset\n",
      "Epoch: 28\n",
      "Train loss: 0.16775865265817352 Train MCC: 0.5549396460303063 Train AUC: 0.8641020314112511\n",
      "Validation loss: 0.1561090350151062 Validation MCC: 0.6383565342151002 Validation AUC: 0.8878591214519607\n",
      "Early Stopping Counter: 1 out of 20\n",
      "Epoch: 29\n",
      "Train loss: 0.165712934551817 Train MCC: 0.5455487980267327 Train AUC: 0.8665340501001364\n",
      "Validation loss: 0.15448502699534097 Validation MCC: 0.6366176022701802 Validation AUC: 0.8920471200976215\n",
      "Early Stopping Counter: 2 out of 20\n",
      "Epoch: 30\n",
      "Train loss: 0.16764322916666666 Train MCC: 0.5623007292992069 Train AUC: 0.8653445456840785\n",
      "Validation loss: 0.1586226224899292 Validation MCC: 0.6139715009950099 Validation AUC: 0.8806261319299107\n",
      "Early Stopping Counter: 3 out of 20\n",
      "Epoch: 31\n",
      "Train loss: 0.15998429963082977 Train MCC: 0.5694395514392803 Train AUC: 0.878895458434144\n",
      "Validation loss: 0.15809775392214456 Validation MCC: 0.6115272148154911 Validation AUC: 0.882434947405736\n",
      "Early Stopping Counter: 4 out of 20\n",
      "Epoch: 32\n",
      "Train loss: 0.16717394915494052 Train MCC: 0.5389598973005159 Train AUC: 0.8639636848775442\n",
      "Validation loss: 0.15651665131251016 Validation MCC: 0.6073109746785198 Validation AUC: 0.8838279171126214\n",
      "Early Stopping Counter: 5 out of 20\n",
      "Epoch: 33\n",
      "Train loss: 0.16625009883533826 Train MCC: 0.5387825774669118 Train AUC: 0.8646125193960921\n",
      "Validation loss: 0.15419412652651468 Validation MCC: 0.6025271887563926 Validation AUC: 0.8851868011007414\n",
      "Early Stopping Counter: 6 out of 20\n",
      "Epoch: 34\n",
      "Train loss: 0.16539247108228278 Train MCC: 0.562934654932368 Train AUC: 0.865917542401757\n",
      "Validation loss: 0.15195541580518088 Validation MCC: 0.6129468049224246 Validation AUC: 0.8891589235275538\n",
      "Early Stopping Counter: 7 out of 20\n",
      "Epoch: 35\n",
      "Train loss: 0.16688667644153943 Train MCC: 0.5428906293251318 Train AUC: 0.8672817035713323\n",
      "Validation loss: 0.15334367752075195 Validation MCC: 0.609544594978818 Validation AUC: 0.8895565902464853\n",
      "Early Stopping Counter: 8 out of 20\n",
      "Epoch: 36\n",
      "Train loss: 0.1623775019790187 Train MCC: 0.5712322816388431 Train AUC: 0.876111062084654\n",
      "Validation loss: 0.15848002831141153 Validation MCC: 0.6100888760865631 Validation AUC: 0.8789877450479131\n",
      "Early Stopping Counter: 9 out of 20\n",
      "Epoch: 37\n",
      "Train loss: 0.16489751411206793 Train MCC: 0.5641603411431394 Train AUC: 0.8715071713450162\n",
      "Validation loss: 0.15620609124501547 Validation MCC: 0.6219521633633941 Validation AUC: 0.8843187514628454\n",
      "Early Stopping Counter: 10 out of 20\n",
      "Epoch: 38\n",
      "Train loss: 0.16800709926720822 Train MCC: 0.5307535236013393 Train AUC: 0.8635216807250032\n",
      "Validation loss: 0.15302113691965738 Validation MCC: 0.6128503054869957 Validation AUC: 0.8887067196585976\n",
      "Early Stopping Counter: 11 out of 20\n",
      "Epoch: 39\n",
      "Train loss: 0.16351243221398556 Train MCC: 0.5613781476868737 Train AUC: 0.8711210879951365\n",
      "Validation loss: 0.15119173129399618 Validation MCC: 0.6386715039086023 Validation AUC: 0.8932014897731482\n",
      "Early Stopping Counter: 12 out of 20\n",
      "Epoch: 40\n",
      "Train loss: 0.16182804107666016 Train MCC: 0.5661358785553405 Train AUC: 0.874948522220016\n",
      "Validation loss: 0.15325004855791727 Validation MCC: 0.6121748388284336 Validation AUC: 0.8887476225211162\n",
      "Early Stopping Counter: 13 out of 20\n",
      "Epoch: 41\n",
      "Train loss: 0.16438802083333334 Train MCC: 0.5390992187630358 Train AUC: 0.8684951083852401\n",
      "Validation loss: 0.15465025107065836 Validation MCC: 0.6322078598056426 Validation AUC: 0.8848323096255797\n",
      "Early Stopping Counter: 14 out of 20\n",
      "Epoch: 42\n",
      "Train loss: 0.16032347534642075 Train MCC: 0.5705745718229569 Train AUC: 0.8778067646705544\n",
      "Validation loss: 0.15025422970453897 Validation MCC: 0.6287575083798693 Validation AUC: 0.8942081546673575\n",
      "Early Stopping Counter: 15 out of 20\n",
      "Epoch: 43\n",
      "Train loss: 0.16471326712406043 Train MCC: 0.5595524960863478 Train AUC: 0.8689167359165373\n",
      "Validation loss: 0.1513888736565908 Validation MCC: 0.6379460400348129 Validation AUC: 0.8902996589155742\n",
      "Early Stopping Counter: 16 out of 20\n",
      "Epoch: 44\n",
      "Train loss: 0.16307624181111655 Train MCC: 0.5478064290782682 Train AUC: 0.8723960822958109\n",
      "Validation loss: 0.15249945720036825 Validation MCC: 0.6538686225888126 Validation AUC: 0.8920539372413746\n",
      "Early Stopping Counter: 17 out of 20\n",
      "Epoch: 45\n",
      "Train loss: 0.16090196551698627 Train MCC: 0.561096543074959 Train AUC: 0.8759633698825571\n",
      "Validation loss: 0.15658397475878397 Validation MCC: 0.6400419190479258 Validation AUC: 0.8877250509581495\n",
      "Early Stopping Counter: 18 out of 20\n",
      "Epoch: 46\n",
      "Train loss: 0.1629695025357333 Train MCC: 0.5771306654993886 Train AUC: 0.8736358388304248\n",
      "Validation loss: 0.15239782134691873 Validation MCC: 0.6522930675126463 Validation AUC: 0.8923834325227749\n",
      "Early Stopping Counter: 19 out of 20\n",
      "Epoch: 47\n",
      "Train loss: 0.16103887557983398 Train MCC: 0.5677613673753602 Train AUC: 0.8776694905905973\n",
      "Validation loss: 0.1501250664393107 Validation MCC: 0.639770242511461 Validation AUC: 0.8942922327736458\n",
      "Early Stopping\n"
     ]
    }
   ],
   "source": [
    "train_loss, val_loss, train_auc, val_auc = [], [], [], []\n",
    "\n",
    "for epoch in range(1, epochs+1):\n",
    "    train_runner.run_epoch()\n",
    "    val_runner.run_epoch()\n",
    "    \n",
    "    train_runner.follow_performance(epoch)\n",
    "    val_runner.follow_performance(epoch)\n",
    "    stopper.evaluate_epoch(val_runner.loss, net, epoch)\n",
    "    \n",
    "    train_loss.append(train_runner.loss)\n",
    "    val_loss.append(val_runner.loss)\n",
    "    train_auc.append(train_runner.auc)\n",
    "    val_auc.append(val_runner.auc)\n",
    "    \n",
    "    train_runner.reset()\n",
    "    val_runner.reset()\n",
    "\n",
    "    if stopper.stop:\n",
    "        break\n"
   ]
  },
  {
   "cell_type": "code",
   "execution_count": 13,
   "metadata": {},
   "outputs": [
    {
     "data": {
      "text/plain": [
       "(Text(0.5, 0, 'Epoch'), Text(0, 0.5, 'Loss'))"
      ]
     },
     "execution_count": 13,
     "metadata": {},
     "output_type": "execute_result"
    },
    {
     "data": {
      "image/png": "[encoded data removed]",
      "text/plain": [
       "<Figure size 432x288 with 1 Axes>"
      ]
     },
     "metadata": {},
     "output_type": "display_data"
    },
    {
     "data": {
      "image/png": "[encoded data removed]",
      "text/plain": [
       "<Figure size 432x288 with 1 Axes>"
      ]
     },
     "metadata": {},
     "output_type": "display_data"
    }
   ],
   "source": [
    "# Plots of training epochs\n",
    "epoch = np.arange(1, len(train_loss) + 1)\n",
    "plt.figure()\n",
    "plt.plot(epoch, train_loss, \"r\", epoch, val_loss, \"b\", linewidth=3)\n",
    "plt.vlines(stopper.best_epoch, ymin=0, ymax=0.3, colors=\"black\", linestyles='dashed')\n",
    "plt.legend([\"Train Loss\", \"Validation Loss\", \"Best Epoch\"])\n",
    "plt.xlabel(\"Epoch\"), plt.ylabel(\"Loss\")\n",
    "\n",
    "epoch = np.arange(1, len(train_loss) + 1)\n",
    "plt.figure()\n",
    "plt.plot(epoch, train_auc, \"r\", epoch, val_auc, \"b\", linewidth=3)\n",
    "plt.vlines(stopper.best_epoch, ymin=0, ymax=1, colors=\"black\", linestyles='dashed')\n",
    "plt.legend([\"Train AUC\", \"Validation AUC\", \"Best Epoch\"])\n",
    "plt.xlabel(\"Epoch\"), plt.ylabel(\"Loss\")"
   ]
  },
  {
   "cell_type": "markdown",
   "metadata": {},
   "source": [
    "## Evaluate using the best model\n",
    "\n",
    "Best model is stored as early_stopping_state.pt and loaded into a new object"
   ]
  },
  {
   "cell_type": "code",
   "execution_count": 14,
   "metadata": {},
   "outputs": [],
   "source": [
    "final_model = SimpleCNN(local_features, global_features, use_global_features, cnn_channels=cnn_channels, dropout=dropout, cnn_kernel_size=cnn_kernel, dense_neurons=hidden_neurons)\n",
    "final_model.load_state_dict(torch.load(model_path + model_name))\n",
    "final_model.to(device)\n",
    "\n",
    "train_runner.model = final_model\n",
    "val_runner.model = final_model\n",
    "test_runner.model = final_model"
   ]
  },
  {
   "cell_type": "code",
   "execution_count": 15,
   "metadata": {},
   "outputs": [],
   "source": [
    "train_runner.reset()\n",
    "val_runner.reset()\n",
    "test_runner.reset()\n",
    "\n",
    "train_runner.evaluation_mode() # Set to validation to avoid more training\n",
    "train_runner.run_epoch()\n",
    "val_runner.run_epoch()\n",
    "test_runner.run_epoch()"
   ]
  },
  {
   "cell_type": "code",
   "execution_count": 16,
   "metadata": {},
   "outputs": [
    {
     "name": "stdout",
     "output_type": "stream",
     "text": [
      "Evaluation on Training Data:\n",
      "Loss: 0.1335902214050293\n",
      "MCC: 0.6666467126701472\n",
      "Confussion Matrix:\n",
      " [[2784  348]\n",
      " [ 202  840]] \n",
      "\n",
      "Evaluation on Validation Data:\n",
      "Loss: 0.14840089281400046\n",
      "MCC: 0.6215738174114026\n",
      "Confussion Matrix:\n",
      " [[1021  128]\n",
      " [  96  287]] \n",
      "\n",
      "Evaluation on Test Data:\n",
      "Loss: 0.1603468844765111\n",
      "MCC: 0.5942324501455727\n",
      "Confussion Matrix:\n",
      " [[804 102]\n",
      " [ 85 216]] \n",
      "\n"
     ]
    },
    {
     "data": {
      "text/plain": [
       "Text(0.5, 1.0, 'Test Data')"
      ]
     },
     "execution_count": 16,
     "metadata": {},
     "output_type": "execute_result"
    },
    {
     "data": {
      "image/png": "[encoded data removed]",
      "text/plain": [
       "<Figure size 432x288 with 1 Axes>"
      ]
     },
     "metadata": {},
     "output_type": "display_data"
    },
    {
     "data": {
      "image/png": "[encoded data removed]",
      "text/plain": [
       "<Figure size 432x288 with 1 Axes>"
      ]
     },
     "metadata": {},
     "output_type": "display_data"
    },
    {
     "data": {
      "image/png": "[encoded data removed]",
      "text/plain": [
       "<Figure size 432x288 with 1 Axes>"
      ]
     },
     "metadata": {},
     "output_type": "display_data"
    }
   ],
   "source": [
    "print(\"Evaluation on Training Data:\")\n",
    "train_runner.evaluate_model()\n",
    "plt.title(\"Training Data\")\n",
    "\n",
    "print(\"Evaluation on Validation Data:\")\n",
    "val_runner.evaluate_model()\n",
    "plt.title(\"Evaluation Data\")\n",
    "\n",
    "print(\"Evaluation on Test Data:\")\n",
    "test_runner.evaluate_model()\n",
    "plt.title(\"Test Data\")\n"
   ]
  },
  {
   "cell_type": "code",
   "execution_count": null,
   "metadata": {},
   "outputs": [],
   "source": []
  }
 ],
 "metadata": {
  "interpreter": {
   "hash": "57990f1ad2ea89c67ddae7f31d40c478205c5912da0fccfb7c5cfbb2b8bf17ad"
  },
  "kernelspec": {
   "display_name": "Python (myenv)",
   "language": "python",
   "name": "undefined.ipython.kernel"
  },
  "language_info": {
   "codemirror_mode": {
    "name": "ipython",
    "version": 3
   },
   "file_extension": ".py",
   "mimetype": "text/x-python",
   "name": "python",
   "nbconvert_exporter": "python",
   "pygments_lexer": "ipython3",
   "version": "3.8.3"
  },
  "orig_nbformat": 4
 },
 "nbformat": 4,
 "nbformat_minor": 2
}
