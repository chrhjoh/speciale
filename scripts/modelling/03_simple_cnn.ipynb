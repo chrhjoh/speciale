{
 "cells": [
  {
   "cell_type": "markdown",
   "metadata": {},
   "source": [
    "# CNN first model\n",
    "\n",
    "Here I use a network doing a CNN over the input. The model architecture is a CNN of the local features. These then get pooled down to the number of channels, which is then fed into a dense layer."
   ]
  },
  {
   "cell_type": "markdown",
   "metadata": {},
   "source": [
    "### Load Libraries"
   ]
  },
  {
   "cell_type": "code",
   "execution_count": 1,
   "metadata": {},
   "outputs": [],
   "source": [
    "import torch\n",
    "import matplotlib.pyplot as plt\n",
    "import seaborn as sns\n",
    "import numpy as np\n",
    "from torch import nn, optim, cuda\n",
    "from torch.utils.data.dataloader import DataLoader\n",
    "from utils import Runner, EarlyStopping, TcrDataset, setup_seed\n",
    "from network import SimpleCNN\n",
    "import pandas as pd"
   ]
  },
  {
   "cell_type": "markdown",
   "metadata": {},
   "source": [
    "Set general plotting parameters for matplotlib using seaborn"
   ]
  },
  {
   "cell_type": "code",
   "execution_count": 2,
   "metadata": {},
   "outputs": [],
   "source": [
    "custom_params = {\"axes.spines.right\": False, \"axes.spines.top\": False}\n",
    "sns.set_theme(style=\"ticks\", rc=custom_params, palette=\"pastel\")"
   ]
  },
  {
   "cell_type": "markdown",
   "metadata": {},
   "source": [
    "### General parameters"
   ]
  },
  {
   "cell_type": "code",
   "execution_count": 3,
   "metadata": {},
   "outputs": [],
   "source": [
    "# General parameters\n",
    "data_dir = \"../../data/\"\n",
    "data_files = [data_dir+f\"datasets/P{i}_input_cdrs.npz\" for i in range(1,6)]\n",
    "label_files = [data_dir+f\"datasets/P{i}_labels.npz\" for i in range(1,6)]\n",
    "model_name = \"cnn_model.pt\"\n",
    "model_path = \"stored_models/\"\n",
    "\n",
    "batch_size = 64\n",
    "seed= 123\n",
    "\n",
    "setup_seed(seed)\n",
    "device = torch.device(\"cuda\" if cuda.is_available() else \"cpu\")\n",
    "#device= torch.device(\"cpu\")"
   ]
  },
  {
   "cell_type": "markdown",
   "metadata": {},
   "source": [
    "## Define indexing"
   ]
  },
  {
   "cell_type": "code",
   "execution_count": 4,
   "metadata": {},
   "outputs": [],
   "source": [
    "\n",
    "########### Select Indexes TCR DATA ############\n",
    "\n",
    "# Full model\n",
    "#idx = np.arange(420)\n",
    "\n",
    "# peptide + TCR\n",
    "#idx = np.arange(179,420)\n",
    "\n",
    "# MHC + TCR\n",
    "#idx = np.concatenate([np.arange(179),np.arange(192,420)])\n",
    "\n",
    "# TCR\n",
    "#idx = np.arange(192,420)\n",
    "\n",
    "# MHC + peptide\n",
    "#idx = np.arange(192)\n",
    "\n",
    "\n",
    "########### Select Indexes CDR Data ############\n",
    "\n",
    "# Full model\n",
    "# idx = np.arange(248)\n",
    "\n",
    "# Peptide + All CDRS\n",
    "idx = np.arange(179,248)\n",
    "\n",
    "# peptide + cd\n",
    "\n",
    "########### Select Features ###########\n",
    "\n",
    "# All features\n",
    "local_features = np.arange(27)\n",
    "global_features = np.arange(27, 54)\n",
    "use_global_features = True\n",
    "\n",
    "# Sequence\n",
    "#local_features = np.arange(20)\n",
    "#global_features = None\n",
    "#use_global_features = False\n",
    "\n",
    "# Energy terms\n",
    "#local_features = np.arange(20, 27)\n",
    "#global_features = np.arange(27, 54)\n",
    "#use_global_features = True\n",
    "\n",
    "# Sequence and global energy\n",
    "#local_features = np.arange(20)\n",
    "#global_features = np.arange(27, 54)\n",
    "#use_global_features = True\n"
   ]
  },
  {
   "cell_type": "markdown",
   "metadata": {},
   "source": [
    "## Load Data\n",
    "Partitions can be changed by altering the `data_files` and `label_files` indexing"
   ]
  },
  {
   "cell_type": "code",
   "execution_count": 5,
   "metadata": {},
   "outputs": [],
   "source": [
    "train_data = TcrDataset(data_files[0], label_files[0])\n",
    "train_data.add_partition(data_files[1], label_files[1])\n",
    "train_data.add_partition(data_files[2], label_files[2])\n",
    "val_data = TcrDataset(data_files[3], label_files[3])\n",
    "test_data = TcrDataset(data_files[4], label_files[4])\n",
    "\n",
    "# Shuffle data randomly is needed\n",
    "train_data.shuffle_data()\n",
    "val_data.shuffle_data()\n",
    "test_data.shuffle_data()\n",
    "\n",
    "# slicing sequence dimension\n",
    "train_data.slice_data(idx)\n",
    "val_data.slice_data(idx)\n",
    "test_data.slice_data(idx)\n",
    "\n",
    "input_len = train_data.data.shape[2]\n"
   ]
  },
  {
   "cell_type": "code",
   "execution_count": 6,
   "metadata": {},
   "outputs": [],
   "source": [
    "train_dl = DataLoader(train_data, batch_size)\n",
    "val_dl = DataLoader(val_data, batch_size)\n",
    "test_dl = DataLoader(test_data, batch_size)"
   ]
  },
  {
   "cell_type": "code",
   "execution_count": 7,
   "metadata": {},
   "outputs": [
    {
     "data": {
      "text/plain": [
       "(4174, 1532, 1207)"
      ]
     },
     "execution_count": 7,
     "metadata": {},
     "output_type": "execute_result"
    }
   ],
   "source": [
    "len(train_data), len(val_data), len(test_data)"
   ]
  },
  {
   "cell_type": "code",
   "execution_count": 8,
   "metadata": {},
   "outputs": [
    {
     "data": {
      "text/plain": [
       "(4174, 54, 69)"
      ]
     },
     "execution_count": 8,
     "metadata": {},
     "output_type": "execute_result"
    }
   ],
   "source": [
    "train_data.data.shape"
   ]
  },
  {
   "cell_type": "code",
   "execution_count": 75,
   "metadata": {},
   "outputs": [],
   "source": [
    "#Hyperparameters\n",
    "epochs = 100\n",
    "patience = 15\n",
    "lr = 0.005\n",
    "loss_weight = sum(train_data.labels) / len(train_data.labels)\n",
    "weight_decay = 0.0005\n",
    "\n",
    "# Layer parameters\n",
    "cnn_channels = 100\n",
    "dropout = 0.3\n",
    "cnn_kernel = 5\n",
    "\n",
    "# Loss and optimizer\n",
    "criterion = nn.BCELoss(reduction='none')\n",
    "stopper = EarlyStopping(patience, model_name, model_path)\n"
   ]
  },
  {
   "cell_type": "code",
   "execution_count": 76,
   "metadata": {},
   "outputs": [
    {
     "name": "stdout",
     "output_type": "stream",
     "text": [
      "69\n",
      "SimpleCNN(\n",
      "  (conv1): Conv1d(27, 100, kernel_size=(5,), stride=(1,), padding=(2,))\n",
      "  (pool): MaxPool1d(kernel_size=69, stride=1, padding=0, dilation=1, ceil_mode=False)\n",
      "  (dense1): Linear(in_features=127, out_features=1, bias=True)\n",
      "  (bn_start): BatchNorm1d(27, eps=1e-05, momentum=0.1, affine=True, track_running_stats=True)\n",
      "  (bn_cnn1): BatchNorm1d(100, eps=1e-05, momentum=0.1, affine=True, track_running_stats=True)\n",
      "  (bn_dense): BatchNorm1d(127, eps=1e-05, momentum=0.1, affine=True, track_running_stats=True)\n",
      "  (drop): Dropout(p=0.3, inplace=False)\n",
      ")\n",
      "Using Device: cpu\n"
     ]
    }
   ],
   "source": [
    "net = SimpleCNN(local_features, global_features, use_global_features, input_len, cnn_one_channel=cnn_channels, dropout=dropout, cnn_kernel_size=cnn_kernel)\n",
    "net.to(device)\n",
    "print(net)\n",
    "print(\"Using Device:\", device)\n",
    "optimizer = optim.Adam(net.parameters(), lr=lr,\n",
    "    weight_decay=weight_decay,\n",
    "    amsgrad=True\n",
    ")"
   ]
  },
  {
   "cell_type": "code",
   "execution_count": 77,
   "metadata": {},
   "outputs": [],
   "source": [
    "# Define runners\n",
    "train_runner = Runner(train_dl, net, criterion, loss_weight, device, optimizer)\n",
    "val_runner = Runner(val_dl, net, criterion, loss_weight, device)\n",
    "test_runner = Runner(test_dl, net, criterion, loss_weight, device)"
   ]
  },
  {
   "cell_type": "markdown",
   "metadata": {},
   "source": [
    "## Training Loop"
   ]
  },
  {
   "cell_type": "code",
   "execution_count": 78,
   "metadata": {},
   "outputs": [
    {
     "name": "stdout",
     "output_type": "stream",
     "text": [
      "Epoch: 1\n",
      "Train loss: 0.24113517819028912 Train MCC: 0.3145134791219848 Train AUC: 0.7315130422632573\n",
      "Validation loss: 0.19686947266260782 Validation MCC: 0.528397176953929 Validation AUC: 0.7847600479017969\n",
      "Validation loss decreased. Counter reset\n",
      "Epoch: 2\n",
      "Train loss: 0.1847862908334443 Train MCC: 0.49324966471143167 Train AUC: 0.8313330538825277\n",
      "Validation loss: 0.18303457895914713 Validation MCC: 0.6105182166713223 Validation AUC: 0.8158621300847371\n",
      "Validation loss decreased. Counter reset\n",
      "Epoch: 3\n",
      "Train loss: 0.16494122418490323 Train MCC: 0.5678944943954982 Train AUC: 0.8670748732053253\n",
      "Validation loss: 0.17602481444676718 Validation MCC: 0.6556947449003199 Validation AUC: 0.8477709076117956\n",
      "Validation loss decreased. Counter reset\n",
      "Epoch: 4\n",
      "Train loss: 0.154531175440008 Train MCC: 0.5918743050192505 Train AUC: 0.8887739831299961\n",
      "Validation loss: 0.17719749609629312 Validation MCC: 0.6611216249544115 Validation AUC: 0.8407810628836063\n",
      "Early Stopping Counter: 1 out of 15\n",
      "Epoch: 5\n",
      "Train loss: 0.1496367888017134 Train MCC: 0.6090977090350733 Train AUC: 0.8945428650571279\n",
      "Validation loss: 0.17352783679962158 Validation MCC: 0.6920717466366578 Validation AUC: 0.850152363162882\n",
      "Validation loss decreased. Counter reset\n",
      "Epoch: 6\n",
      "Train loss: 0.13968642552693686 Train MCC: 0.623625577187186 Train AUC: 0.9080851981771962\n",
      "Validation loss: 0.17352970441182455 Validation MCC: 0.7013881324394399 Validation AUC: 0.8551379676276567\n",
      "Early Stopping Counter: 1 out of 15\n",
      "Epoch: 7\n",
      "Train loss: 0.14027192375876688 Train MCC: 0.6295922902487318 Train AUC: 0.9074126164684773\n",
      "Validation loss: 0.1689281463623047 Validation MCC: 0.6872366220430074 Validation AUC: 0.8600622177986533\n",
      "Validation loss decreased. Counter reset\n",
      "Epoch: 8\n",
      "Train loss: 0.1327897274132931 Train MCC: 0.6513341965581477 Train AUC: 0.9203405867976654\n",
      "Validation loss: 0.170727809270223 Validation MCC: 0.6812217340968244 Validation AUC: 0.8601326616174355\n",
      "Early Stopping Counter: 1 out of 15\n",
      "Epoch: 9\n",
      "Train loss: 0.13022824489709103 Train MCC: 0.65787887098547 Train AUC: 0.9235760265527292\n",
      "Validation loss: 0.17599274714787802 Validation MCC: 0.6905081899607322 Validation AUC: 0.8564900344720235\n",
      "Early Stopping Counter: 2 out of 15\n",
      "Epoch: 10\n",
      "Train loss: 0.12339094913367069 Train MCC: 0.6796002142040366 Train AUC: 0.9321663810875539\n",
      "Validation loss: 0.1796965996424357 Validation MCC: 0.7007929562509541 Validation AUC: 0.8608439169490101\n",
      "Early Stopping Counter: 3 out of 15\n",
      "Epoch: 11\n",
      "Train loss: 0.12267287572224934 Train MCC: 0.6670649308087758 Train AUC: 0.9321884429932613\n",
      "Validation loss: 0.1722970207532247 Validation MCC: 0.722293402421773 Validation AUC: 0.8634730620564595\n",
      "Early Stopping Counter: 4 out of 15\n",
      "Epoch: 12\n",
      "Train loss: 0.11898516163681493 Train MCC: 0.6888683496886735 Train AUC: 0.9360247632634952\n",
      "Validation loss: 0.17738568782806396 Validation MCC: 0.6964496619632783 Validation AUC: 0.8631412943938083\n",
      "Early Stopping Counter: 5 out of 15\n",
      "Epoch: 13\n",
      "Train loss: 0.11775482784618031 Train MCC: 0.6780976343421308 Train AUC: 0.937586562338366\n",
      "Validation loss: 0.17155718803405762 Validation MCC: 0.6915148379350492 Validation AUC: 0.8658795138013075\n",
      "Early Stopping Counter: 6 out of 15\n",
      "Epoch: 14\n",
      "Train loss: 0.11580786560520981 Train MCC: 0.6767605583562458 Train AUC: 0.9403148846775162\n",
      "Validation loss: 0.1815041502316793 Validation MCC: 0.696028187788254 Validation AUC: 0.8613847436867568\n",
      "Early Stopping Counter: 7 out of 15\n",
      "Epoch: 15\n",
      "Train loss: 0.11051134629683061 Train MCC: 0.7069747316535965 Train AUC: 0.9454982068573307\n",
      "Validation loss: 0.18016576766967773 Validation MCC: 0.6909665358668501 Validation AUC: 0.8620528237745616\n",
      "Early Stopping Counter: 8 out of 15\n",
      "Epoch: 16\n",
      "Train loss: 0.10801670045563669 Train MCC: 0.7203201576267063 Train AUC: 0.9486867650627661\n",
      "Validation loss: 0.1796343723932902 Validation MCC: 0.7041267431031845 Validation AUC: 0.865036460357173\n",
      "Early Stopping Counter: 9 out of 15\n",
      "Epoch: 17\n",
      "Train loss: 0.10793172951900598 Train MCC: 0.709918325667077 Train AUC: 0.9492137994768879\n",
      "Validation loss: 0.19649046659469604 Validation MCC: 0.6852467183392041 Validation AUC: 0.851136304244581\n",
      "Early Stopping Counter: 10 out of 15\n",
      "Epoch: 18\n",
      "Train loss: 0.11387312051021692 Train MCC: 0.683811625723414 Train AUC: 0.9435420512179398\n",
      "Validation loss: 0.1916105548540751 Validation MCC: 0.7195961069031999 Validation AUC: 0.8650546394071812\n",
      "Early Stopping Counter: 11 out of 15\n",
      "Epoch: 19\n",
      "Train loss: 0.10683877540357185 Train MCC: 0.7090765579751779 Train AUC: 0.9506138112432375\n",
      "Validation loss: 0.19248189528783163 Validation MCC: 0.6931859770786235 Validation AUC: 0.8605076045238567\n",
      "Early Stopping Counter: 12 out of 15\n",
      "Epoch: 20\n",
      "Train loss: 0.104040189222856 Train MCC: 0.7255982454643335 Train AUC: 0.9523150293055647\n",
      "Validation loss: 0.1894682248433431 Validation MCC: 0.710161652224856 Validation AUC: 0.8673224758957159\n",
      "Early Stopping Counter: 13 out of 15\n",
      "Epoch: 21\n",
      "Train loss: 0.09798852602640788 Train MCC: 0.7366828063907368 Train AUC: 0.9583069816126273\n",
      "Validation loss: 0.19569534063339233 Validation MCC: 0.7027568881677674 Validation AUC: 0.8573898974474341\n",
      "Early Stopping Counter: 14 out of 15\n",
      "Epoch: 22\n",
      "Train loss: 0.09253108862674597 Train MCC: 0.7453496443215065 Train AUC: 0.9628164964222943\n",
      "Validation loss: 0.20439561208089194 Validation MCC: 0.696538287723391 Validation AUC: 0.8596850025109812\n",
      "Early Stopping\n"
     ]
    }
   ],
   "source": [
    "train_loss, val_loss, train_auc, val_auc = [], [], [], []\n",
    "\n",
    "for epoch in range(1, epochs+1):\n",
    "    train_runner.run_epoch()\n",
    "    val_runner.run_epoch()\n",
    "    \n",
    "    train_runner.follow_performance(epoch)\n",
    "    val_runner.follow_performance(epoch)\n",
    "    stopper.evaluate_epoch(val_runner.loss, net, epoch)\n",
    "    \n",
    "    train_loss.append(train_runner.loss)\n",
    "    val_loss.append(val_runner.loss)\n",
    "    train_auc.append(train_runner.auc)\n",
    "    val_auc.append(val_runner.auc)\n",
    "    \n",
    "    train_runner.reset()\n",
    "    val_runner.reset()\n",
    "\n",
    "    if stopper.stop:\n",
    "        break\n"
   ]
  },
  {
   "cell_type": "code",
   "execution_count": 79,
   "metadata": {},
   "outputs": [
    {
     "data": {
      "text/plain": [
       "(Text(0.5, 0, 'Epoch'), Text(0, 0.5, 'Loss'))"
      ]
     },
     "execution_count": 79,
     "metadata": {},
     "output_type": "execute_result"
    },
    {
     "data": {
      "image/png": "[encoded data removed]",
      "text/plain": [
       "<Figure size 432x288 with 1 Axes>"
      ]
     },
     "metadata": {},
     "output_type": "display_data"
    },
    {
     "data": {
      "image/png": "[encoded data removed]",
      "text/plain": [
       "<Figure size 432x288 with 1 Axes>"
      ]
     },
     "metadata": {},
     "output_type": "display_data"
    }
   ],
   "source": [
    "# Plots of training epochs\n",
    "epoch = np.arange(1, len(train_loss) + 1)\n",
    "plt.figure()\n",
    "plt.plot(epoch, train_loss, \"r\", epoch, val_loss, \"b\", linewidth=3)\n",
    "plt.vlines(stopper.best_epoch, ymin=0, ymax=0.3, colors=\"black\", linestyles='dashed')\n",
    "plt.legend([\"Train Loss\", \"Validation Loss\", \"Best Epoch\"])\n",
    "plt.xlabel(\"Epoch\"), plt.ylabel(\"Loss\")\n",
    "\n",
    "epoch = np.arange(1, len(train_loss) + 1)\n",
    "plt.figure()\n",
    "plt.plot(epoch, train_auc, \"r\", epoch, val_auc, \"b\", linewidth=3)\n",
    "plt.vlines(stopper.best_epoch, ymin=0, ymax=1, colors=\"black\", linestyles='dashed')\n",
    "plt.legend([\"Train AUC\", \"Validation AUC\", \"Best Epoch\"])\n",
    "plt.xlabel(\"Epoch\"), plt.ylabel(\"Loss\")"
   ]
  },
  {
   "cell_type": "markdown",
   "metadata": {},
   "source": [
    "## Evaluate using the best model\n",
    "\n",
    "Best model is stored as early_stopping_state.pt and loaded into a new object"
   ]
  },
  {
   "cell_type": "code",
   "execution_count": 80,
   "metadata": {},
   "outputs": [
    {
     "name": "stdout",
     "output_type": "stream",
     "text": [
      "69\n"
     ]
    }
   ],
   "source": [
    "final_model = SimpleCNN(local_features, global_features, use_global_features, input_len, cnn_one_channel=cnn_channels, dropout=dropout, cnn_kernel_size=cnn_kernel)\n",
    "final_model.load_state_dict(torch.load(model_path + model_name))\n",
    "final_model.to(device)\n",
    "\n",
    "train_runner.model = final_model\n",
    "val_runner.model = final_model\n",
    "test_runner.model = final_model"
   ]
  },
  {
   "cell_type": "code",
   "execution_count": 81,
   "metadata": {},
   "outputs": [],
   "source": [
    "train_runner.reset()\n",
    "val_runner.reset()\n",
    "test_runner.reset()\n",
    "\n",
    "train_runner.evaluation_mode() # Set to validation to avoid more training\n",
    "train_runner.run_epoch()\n",
    "val_runner.run_epoch()\n",
    "test_runner.run_epoch()"
   ]
  },
  {
   "cell_type": "code",
   "execution_count": 82,
   "metadata": {},
   "outputs": [
    {
     "name": "stdout",
     "output_type": "stream",
     "text": [
      "Evaluation on Training Data:\n",
      "Loss: 0.10367932464137222\n",
      "MCC: 0.7754916211887506\n",
      "Confussion Matrix:\n",
      " [[2998  134]\n",
      " [ 210  832]] \n",
      "\n",
      "Evaluation on Validation Data:\n",
      "Loss: 0.1689281463623047\n",
      "MCC: 0.6872366220430074\n",
      "Confussion Matrix:\n",
      " [[1097   52]\n",
      " [ 120  263]] \n",
      "\n",
      "Evaluation on Test Data:\n",
      "Loss: 0.18626928329467773\n",
      "MCC: 0.6111653504412718\n",
      "Confussion Matrix:\n",
      " [[846  60]\n",
      " [108 193]] \n",
      "\n"
     ]
    },
    {
     "data": {
      "text/plain": [
       "Text(0.5, 1.0, 'Test Data')"
      ]
     },
     "execution_count": 82,
     "metadata": {},
     "output_type": "execute_result"
    },
    {
     "data": {
      "image/png": "[encoded data removed]",
      "text/plain": [
       "<Figure size 432x288 with 1 Axes>"
      ]
     },
     "metadata": {},
     "output_type": "display_data"
    },
    {
     "data": {
      "image/png": "[encoded data removed]",
      "text/plain": [
       "<Figure size 432x288 with 1 Axes>"
      ]
     },
     "metadata": {},
     "output_type": "display_data"
    },
    {
     "data": {
      "image/png": "[encoded data removed]",
      "text/plain": [
       "<Figure size 432x288 with 1 Axes>"
      ]
     },
     "metadata": {},
     "output_type": "display_data"
    }
   ],
   "source": [
    "print(\"Evaluation on Training Data:\")\n",
    "train_runner.evaluate_model()\n",
    "plt.title(\"Training Data\")\n",
    "\n",
    "print(\"Evaluation on Validation Data:\")\n",
    "val_runner.evaluate_model()\n",
    "plt.title(\"Evaluation Data\")\n",
    "\n",
    "print(\"Evaluation on Test Data:\")\n",
    "test_runner.evaluate_model()\n",
    "plt.title(\"Test Data\")\n"
   ]
  },
  {
   "cell_type": "code",
   "execution_count": 50,
   "metadata": {},
   "outputs": [
    {
     "data": {
      "text/html": [
       "<div>\n",
       "<style scoped>\n",
       "    .dataframe tbody tr th:only-of-type {\n",
       "        vertical-align: middle;\n",
       "    }\n",
       "\n",
       "    .dataframe tbody tr th {\n",
       "        vertical-align: top;\n",
       "    }\n",
       "\n",
       "    .dataframe thead th {\n",
       "        text-align: right;\n",
       "    }\n",
       "</style>\n",
       "<table border=\"1\" class=\"dataframe\">\n",
       "  <thead>\n",
       "    <tr style=\"text-align: right;\">\n",
       "      <th></th>\n",
       "      <th></th>\n",
       "      <th>auc_train</th>\n",
       "      <th>auc_val</th>\n",
       "      <th>auc_test</th>\n",
       "      <th>mcc_train</th>\n",
       "      <th>mcc_val</th>\n",
       "      <th>mcc_test</th>\n",
       "    </tr>\n",
       "  </thead>\n",
       "  <tbody>\n",
       "    <tr>\n",
       "      <th rowspan=\"5\" valign=\"top\">all_feat</th>\n",
       "      <th>full_model</th>\n",
       "      <td>0.95</td>\n",
       "      <td>0.91</td>\n",
       "      <td>0.86</td>\n",
       "      <td>0.75000</td>\n",
       "      <td>0.63000</td>\n",
       "      <td>0.54000</td>\n",
       "    </tr>\n",
       "    <tr>\n",
       "      <th>peptide_tcr</th>\n",
       "      <td>0.96</td>\n",
       "      <td>0.91</td>\n",
       "      <td>0.86</td>\n",
       "      <td>0.70000</td>\n",
       "      <td>0.56000</td>\n",
       "      <td>0.52000</td>\n",
       "    </tr>\n",
       "    <tr>\n",
       "      <th>mhc_tcr</th>\n",
       "      <td>0.91</td>\n",
       "      <td>0.84</td>\n",
       "      <td>0.78</td>\n",
       "      <td>0.69000</td>\n",
       "      <td>0.58000</td>\n",
       "      <td>0.51000</td>\n",
       "    </tr>\n",
       "    <tr>\n",
       "      <th>tcr</th>\n",
       "      <td>0.88</td>\n",
       "      <td>0.79</td>\n",
       "      <td>0.76</td>\n",
       "      <td>0.55000</td>\n",
       "      <td>0.45000</td>\n",
       "      <td>0.41000</td>\n",
       "    </tr>\n",
       "    <tr>\n",
       "      <th>peptide_mhc</th>\n",
       "      <td>0.60</td>\n",
       "      <td>0.62</td>\n",
       "      <td>0.54</td>\n",
       "      <td>0.09500</td>\n",
       "      <td>0.14000</td>\n",
       "      <td>0.04700</td>\n",
       "    </tr>\n",
       "    <tr>\n",
       "      <th rowspan=\"5\" valign=\"top\">sequence</th>\n",
       "      <th>full_model</th>\n",
       "      <td>0.92</td>\n",
       "      <td>0.90</td>\n",
       "      <td>0.87</td>\n",
       "      <td>0.63000</td>\n",
       "      <td>0.54000</td>\n",
       "      <td>0.49000</td>\n",
       "    </tr>\n",
       "    <tr>\n",
       "      <th>peptide_tcr</th>\n",
       "      <td>0.95</td>\n",
       "      <td>0.90</td>\n",
       "      <td>0.87</td>\n",
       "      <td>0.61000</td>\n",
       "      <td>0.55000</td>\n",
       "      <td>0.47000</td>\n",
       "    </tr>\n",
       "    <tr>\n",
       "      <th>mhc_tcr</th>\n",
       "      <td>0.77</td>\n",
       "      <td>0.72</td>\n",
       "      <td>0.70</td>\n",
       "      <td>0.36000</td>\n",
       "      <td>0.32000</td>\n",
       "      <td>0.31000</td>\n",
       "    </tr>\n",
       "    <tr>\n",
       "      <th>tcr</th>\n",
       "      <td>0.76</td>\n",
       "      <td>0.73</td>\n",
       "      <td>0.70</td>\n",
       "      <td>0.37000</td>\n",
       "      <td>0.32000</td>\n",
       "      <td>0.31000</td>\n",
       "    </tr>\n",
       "    <tr>\n",
       "      <th>peptide_mhc</th>\n",
       "      <td>0.60</td>\n",
       "      <td>0.61</td>\n",
       "      <td>0.57</td>\n",
       "      <td>0.18000</td>\n",
       "      <td>0.18000</td>\n",
       "      <td>0.12000</td>\n",
       "    </tr>\n",
       "    <tr>\n",
       "      <th rowspan=\"5\" valign=\"top\">energy_terms</th>\n",
       "      <th>full_model</th>\n",
       "      <td>0.94</td>\n",
       "      <td>0.87</td>\n",
       "      <td>0.83</td>\n",
       "      <td>0.72000</td>\n",
       "      <td>0.58000</td>\n",
       "      <td>0.52000</td>\n",
       "    </tr>\n",
       "    <tr>\n",
       "      <th>peptide_tcr</th>\n",
       "      <td>0.94</td>\n",
       "      <td>0.89</td>\n",
       "      <td>0.85</td>\n",
       "      <td>0.61000</td>\n",
       "      <td>0.51000</td>\n",
       "      <td>0.47000</td>\n",
       "    </tr>\n",
       "    <tr>\n",
       "      <th>mhc_tcr</th>\n",
       "      <td>0.93</td>\n",
       "      <td>0.85</td>\n",
       "      <td>0.81</td>\n",
       "      <td>0.67000</td>\n",
       "      <td>0.57000</td>\n",
       "      <td>0.53000</td>\n",
       "    </tr>\n",
       "    <tr>\n",
       "      <th>tcr</th>\n",
       "      <td>0.92</td>\n",
       "      <td>0.79</td>\n",
       "      <td>0.74</td>\n",
       "      <td>0.62000</td>\n",
       "      <td>0.44000</td>\n",
       "      <td>0.37000</td>\n",
       "    </tr>\n",
       "    <tr>\n",
       "      <th>peptide_mhc</th>\n",
       "      <td>0.88</td>\n",
       "      <td>0.82</td>\n",
       "      <td>0.78</td>\n",
       "      <td>0.62000</td>\n",
       "      <td>0.54000</td>\n",
       "      <td>0.49000</td>\n",
       "    </tr>\n",
       "    <tr>\n",
       "      <th rowspan=\"5\" valign=\"top\">seq_globalenergy</th>\n",
       "      <th>full_model</th>\n",
       "      <td>0.95</td>\n",
       "      <td>0.89</td>\n",
       "      <td>0.85</td>\n",
       "      <td>0.72000</td>\n",
       "      <td>0.65000</td>\n",
       "      <td>0.59000</td>\n",
       "    </tr>\n",
       "    <tr>\n",
       "      <th>peptide_tcr</th>\n",
       "      <td>0.94</td>\n",
       "      <td>0.90</td>\n",
       "      <td>0.87</td>\n",
       "      <td>0.60000</td>\n",
       "      <td>0.52000</td>\n",
       "      <td>0.49000</td>\n",
       "    </tr>\n",
       "    <tr>\n",
       "      <th>mhc_tcr</th>\n",
       "      <td>0.78</td>\n",
       "      <td>0.73</td>\n",
       "      <td>0.70</td>\n",
       "      <td>0.38000</td>\n",
       "      <td>0.33000</td>\n",
       "      <td>0.31000</td>\n",
       "    </tr>\n",
       "    <tr>\n",
       "      <th>tcr</th>\n",
       "      <td>0.77</td>\n",
       "      <td>0.72</td>\n",
       "      <td>0.70</td>\n",
       "      <td>0.39000</td>\n",
       "      <td>0.32000</td>\n",
       "      <td>0.30000</td>\n",
       "    </tr>\n",
       "    <tr>\n",
       "      <th>peptide_mhc</th>\n",
       "      <td>0.70</td>\n",
       "      <td>0.71</td>\n",
       "      <td>0.63</td>\n",
       "      <td>0.00228</td>\n",
       "      <td>0.00223</td>\n",
       "      <td>0.00169</td>\n",
       "    </tr>\n",
       "  </tbody>\n",
       "</table>\n",
       "</div>"
      ],
      "text/plain": [
       "                              auc_train  auc_val  auc_test  mcc_train  \\\n",
       "all_feat         full_model        0.95     0.91      0.86    0.75000   \n",
       "                 peptide_tcr       0.96     0.91      0.86    0.70000   \n",
       "                 mhc_tcr           0.91     0.84      0.78    0.69000   \n",
       "                 tcr               0.88     0.79      0.76    0.55000   \n",
       "                 peptide_mhc       0.60     0.62      0.54    0.09500   \n",
       "sequence         full_model        0.92     0.90      0.87    0.63000   \n",
       "                 peptide_tcr       0.95     0.90      0.87    0.61000   \n",
       "                 mhc_tcr           0.77     0.72      0.70    0.36000   \n",
       "                 tcr               0.76     0.73      0.70    0.37000   \n",
       "                 peptide_mhc       0.60     0.61      0.57    0.18000   \n",
       "energy_terms     full_model        0.94     0.87      0.83    0.72000   \n",
       "                 peptide_tcr       0.94     0.89      0.85    0.61000   \n",
       "                 mhc_tcr           0.93     0.85      0.81    0.67000   \n",
       "                 tcr               0.92     0.79      0.74    0.62000   \n",
       "                 peptide_mhc       0.88     0.82      0.78    0.62000   \n",
       "seq_globalenergy full_model        0.95     0.89      0.85    0.72000   \n",
       "                 peptide_tcr       0.94     0.90      0.87    0.60000   \n",
       "                 mhc_tcr           0.78     0.73      0.70    0.38000   \n",
       "                 tcr               0.77     0.72      0.70    0.39000   \n",
       "                 peptide_mhc       0.70     0.71      0.63    0.00228   \n",
       "\n",
       "                              mcc_val  mcc_test  \n",
       "all_feat         full_model   0.63000   0.54000  \n",
       "                 peptide_tcr  0.56000   0.52000  \n",
       "                 mhc_tcr      0.58000   0.51000  \n",
       "                 tcr          0.45000   0.41000  \n",
       "                 peptide_mhc  0.14000   0.04700  \n",
       "sequence         full_model   0.54000   0.49000  \n",
       "                 peptide_tcr  0.55000   0.47000  \n",
       "                 mhc_tcr      0.32000   0.31000  \n",
       "                 tcr          0.32000   0.31000  \n",
       "                 peptide_mhc  0.18000   0.12000  \n",
       "energy_terms     full_model   0.58000   0.52000  \n",
       "                 peptide_tcr  0.51000   0.47000  \n",
       "                 mhc_tcr      0.57000   0.53000  \n",
       "                 tcr          0.44000   0.37000  \n",
       "                 peptide_mhc  0.54000   0.49000  \n",
       "seq_globalenergy full_model   0.65000   0.59000  \n",
       "                 peptide_tcr  0.52000   0.49000  \n",
       "                 mhc_tcr      0.33000   0.31000  \n",
       "                 tcr          0.32000   0.30000  \n",
       "                 peptide_mhc  0.00223   0.00169  "
      ]
     },
     "execution_count": 50,
     "metadata": {},
     "output_type": "execute_result"
    }
   ],
   "source": [
    "arrays=[np.array([\"all_feat\", \"all_feat\", \"all_feat\", \"all_feat\", \"all_feat\",\n",
    "       \"sequence\", \"sequence\", \"sequence\", \"sequence\", \"sequence\",\n",
    "       \"energy_terms\", \"energy_terms\", \"energy_terms\", \"energy_terms\", \"energy_terms\",\n",
    "       \"seq_globalenergy\", \"seq_globalenergy\", \"seq_globalenergy\", \"seq_globalenergy\", \"seq_globalenergy\"])\n",
    "       ,\n",
    "       np.array([\"full_model\", \"peptide_tcr\", \"mhc_tcr\", \"tcr\", \"peptide_mhc\",\n",
    "       \"full_model\", \"peptide_tcr\", \"mhc_tcr\", \"tcr\", \"peptide_mhc\",\n",
    "       \"full_model\", \"peptide_tcr\", \"mhc_tcr\", \"tcr\", \"peptide_mhc\",\n",
    "       \"full_model\", \"peptide_tcr\", \"mhc_tcr\", \"tcr\", \"peptide_mhc\"])]\n",
    "\n",
    "results= pd.DataFrame({\"auc_train\" : [0.95, 0.96, 0.91, 0.88, 0.60, 0.92, 0.95, 0.77, 0.76, 0.60, 0.94, 0.94, 0.93, 0.92, 0.88, 0.95, 0.94, 0.78, 0.77, 0.70],\n",
    "                       \"auc_val\" : [0.91, 0.91, 0.84, 0.79, 0.62, 0.90, 0.90, 0.72, 0.73, 0.61, 0.87, 0.89, 0.85, 0.79, 0.82, 0.89, 0.90, 0.73, 0.72, 0.71],\n",
    "                       \"auc_test\" : [0.86, 0.86, 0.78, 0.76, 0.54, 0.87, 0.87, 0.70, 0.70, 0.57, 0.83, 0.85, 0.81, 0.74, 0.78, 0.85, 0.87, 0.70, 0.70, 0.63],\n",
    "                       \"mcc_train\" : [0.75, 0.70, 0.69, 0.55, 0.095, 0.63, 0.61, 0.36, 0.37, 0.18, 0.72, 0.61, 0.67, 0.62, 0.62, 0.72, 0.60, 0.38, 0.39, 0.00228],\n",
    "                       \"mcc_val\" : [0.63, 0.56, 0.58, 0.45, 0.14, 0.54, 0.55, 0.32, 0.32, 0.18, 0.58, 0.51, 0.57, 0.44, 0.54, 0.65, 0.52, 0.33, 0.32, 0.00223], \n",
    "                       \"mcc_test\" : [0.54, 0.52, 0.51, 0.41, 0.047, 0.49, 0.47, 0.31, 0.31, 0.12, 0.52, 0.47, 0.53, 0.37, 0.49, 0.59, 0.49, 0.31, 0.30, 0.00169]}, index=arrays)\n",
    "results"
   ]
  },
  {
   "cell_type": "code",
   "execution_count": 75,
   "metadata": {},
   "outputs": [
    {
     "data": {
      "image/png": "[encoded data removed]",
      "text/plain": [
       "<Figure size 1008x576 with 1 Axes>"
      ]
     },
     "metadata": {},
     "output_type": "display_data"
    }
   ],
   "source": [
    "plt.figure(figsize=(14,8))\n",
    "ax = plt.gca()\n",
    "results[\"auc_test\"].unstack().plot(kind='bar', ax=ax, ylim=(0,1.2))\n",
    "for container in ax.containers:\n",
    "    ax.bar_label(container, padding=2, fmt=\"%.2f\", fontsize=10)\n"
   ]
  },
  {
   "cell_type": "code",
   "execution_count": 74,
   "metadata": {},
   "outputs": [
    {
     "data": {
      "image/png": "[encoded data removed]",
      "text/plain": [
       "<Figure size 1008x576 with 1 Axes>"
      ]
     },
     "metadata": {},
     "output_type": "display_data"
    }
   ],
   "source": [
    "plt.figure(figsize=(14,8))\n",
    "ax = plt.gca()\n",
    "results[\"mcc_test\"].unstack().plot(kind='bar', ax=ax, ylim=(0,1))\n",
    "for container in ax.containers:\n",
    "    ax.bar_label(container, padding=2, fmt=\"%.2f\", fontsize=10)"
   ]
  },
  {
   "cell_type": "code",
   "execution_count": null,
   "metadata": {},
   "outputs": [],
   "source": []
  }
 ],
 "metadata": {
  "interpreter": {
   "hash": "57990f1ad2ea89c67ddae7f31d40c478205c5912da0fccfb7c5cfbb2b8bf17ad"
  },
  "kernelspec": {
   "display_name": "Python (myenv)",
   "language": "python",
   "name": "undefined.ipython.kernel"
  },
  "language_info": {
   "codemirror_mode": {
    "name": "ipython",
    "version": 3
   },
   "file_extension": ".py",
   "mimetype": "text/x-python",
   "name": "python",
   "nbconvert_exporter": "python",
   "pygments_lexer": "ipython3",
   "version": "3.8.3"
  },
  "orig_nbformat": 4
 },
 "nbformat": 4,
 "nbformat_minor": 2
}
