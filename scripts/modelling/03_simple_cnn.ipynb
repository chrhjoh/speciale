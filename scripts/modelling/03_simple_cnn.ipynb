{
 "cells": [
  {
   "cell_type": "markdown",
   "metadata": {},
   "source": [
    "# CNN first model\n",
    "\n",
    "Here I use a network doing a CNN over the input. The model architecture is a CNN of the local features. These then get pooled down to the number of channels, which is then fed into a dense layer."
   ]
  },
  {
   "cell_type": "markdown",
   "metadata": {},
   "source": [
    "### Load Libraries"
   ]
  },
  {
   "cell_type": "code",
   "execution_count": 1,
   "metadata": {},
   "outputs": [],
   "source": [
    "import torch\n",
    "import matplotlib.pyplot as plt\n",
    "import seaborn as sns\n",
    "import numpy as np\n",
    "from torch import nn, optim, cuda\n",
    "from torch.utils.data.dataloader import DataLoader\n",
    "from utils import Runner, EarlyStopping, TcrDataset, setup_seed\n",
    "from cnn_network import SimpleCNN\n",
    "import pandas as pd"
   ]
  },
  {
   "cell_type": "markdown",
   "metadata": {},
   "source": [
    "Set general plotting parameters for matplotlib using seaborn"
   ]
  },
  {
   "cell_type": "code",
   "execution_count": 2,
   "metadata": {},
   "outputs": [],
   "source": [
    "custom_params = {\"axes.spines.right\": False, \"axes.spines.top\": False}\n",
    "sns.set_theme(style=\"ticks\", rc=custom_params, palette=\"pastel\")"
   ]
  },
  {
   "cell_type": "markdown",
   "metadata": {},
   "source": [
    "### General parameters"
   ]
  },
  {
   "cell_type": "code",
   "execution_count": 3,
   "metadata": {},
   "outputs": [],
   "source": [
    "# General parameters\n",
    "data_dir = \"../../data/\"\n",
    "data_files = [data_dir+f\"datasets/P{i}_input_cdrs.npz\" for i in range(1,6)]\n",
    "label_files = [data_dir+f\"datasets/P{i}_labels.npz\" for i in range(1,6)]\n",
    "model_name = \"cnn_model.pt\"\n",
    "model_path = \"stored_models/\"\n",
    "\n",
    "batch_size = 64\n",
    "seed= 123\n",
    "\n",
    "setup_seed(seed)\n",
    "device = torch.device(\"cuda\" if cuda.is_available() else \"cpu\")\n",
    "#device= torch.device(\"cpu\")"
   ]
  },
  {
   "cell_type": "markdown",
   "metadata": {},
   "source": [
    "## Define indexing"
   ]
  },
  {
   "cell_type": "code",
   "execution_count": 4,
   "metadata": {},
   "outputs": [],
   "source": [
    "\n",
    "########### Select Indexes TCR DATA ############\n",
    "\n",
    "# Full model\n",
    "#idx = np.arange(420)\n",
    "\n",
    "# peptide + TCR\n",
    "#idx = np.arange(179,420)\n",
    "\n",
    "# MHC + TCR\n",
    "#idx = np.concatenate([np.arange(179),np.arange(192,420)])\n",
    "\n",
    "# TCR\n",
    "#idx = np.arange(192,420)\n",
    "\n",
    "# MHC + peptide\n",
    "#idx = np.arange(192)\n",
    "\n",
    "\n",
    "########### Select Indexes CDR Data ############\n",
    "\n",
    "# Full model\n",
    "# idx = np.arange(248)\n",
    "\n",
    "# Peptide + All CDRS\n",
    "idx = np.arange(179,248)\n",
    "\n",
    "########### Select Features ###########\n",
    "\n",
    "# All features\n",
    "#local_features = np.arange(27)\n",
    "#global_features = np.arange(27, 54)\n",
    "#use_global_features = True\n",
    "\n",
    "# Sequence\n",
    "local_features = np.arange(20)\n",
    "global_features = None\n",
    "use_global_features = False\n",
    "\n",
    "# Energy terms\n",
    "#local_features = np.arange(20, 27)\n",
    "#global_features = np.arange(27, 54)\n",
    "#use_global_features = True\n",
    "\n",
    "# Sequence and global energy\n",
    "#local_features = np.arange(20)\n",
    "#global_features = np.arange(27, 54)\n",
    "#use_global_features = True\n"
   ]
  },
  {
   "cell_type": "markdown",
   "metadata": {},
   "source": [
    "## Load Data\n",
    "Partitions can be changed by altering the `data_files` and `label_files` indexing"
   ]
  },
  {
   "cell_type": "code",
   "execution_count": 5,
   "metadata": {},
   "outputs": [],
   "source": [
    "train_data = TcrDataset(data_files[0], label_files[0])\n",
    "train_data.add_partition(data_files[1], label_files[1])\n",
    "train_data.add_partition(data_files[2], label_files[2])\n",
    "val_data = TcrDataset(data_files[3], label_files[3])\n",
    "test_data = TcrDataset(data_files[4], label_files[4])\n",
    "\n",
    "\n",
    "# Shuffle data randomly is needed\n",
    "train_data.shuffle_data()\n",
    "val_data.shuffle_data()\n",
    "test_data.shuffle_data()\n",
    "\n",
    "# slicing sequence dimension\n",
    "train_data.slice_data(idx)\n",
    "val_data.slice_data(idx)\n",
    "test_data.slice_data(idx)\n",
    "\n",
    "input_len = train_data.data.shape[2]\n"
   ]
  },
  {
   "cell_type": "code",
   "execution_count": 6,
   "metadata": {},
   "outputs": [],
   "source": [
    "train_dl = DataLoader(train_data, batch_size)\n",
    "val_dl = DataLoader(val_data, batch_size)\n",
    "test_dl = DataLoader(test_data, batch_size)"
   ]
  },
  {
   "cell_type": "code",
   "execution_count": 7,
   "metadata": {},
   "outputs": [
    {
     "data": {
      "text/plain": [
       "(4174, 1532, 1207)"
      ]
     },
     "execution_count": 7,
     "metadata": {},
     "output_type": "execute_result"
    }
   ],
   "source": [
    "len(train_data), len(val_data), len(test_data)"
   ]
  },
  {
   "cell_type": "code",
   "execution_count": 8,
   "metadata": {},
   "outputs": [
    {
     "data": {
      "text/plain": [
       "(4174, 54, 69)"
      ]
     },
     "execution_count": 8,
     "metadata": {},
     "output_type": "execute_result"
    }
   ],
   "source": [
    "train_data.data.shape"
   ]
  },
  {
   "cell_type": "code",
   "execution_count": 25,
   "metadata": {},
   "outputs": [],
   "source": [
    "#Hyperparameters\n",
    "epochs = 100\n",
    "patience = 20\n",
    "lr = 0.005\n",
    "loss_weight = sum(train_data.labels) / len(train_data.labels)\n",
    "weight_decay = 0.0005\n",
    "\n",
    "# Layer parameters\n",
    "cnn_channels = 40\n",
    "hidden_neurons = 64\n",
    "dropout = 0.4\n",
    "cnn_kernel = 3\n",
    "\n",
    "# Loss and optimizer\n",
    "criterion = nn.BCELoss(reduction='none')\n",
    "stopper = EarlyStopping(patience, model_name, model_path)\n"
   ]
  },
  {
   "cell_type": "code",
   "execution_count": 26,
   "metadata": {},
   "outputs": [
    {
     "name": "stdout",
     "output_type": "stream",
     "text": [
      "SimpleCNN(\n",
      "  (cdr1a_conv): Conv1d(20, 40, kernel_size=(3,), stride=(1,), padding=same)\n",
      "  (cdr2a_conv): Conv1d(20, 40, kernel_size=(3,), stride=(1,), padding=same)\n",
      "  (cdr3a_conv): Conv1d(20, 40, kernel_size=(3,), stride=(1,), padding=same)\n",
      "  (cdr1b_conv): Conv1d(20, 40, kernel_size=(3,), stride=(1,), padding=same)\n",
      "  (cdr2b_conv): Conv1d(20, 40, kernel_size=(3,), stride=(1,), padding=same)\n",
      "  (cdr3b_conv): Conv1d(20, 40, kernel_size=(3,), stride=(1,), padding=same)\n",
      "  (pep_conv): Conv1d(20, 40, kernel_size=(3,), stride=(1,), padding=same)\n",
      "  (max_pool): AdaptiveMaxPool1d(output_size=1)\n",
      "  (dense1): Linear(in_features=280, out_features=64, bias=True)\n",
      "  (dense_out): Linear(in_features=64, out_features=1, bias=True)\n",
      "  (dropout): Dropout(p=0.4, inplace=False)\n",
      "  (bn_dense): BatchNorm1d(280, eps=1e-05, momentum=0.1, affine=True, track_running_stats=True)\n",
      ")\n",
      "Using Device: cpu\n"
     ]
    }
   ],
   "source": [
    "net = SimpleCNN(local_features, global_features, use_global_features, cnn_channels=cnn_channels, dropout=dropout, cnn_kernel_size=cnn_kernel, dense_neurons=hidden_neurons)\n",
    "net.to(device)\n",
    "print(net)\n",
    "print(\"Using Device:\", device)\n",
    "optimizer = optim.Adam(net.parameters(), lr=lr,\n",
    "    weight_decay=weight_decay,\n",
    "    amsgrad=True\n",
    ")"
   ]
  },
  {
   "cell_type": "code",
   "execution_count": 27,
   "metadata": {},
   "outputs": [],
   "source": [
    "# Define runners\n",
    "train_runner = Runner(train_dl, net, criterion, loss_weight, device, optimizer)\n",
    "val_runner = Runner(val_dl, net, criterion, loss_weight, device)\n",
    "test_runner = Runner(test_dl, net, criterion, loss_weight, device)"
   ]
  },
  {
   "cell_type": "markdown",
   "metadata": {},
   "source": [
    "## Training Loop"
   ]
  },
  {
   "cell_type": "code",
   "execution_count": 28,
   "metadata": {},
   "outputs": [
    {
     "name": "stdout",
     "output_type": "stream",
     "text": [
      "Epoch: 1\n",
      "Train loss: 0.30059765324448096 Train MCC: 0.2098327441588422 Train AUC: 0.6566689463969231\n",
      "Validation loss: 0.2591381072998047 Validation MCC: 0.3055480097396101 Validation AUC: 0.714737755841724\n",
      "Validation loss decreased. Counter reset\n",
      "Epoch: 2\n",
      "Train loss: 0.25901910030480585 Train MCC: 0.3037484838866692 Train AUC: 0.6932172509394696\n",
      "Validation loss: 0.2709365288416545 Validation MCC: 0.20427248515768653 Validation AUC: 0.7099657552145469\n",
      "Early Stopping Counter: 1 out of 20\n",
      "Epoch: 3\n",
      "Train loss: 0.24226964603770862 Train MCC: 0.4019954136590514 Train AUC: 0.7288708226394375\n",
      "Validation loss: 0.2637942433357239 Validation MCC: 0.2915628041683653 Validation AUC: 0.6965700677396851\n",
      "Early Stopping Counter: 2 out of 20\n",
      "Epoch: 4\n",
      "Train loss: 0.2321867509321733 Train MCC: 0.44426868454514723 Train AUC: 0.7506854511537151\n",
      "Validation loss: 0.26237426201502484 Validation MCC: 0.22793472027089215 Validation AUC: 0.713492490916156\n",
      "Early Stopping Counter: 3 out of 20\n",
      "Epoch: 5\n",
      "Train loss: 0.2128948587359804 Train MCC: 0.5164331700213675 Train AUC: 0.7884689160005197\n",
      "Validation loss: 0.211551566918691 Validation MCC: 0.543230078212038 Validation AUC: 0.7555997154978673\n",
      "Validation loss decreased. Counter reset\n",
      "Epoch: 6\n",
      "Train loss: 0.2018096519239021 Train MCC: 0.5578639907354341 Train AUC: 0.8138520577629718\n",
      "Validation loss: 0.20753461122512817 Validation MCC: 0.5102691030200238 Validation AUC: 0.7960321950975646\n",
      "Validation loss decreased. Counter reset\n",
      "Epoch: 7\n",
      "Train loss: 0.19408517895322858 Train MCC: 0.5617522999968101 Train AUC: 0.8312141647239932\n",
      "Validation loss: 0.18729797999064127 Validation MCC: 0.6114238324188079 Validation AUC: 0.8292680432752286\n",
      "Validation loss decreased. Counter reset\n",
      "Epoch: 8\n",
      "Train loss: 0.19454470547762784 Train MCC: 0.5479206639507713 Train AUC: 0.8316783839899201\n",
      "Validation loss: 0.19791996479034424 Validation MCC: 0.5547343862641322 Validation AUC: 0.82905216705638\n",
      "Early Stopping Counter: 1 out of 20\n",
      "Epoch: 9\n",
      "Train loss: 0.18655334819446912 Train MCC: 0.5746285606063748 Train AUC: 0.8475768979980046\n",
      "Validation loss: 0.18733292818069458 Validation MCC: 0.5794271119269627 Validation AUC: 0.8542801437053904\n",
      "Early Stopping Counter: 2 out of 20\n",
      "Epoch: 10\n",
      "Train loss: 0.19113397598266602 Train MCC: 0.5602859509868465 Train AUC: 0.8371065320400153\n",
      "Validation loss: 0.17067782084147134 Validation MCC: 0.6253064845369043 Validation AUC: 0.8854163116070962\n",
      "Validation loss decreased. Counter reset\n",
      "Epoch: 11\n",
      "Train loss: 0.18397169402151398 Train MCC: 0.583799581107577 Train AUC: 0.8514602530255452\n",
      "Validation loss: 0.17016615470250449 Validation MCC: 0.6376182576427472 Validation AUC: 0.8810374329363484\n",
      "Validation loss decreased. Counter reset\n",
      "Epoch: 12\n",
      "Train loss: 0.18298868699507279 Train MCC: 0.5752429652133344 Train AUC: 0.8512050090331247\n",
      "Validation loss: 0.1744119127591451 Validation MCC: 0.6182126722661415 Validation AUC: 0.8698209590812307\n",
      "Early Stopping Counter: 1 out of 20\n",
      "Epoch: 13\n",
      "Train loss: 0.18265336932558002 Train MCC: 0.5747752991043794 Train AUC: 0.8557909744743751\n",
      "Validation loss: 0.17435548702875772 Validation MCC: 0.6508614023365601 Validation AUC: 0.8708208068316869\n",
      "Early Stopping Counter: 2 out of 20\n",
      "Epoch: 14\n",
      "Train loss: 0.18296601555564188 Train MCC: 0.5550622534475537 Train AUC: 0.8565620687203849\n",
      "Validation loss: 0.1637575626373291 Validation MCC: 0.6676349234901717 Validation AUC: 0.8876955100018861\n",
      "Validation loss decreased. Counter reset\n",
      "Epoch: 15\n",
      "Train loss: 0.18028454347090286 Train MCC: 0.5798972107376869 Train AUC: 0.8571891477485825\n",
      "Validation loss: 0.17732671896616617 Validation MCC: 0.647117914774937 Validation AUC: 0.8622039371277556\n",
      "Early Stopping Counter: 1 out of 20\n",
      "Epoch: 16\n",
      "Train loss: 0.1841643795822606 Train MCC: 0.5627968423449083 Train AUC: 0.8539609087544093\n",
      "Validation loss: 0.17447827259699503 Validation MCC: 0.6363025735809269 Validation AUC: 0.8734840376579023\n",
      "Early Stopping Counter: 2 out of 20\n",
      "Epoch: 17\n",
      "Train loss: 0.1822547334613222 Train MCC: 0.5737326090815954 Train AUC: 0.8559149194863007\n",
      "Validation loss: 0.1722567876180013 Validation MCC: 0.6507230285062737 Validation AUC: 0.8773629924534219\n",
      "Early Stopping Counter: 3 out of 20\n",
      "Epoch: 18\n",
      "Train loss: 0.1820192915020567 Train MCC: 0.5802269631122406 Train AUC: 0.8581247870413269\n",
      "Validation loss: 0.17433595657348633 Validation MCC: 0.6295538840757815 Validation AUC: 0.8780242553974735\n",
      "Early Stopping Counter: 4 out of 20\n",
      "Epoch: 19\n",
      "Train loss: 0.17791698918198096 Train MCC: 0.5863832755584926 Train AUC: 0.8655443284968733\n",
      "Validation loss: 0.17491938670476279 Validation MCC: 0.6255647852886566 Validation AUC: 0.8635810001658839\n",
      "Early Stopping Counter: 5 out of 20\n",
      "Epoch: 20\n",
      "Train loss: 0.17754638556278113 Train MCC: 0.5953266847179451 Train AUC: 0.8633384443414889\n",
      "Validation loss: 0.17052004734675089 Validation MCC: 0.6423370744274949 Validation AUC: 0.8779379049099341\n",
      "Early Stopping Counter: 6 out of 20\n",
      "Epoch: 21\n",
      "Train loss: 0.18360708699081885 Train MCC: 0.5603137077356499 Train AUC: 0.8549282620366081\n",
      "Validation loss: 0.17256569862365723 Validation MCC: 0.6272285783125341 Validation AUC: 0.8808465529112612\n",
      "Early Stopping Counter: 7 out of 20\n",
      "Epoch: 22\n",
      "Train loss: 0.18048887541799835 Train MCC: 0.5886636692430461 Train AUC: 0.8592864076598937\n",
      "Validation loss: 0.171202023824056 Validation MCC: 0.6295538840757815 Validation AUC: 0.8802943642672594\n",
      "Early Stopping Counter: 8 out of 20\n",
      "Epoch: 23\n",
      "Train loss: 0.18134658986871893 Train MCC: 0.5595548957791338 Train AUC: 0.8602491647117367\n",
      "Validation loss: 0.17502236366271973 Validation MCC: 0.6343577962766903 Validation AUC: 0.8704117782065004\n",
      "Early Stopping Counter: 9 out of 20\n",
      "Epoch: 24\n",
      "Train loss: 0.1814378969597094 Train MCC: 0.5725495879588568 Train AUC: 0.8569518290545493\n",
      "Validation loss: 0.18383528788884482 Validation MCC: 0.5660124213479798 Validation AUC: 0.8564389058938753\n",
      "Early Stopping Counter: 10 out of 20\n",
      "Epoch: 25\n",
      "Train loss: 0.17922006953846326 Train MCC: 0.572593583747375 Train AUC: 0.8634824595593011\n",
      "Validation loss: 0.16745744148890176 Validation MCC: 0.642954175780694 Validation AUC: 0.8796308289419565\n",
      "Early Stopping Counter: 11 out of 20\n",
      "Epoch: 26\n",
      "Train loss: 0.1802149252458052 Train MCC: 0.5757474820093275 Train AUC: 0.8604339331720362\n",
      "Validation loss: 0.1699089209238688 Validation MCC: 0.6528950889969033 Validation AUC: 0.8757450570026837\n",
      "Early Stopping Counter: 12 out of 20\n",
      "Epoch: 27\n",
      "Train loss: 0.18166943752404416 Train MCC: 0.5703718272513543 Train AUC: 0.8581851508666652\n",
      "Validation loss: 0.1657822529474894 Validation MCC: 0.6569564104030852 Validation AUC: 0.8851095401382063\n",
      "Early Stopping Counter: 13 out of 20\n",
      "Epoch: 28\n",
      "Train loss: 0.18206333391594165 Train MCC: 0.5524159660505819 Train AUC: 0.8605892857580593\n",
      "Validation loss: 0.16582036018371582 Validation MCC: 0.6748719222871216 Validation AUC: 0.8823099664369289\n",
      "Early Stopping Counter: 14 out of 20\n",
      "Epoch: 29\n",
      "Train loss: 0.17842940128210819 Train MCC: 0.5778393307916713 Train AUC: 0.8647127172178466\n",
      "Validation loss: 0.16339160005251566 Validation MCC: 0.6723337427516451 Validation AUC: 0.883852913306383\n",
      "Validation loss decreased. Counter reset\n",
      "Epoch: 30\n",
      "Train loss: 0.18167452378706497 Train MCC: 0.5802269631122406 Train AUC: 0.8609738370311539\n",
      "Validation loss: 0.16929628451665243 Validation MCC: 0.6393672626661574 Validation AUC: 0.8817327815991656\n",
      "Early Stopping Counter: 1 out of 20\n",
      "Epoch: 31\n",
      "Train loss: 0.18153351003473456 Train MCC: 0.5711906535552201 Train AUC: 0.8600787977732183\n",
      "Validation loss: 0.16929592688878378 Validation MCC: 0.646556388362617 Validation AUC: 0.8767312704656336\n",
      "Early Stopping Counter: 2 out of 20\n",
      "Epoch: 32\n",
      "Train loss: 0.18354462132309424 Train MCC: 0.5647302260855629 Train AUC: 0.8568831920145707\n",
      "Validation loss: 0.16411842902501425 Validation MCC: 0.6695038552157568 Validation AUC: 0.8893043559276201\n",
      "Early Stopping Counter: 3 out of 20\n",
      "Epoch: 33\n",
      "Train loss: 0.17860337459679806 Train MCC: 0.5825805286076886 Train AUC: 0.8636402634681806\n",
      "Validation loss: 0.16205881039301553 Validation MCC: 0.6606112443969827 Validation AUC: 0.8872660299454401\n",
      "Validation loss decreased. Counter reset\n",
      "Epoch: 34\n",
      "Train loss: 0.18082747314915512 Train MCC: 0.5714919404472398 Train AUC: 0.8623655755828632\n",
      "Validation loss: 0.16586239139238992 Validation MCC: 0.6664726843734832 Validation AUC: 0.8844505495754056\n",
      "Early Stopping Counter: 1 out of 20\n",
      "Epoch: 35\n",
      "Train loss: 0.17864189725933652 Train MCC: 0.588414379078354 Train AUC: 0.8616969772737858\n",
      "Validation loss: 0.16517948110898337 Validation MCC: 0.6698274906457219 Validation AUC: 0.8821622616556117\n",
      "Early Stopping Counter: 2 out of 20\n",
      "Epoch: 36\n",
      "Train loss: 0.1785490151607629 Train MCC: 0.5799541780965648 Train AUC: 0.8680112785364622\n",
      "Validation loss: 0.16982758045196533 Validation MCC: 0.6547948858607908 Validation AUC: 0.8789559317103988\n",
      "Early Stopping Counter: 3 out of 20\n",
      "Epoch: 37\n",
      "Train loss: 0.17791641119754675 Train MCC: 0.5824929202656708 Train AUC: 0.8663964696048223\n",
      "Validation loss: 0.17037242650985718 Validation MCC: 0.6368858901221269 Validation AUC: 0.876254070402916\n",
      "Early Stopping Counter: 4 out of 20\n",
      "Epoch: 38\n",
      "Train loss: 0.1808438590078643 Train MCC: 0.5791178409013049 Train AUC: 0.8622034818589852\n",
      "Validation loss: 0.17295634746551514 Validation MCC: 0.6325044046225624 Validation AUC: 0.8733545119265929\n",
      "Early Stopping Counter: 5 out of 20\n",
      "Epoch: 39\n",
      "Train loss: 0.18071931781190814 Train MCC: 0.576798985030662 Train AUC: 0.8594751595198349\n",
      "Validation loss: 0.17144868771235147 Validation MCC: 0.638354163431735 Validation AUC: 0.875576900790107\n",
      "Early Stopping Counter: 6 out of 20\n",
      "Epoch: 40\n",
      "Train loss: 0.1771587458523837 Train MCC: 0.5899752522130999 Train AUC: 0.8655308462211632\n",
      "Validation loss: 0.16339340806007385 Validation MCC: 0.6593905371235277 Validation AUC: 0.8837142980500695\n",
      "Early Stopping Counter: 7 out of 20\n",
      "Epoch: 41\n",
      "Train loss: 0.17845945647268585 Train MCC: 0.5722040706964036 Train AUC: 0.8618226075701753\n",
      "Validation loss: 0.16460514068603516 Validation MCC: 0.6388865349059962 Validation AUC: 0.8836165856562751\n",
      "Early Stopping Counter: 8 out of 20\n",
      "Epoch: 42\n",
      "Train loss: 0.1720905303955078 Train MCC: 0.5964560021957536 Train AUC: 0.8749390233439475\n",
      "Validation loss: 0.16654557983080545 Validation MCC: 0.6594640547206307 Validation AUC: 0.8753087598024847\n",
      "Early Stopping Counter: 9 out of 20\n",
      "Epoch: 43\n",
      "Train loss: 0.17701809334032464 Train MCC: 0.5931476823881293 Train AUC: 0.8680875759603669\n",
      "Validation loss: 0.16374383370081583 Validation MCC: 0.64449723193794 Validation AUC: 0.8847459591380404\n",
      "Early Stopping Counter: 10 out of 20\n",
      "Epoch: 44\n",
      "Train loss: 0.17908659848299893 Train MCC: 0.5708288932019401 Train AUC: 0.8646091488271646\n",
      "Validation loss: 0.1658462186654409 Validation MCC: 0.6599638668993923 Validation AUC: 0.8820395530680556\n",
      "Early Stopping Counter: 11 out of 20\n",
      "Epoch: 45\n",
      "Train loss: 0.17824178753477155 Train MCC: 0.577162593848403 Train AUC: 0.8660572678045706\n",
      "Validation loss: 0.16917550563812256 Validation MCC: 0.6268564709324843 Validation AUC: 0.880059172807777\n",
      "Early Stopping Counter: 12 out of 20\n",
      "Epoch: 46\n",
      "Train loss: 0.17666751688176935 Train MCC: 0.6007094974701668 Train AUC: 0.8668147265671919\n",
      "Validation loss: 0.16729809840520224 Validation MCC: 0.6431611270296507 Validation AUC: 0.883373440862414\n",
      "Early Stopping Counter: 13 out of 20\n",
      "Epoch: 47\n",
      "Train loss: 0.17807467778523764 Train MCC: 0.5902397360259952 Train AUC: 0.8676907680729906\n",
      "Validation loss: 0.1668695608774821 Validation MCC: 0.6390369226858073 Validation AUC: 0.8847050562755217\n",
      "Early Stopping Counter: 14 out of 20\n",
      "Epoch: 48\n",
      "Train loss: 0.17993502183393997 Train MCC: 0.5899362887433929 Train AUC: 0.862610095037787\n",
      "Validation loss: 0.16527754068374634 Validation MCC: 0.6622526112080723 Validation AUC: 0.8886499101273214\n",
      "Early Stopping Counter: 15 out of 20\n",
      "Epoch: 49\n",
      "Train loss: 0.1791608983820135 Train MCC: 0.5878792109325035 Train AUC: 0.8646940258810668\n",
      "Validation loss: 0.16568740208943686 Validation MCC: 0.6615383697002838 Validation AUC: 0.8838574580688849\n",
      "Early Stopping Counter: 16 out of 20\n",
      "Epoch: 50\n",
      "Train loss: 0.1755535530321526 Train MCC: 0.5861680866687246 Train AUC: 0.8690371571518569\n",
      "Validation loss: 0.16429144144058228 Validation MCC: 0.6422426593805998 Validation AUC: 0.8887498949023671\n",
      "Early Stopping Counter: 17 out of 20\n",
      "Epoch: 51\n",
      "Train loss: 0.17632462761618875 Train MCC: 0.6070929046160531 Train AUC: 0.867737956037976\n",
      "Validation loss: 0.1608212391535441 Validation MCC: 0.6662858502009888 Validation AUC: 0.8874091899642553\n",
      "Validation loss decreased. Counter reset\n",
      "Epoch: 52\n",
      "Train loss: 0.1802286957249497 Train MCC: 0.5596029063527688 Train AUC: 0.864050553631267\n",
      "Validation loss: 0.1670956015586853 Validation MCC: 0.6547948858607908 Validation AUC: 0.8775947753410277\n",
      "Early Stopping Counter: 1 out of 20\n",
      "Epoch: 53\n",
      "Train loss: 0.1781857374942664 Train MCC: 0.5798439930439524 Train AUC: 0.865626141397205\n",
      "Validation loss: 0.16372135281562805 Validation MCC: 0.66356420091564 Validation AUC: 0.8857299002197393\n",
      "Early Stopping Counter: 2 out of 20\n",
      "Epoch: 54\n",
      "Train loss: 0.17946997555819424 Train MCC: 0.5792163365960441 Train AUC: 0.8600720566353632\n",
      "Validation loss: 0.16752119859059653 Validation MCC: 0.6699367315719532 Validation AUC: 0.8816555206366304\n",
      "Early Stopping Counter: 3 out of 20\n",
      "Epoch: 55\n",
      "Train loss: 0.17786903092355438 Train MCC: 0.5871361519669398 Train AUC: 0.8646888168199969\n",
      "Validation loss: 0.1670844554901123 Validation MCC: 0.6587653830209192 Validation AUC: 0.8817805016054374\n",
      "Early Stopping Counter: 4 out of 20\n",
      "Epoch: 56\n",
      "Train loss: 0.17660487781871448 Train MCC: 0.5973852755695188 Train AUC: 0.8667626359564939\n",
      "Validation loss: 0.1598042050997416 Validation MCC: 0.6735311064834335 Validation AUC: 0.8910609066346716\n",
      "Validation loss decreased. Counter reset\n",
      "Epoch: 57\n",
      "Train loss: 0.1830829851555102 Train MCC: 0.5834867807020241 Train AUC: 0.8546147991263485\n",
      "Validation loss: 0.16648263732592264 Validation MCC: 0.6686945885283615 Validation AUC: 0.8819600197242694\n",
      "Early Stopping Counter: 1 out of 20\n",
      "Epoch: 58\n",
      "Train loss: 0.1814408591299346 Train MCC: 0.5714609712664451 Train AUC: 0.8588065612107574\n",
      "Validation loss: 0.16290780901908875 Validation MCC: 0.6674820648395614 Validation AUC: 0.8870069784828218\n",
      "Early Stopping Counter: 2 out of 20\n",
      "Epoch: 59\n",
      "Train loss: 0.17338602470629144 Train MCC: 0.5876300473172766 Train AUC: 0.8745403769644289\n",
      "Validation loss: 0.16182079911231995 Validation MCC: 0.6615383697002838 Validation AUC: 0.8919357734163207\n",
      "Early Stopping Counter: 3 out of 20\n",
      "Epoch: 60\n",
      "Train loss: 0.17552783272483133 Train MCC: 0.5816174221442513 Train AUC: 0.8716901013131736\n",
      "Validation loss: 0.16269018252690634 Validation MCC: 0.6583501426637698 Validation AUC: 0.8934605412357662\n",
      "Early Stopping Counter: 4 out of 20\n",
      "Epoch: 61\n",
      "Train loss: 0.17662153822002988 Train MCC: 0.575803877884791 Train AUC: 0.8696270067141734\n",
      "Validation loss: 0.1693195104598999 Validation MCC: 0.6424821022445684 Validation AUC: 0.8782855792413428\n",
      "Early Stopping Counter: 5 out of 20\n",
      "Epoch: 62\n",
      "Train loss: 0.17884563677238696 Train MCC: 0.5795698400129776 Train AUC: 0.8643741282483093\n",
      "Validation loss: 0.1640575130780538 Validation MCC: 0.6719506552542608 Validation AUC: 0.8860025859698637\n",
      "Early Stopping Counter: 6 out of 20\n",
      "Epoch: 63\n",
      "Train loss: 0.17838615359682025 Train MCC: 0.5948263727330434 Train AUC: 0.8640548434462658\n",
      "Validation loss: 0.15983869632085165 Validation MCC: 0.6491584652105514 Validation AUC: 0.8925106858728329\n",
      "Early Stopping Counter: 7 out of 20\n",
      "Epoch: 64\n",
      "Train loss: 0.17764770623409387 Train MCC: 0.5943017384364359 Train AUC: 0.8671309472156651\n",
      "Validation loss: 0.16176092624664307 Validation MCC: 0.6502560887623551 Validation AUC: 0.8855435649571541\n",
      "Early Stopping Counter: 8 out of 20\n",
      "Epoch: 65\n",
      "Train loss: 0.17286540522719873 Train MCC: 0.5836233487058603 Train AUC: 0.8718601618363351\n",
      "Validation loss: 0.1663123071193695 Validation MCC: 0.6419155886203158 Validation AUC: 0.8826803645808479\n",
      "Early Stopping Counter: 9 out of 20\n",
      "Epoch: 66\n",
      "Train loss: 0.18060337413441052 Train MCC: 0.561237910441296 Train AUC: 0.8631506117276189\n",
      "Validation loss: 0.16069074471791586 Validation MCC: 0.6613406159505755 Validation AUC: 0.8910359104409101\n",
      "Early Stopping Counter: 10 out of 20\n",
      "Epoch: 67\n",
      "Train loss: 0.1758128512989391 Train MCC: 0.5978879289917602 Train AUC: 0.8698277087730394\n",
      "Validation loss: 0.163242906332016 Validation MCC: 0.6365227017363827 Validation AUC: 0.8859026011948178\n",
      "Early Stopping Counter: 11 out of 20\n",
      "Epoch: 68\n",
      "Train loss: 0.17982566717899207 Train MCC: 0.5927608294172524 Train AUC: 0.860483266044521\n",
      "Validation loss: 0.16212507088979086 Validation MCC: 0.6517236346501418 Validation AUC: 0.8857617135572537\n",
      "Early Stopping Counter: 12 out of 20\n",
      "Epoch: 69\n",
      "Train loss: 0.17241649916677765 Train MCC: 0.601470958763252 Train AUC: 0.8737112170082585\n",
      "Validation loss: 0.16302414735158285 Validation MCC: 0.642564622600363 Validation AUC: 0.8835915894625137\n",
      "Early Stopping Counter: 13 out of 20\n",
      "Epoch: 70\n",
      "Train loss: 0.177697990879868 Train MCC: 0.5898835606771007 Train AUC: 0.868691673836786\n",
      "Validation loss: 0.16093023618062338 Validation MCC: 0.6457163453339236 Validation AUC: 0.8928674497292457\n",
      "Early Stopping Counter: 14 out of 20\n",
      "Epoch: 71\n",
      "Train loss: 0.17265587142019562 Train MCC: 0.5884886753548281 Train AUC: 0.8737269973991464\n",
      "Validation loss: 0.1646052896976471 Validation MCC: 0.6307473922161106 Validation AUC: 0.8861162050324155\n",
      "Early Stopping Counter: 15 out of 20\n",
      "Epoch: 72\n",
      "Train loss: 0.1754486488573479 Train MCC: 0.5925299438704601 Train AUC: 0.870651046837426\n",
      "Validation loss: 0.16230637828509012 Validation MCC: 0.6427740078803887 Validation AUC: 0.8885794663085396\n",
      "Early Stopping Counter: 16 out of 20\n",
      "Epoch: 73\n",
      "Train loss: 0.17515787933811997 Train MCC: 0.5894245476599936 Train AUC: 0.8697195441520016\n",
      "Validation loss: 0.1648500164349874 Validation MCC: 0.6600746699101442 Validation AUC: 0.8848641229630942\n",
      "Early Stopping Counter: 17 out of 20\n",
      "Epoch: 74\n",
      "Train loss: 0.179518511801055 Train MCC: 0.5878792109325035 Train AUC: 0.8618685698737323\n",
      "Validation loss: 0.16150939464569092 Validation MCC: 0.6622443686044651 Validation AUC: 0.8897929178965931\n",
      "Early Stopping Counter: 18 out of 20\n",
      "Epoch: 75\n",
      "Train loss: 0.173778620633212 Train MCC: 0.5909766502184837 Train AUC: 0.8721172443208978\n",
      "Validation loss: 0.15892289082209268 Validation MCC: 0.6638544449219551 Validation AUC: 0.8959487987056516\n",
      "Validation loss decreased. Counter reset\n",
      "Epoch: 76\n",
      "Train loss: 0.17197019403631036 Train MCC: 0.5932738854586111 Train AUC: 0.872622829660026\n",
      "Validation loss: 0.15705299377441406 Validation MCC: 0.6556194538844453 Validation AUC: 0.8955693110367285\n",
      "Validation loss decreased. Counter reset\n",
      "Epoch: 77\n",
      "Train loss: 0.1724805976405288 Train MCC: 0.5976519070783344 Train AUC: 0.873991893475314\n",
      "Validation loss: 0.16417045394579569 Validation MCC: 0.6643507802399221 Validation AUC: 0.8936968688858742\n",
      "Early Stopping Counter: 1 out of 20\n",
      "Epoch: 78\n",
      "Train loss: 0.17645166859482275 Train MCC: 0.5910102764276947 Train AUC: 0.8679309977129159\n",
      "Validation loss: 0.16048339009284973 Validation MCC: 0.6419327612975377 Validation AUC: 0.8905564379969413\n",
      "Early Stopping Counter: 2 out of 20\n",
      "Epoch: 79\n",
      "Train loss: 0.17564603054162228 Train MCC: 0.5925065749027312 Train AUC: 0.8702899363391453\n",
      "Validation loss: 0.16198227802912393 Validation MCC: 0.6759728969749288 Validation AUC: 0.8861184774136666\n",
      "Early Stopping Counter: 3 out of 20\n",
      "Epoch: 80\n",
      "Train loss: 0.1734362371040113 Train MCC: 0.5961333913621285 Train AUC: 0.8721681092701675\n",
      "Validation loss: 0.16470123330752054 Validation MCC: 0.6281122190678597 Validation AUC: 0.8883476834209337\n",
      "Early Stopping Counter: 4 out of 20\n",
      "Epoch: 81\n",
      "Train loss: 0.17906418713656339 Train MCC: 0.5788694476339595 Train AUC: 0.8662463260798691\n",
      "Validation loss: 0.1591633160909017 Validation MCC: 0.6547093125142659 Validation AUC: 0.8938922936734635\n",
      "Early Stopping Counter: 5 out of 20\n",
      "Epoch: 82\n",
      "Train loss: 0.1753378203420928 Train MCC: 0.5930808974771636 Train AUC: 0.8674839377069836\n",
      "Validation loss: 0.16201770305633545 Validation MCC: 0.6545676930972404 Validation AUC: 0.8871796794579007\n",
      "Early Stopping Counter: 6 out of 20\n",
      "Epoch: 83\n",
      "Train loss: 0.1747922319354433 Train MCC: 0.602238344436909 Train AUC: 0.868952586513312\n",
      "Validation loss: 0.16185805201530457 Validation MCC: 0.6532338745205833 Validation AUC: 0.8879091138394835\n",
      "Early Stopping Counter: 7 out of 20\n",
      "Epoch: 84\n",
      "Train loss: 0.1769832264293324 Train MCC: 0.5882956252246347 Train AUC: 0.8675338834101823\n",
      "Validation loss: 0.15802636742591858 Validation MCC: 0.6658968080062607 Validation AUC: 0.8929378935480279\n",
      "Early Stopping Counter: 8 out of 20\n",
      "Epoch: 85\n",
      "Train loss: 0.1796443679115989 Train MCC: 0.5894245476599936 Train AUC: 0.8610035593207874\n",
      "Validation loss: 0.16634645064671835 Validation MCC: 0.6521634748256023 Validation AUC: 0.8886385482210664\n",
      "Early Stopping Counter: 9 out of 20\n",
      "Epoch: 86\n",
      "Train loss: 0.17770641500299628 Train MCC: 0.6035387862549245 Train AUC: 0.863623410623543\n",
      "Validation loss: 0.1641193131605784 Validation MCC: 0.6516782595918446 Validation AUC: 0.8858730602385547\n",
      "Early Stopping Counter: 10 out of 20\n",
      "Epoch: 87\n",
      "Train loss: 0.17492068897594104 Train MCC: 0.5800702444857004 Train AUC: 0.8706433864534997\n",
      "Validation loss: 0.15796508391698202 Validation MCC: 0.6511971117626546 Validation AUC: 0.89399455082976\n",
      "Early Stopping Counter: 11 out of 20\n",
      "Epoch: 88\n",
      "Train loss: 0.1778150327277906 Train MCC: 0.5833534958073956 Train AUC: 0.8656218515822063\n",
      "Validation loss: 0.15717590848604837 Validation MCC: 0.6563613330630956 Validation AUC: 0.8916335467099327\n",
      "Early Stopping Counter: 12 out of 20\n",
      "Epoch: 89\n",
      "Train loss: 0.1766969362894694 Train MCC: 0.5866488626197994 Train AUC: 0.869308334742844\n",
      "Validation loss: 0.1715083122253418 Validation MCC: 0.6311716211374925 Validation AUC: 0.8808783662487758\n",
      "Early Stopping Counter: 13 out of 20\n",
      "Epoch: 90\n",
      "Train loss: 0.1753990144440622 Train MCC: 0.6035152842478171 Train AUC: 0.8699055382737294\n",
      "Validation loss: 0.16237634420394897 Validation MCC: 0.6338312299971016 Validation AUC: 0.8866593041514134\n",
      "Early Stopping Counter: 14 out of 20\n",
      "Epoch: 91\n",
      "Train loss: 0.17984534754897608 Train MCC: 0.5772467312638266 Train AUC: 0.8642132601858594\n",
      "Validation loss: 0.1628232498963674 Validation MCC: 0.6451674004054718 Validation AUC: 0.8858912392885628\n",
      "Early Stopping Counter: 15 out of 20\n",
      "Epoch: 92\n",
      "Train loss: 0.17600316712350556 Train MCC: 0.5857537416680646 Train AUC: 0.8697042233841492\n",
      "Validation loss: 0.17574969927469888 Validation MCC: 0.6321934196300675 Validation AUC: 0.8646126612538545\n",
      "Early Stopping Counter: 16 out of 20\n",
      "Epoch: 93\n",
      "Train loss: 0.17817770351063122 Train MCC: 0.5953458743048663 Train AUC: 0.8686811025069678\n",
      "Validation loss: 0.17167170842488608 Validation MCC: 0.6394184872829826 Validation AUC: 0.8700141114875688\n",
      "Early Stopping Counter: 17 out of 20\n",
      "Epoch: 94\n",
      "Train loss: 0.17747672398885092 Train MCC: 0.585087343200376 Train AUC: 0.8644813736232758\n",
      "Validation loss: 0.16504072149594626 Validation MCC: 0.658779680065634 Validation AUC: 0.8829212369934578\n",
      "Early Stopping Counter: 18 out of 20\n",
      "Epoch: 95\n",
      "Train loss: 0.17396970228715378 Train MCC: 0.5907143746571207 Train AUC: 0.8715516015717882\n",
      "Validation loss: 0.1604799727598826 Validation MCC: 0.6554108970809772 Validation AUC: 0.888436306289724\n",
      "Early Stopping Counter: 19 out of 20\n",
      "Epoch: 96\n",
      "Train loss: 0.1765519344445431 Train MCC: 0.5864101323168419 Train AUC: 0.866471847782656\n",
      "Validation loss: 0.1595947245756785 Validation MCC: 0.6715144652340956 Validation AUC: 0.889183919721315\n",
      "Early Stopping\n"
     ]
    }
   ],
   "source": [
    "train_loss, val_loss, train_auc, val_auc = [], [], [], []\n",
    "\n",
    "for epoch in range(1, epochs+1):\n",
    "    train_runner.run_epoch()\n",
    "    val_runner.run_epoch()\n",
    "    \n",
    "    train_runner.follow_performance(epoch)\n",
    "    val_runner.follow_performance(epoch)\n",
    "    stopper.evaluate_epoch(val_runner.loss, net, epoch)\n",
    "    \n",
    "    train_loss.append(train_runner.loss)\n",
    "    val_loss.append(val_runner.loss)\n",
    "    train_auc.append(train_runner.auc)\n",
    "    val_auc.append(val_runner.auc)\n",
    "    \n",
    "    train_runner.reset()\n",
    "    val_runner.reset()\n",
    "\n",
    "    if stopper.stop:\n",
    "        break\n"
   ]
  },
  {
   "cell_type": "code",
   "execution_count": 29,
   "metadata": {},
   "outputs": [
    {
     "data": {
      "text/plain": [
       "(Text(0.5, 0, 'Epoch'), Text(0, 0.5, 'Loss'))"
      ]
     },
     "execution_count": 29,
     "metadata": {},
     "output_type": "execute_result"
    },
    {
     "data": {
      "image/png": "[encoded data removed]",
      "text/plain": [
       "<Figure size 432x288 with 1 Axes>"
      ]
     },
     "metadata": {},
     "output_type": "display_data"
    },
    {
     "data": {
      "image/png": "[encoded data removed]",
      "text/plain": [
       "<Figure size 432x288 with 1 Axes>"
      ]
     },
     "metadata": {},
     "output_type": "display_data"
    }
   ],
   "source": [
    "# Plots of training epochs\n",
    "epoch = np.arange(1, len(train_loss) + 1)\n",
    "plt.figure()\n",
    "plt.plot(epoch, train_loss, \"r\", epoch, val_loss, \"b\", linewidth=3)\n",
    "plt.vlines(stopper.best_epoch, ymin=0, ymax=0.3, colors=\"black\", linestyles='dashed')\n",
    "plt.legend([\"Train Loss\", \"Validation Loss\", \"Best Epoch\"])\n",
    "plt.xlabel(\"Epoch\"), plt.ylabel(\"Loss\")\n",
    "\n",
    "epoch = np.arange(1, len(train_loss) + 1)\n",
    "plt.figure()\n",
    "plt.plot(epoch, train_auc, \"r\", epoch, val_auc, \"b\", linewidth=3)\n",
    "plt.vlines(stopper.best_epoch, ymin=0, ymax=1, colors=\"black\", linestyles='dashed')\n",
    "plt.legend([\"Train AUC\", \"Validation AUC\", \"Best Epoch\"])\n",
    "plt.xlabel(\"Epoch\"), plt.ylabel(\"Loss\")"
   ]
  },
  {
   "cell_type": "markdown",
   "metadata": {},
   "source": [
    "## Evaluate using the best model\n",
    "\n",
    "Best model is stored as early_stopping_state.pt and loaded into a new object"
   ]
  },
  {
   "cell_type": "code",
   "execution_count": 30,
   "metadata": {},
   "outputs": [],
   "source": [
    "final_model = SimpleCNN(local_features, global_features, use_global_features, cnn_channels=cnn_channels, dropout=dropout, cnn_kernel_size=cnn_kernel, dense_neurons=hidden_neurons)\n",
    "final_model.load_state_dict(torch.load(model_path + model_name))\n",
    "final_model.to(device)\n",
    "\n",
    "train_runner.model = final_model\n",
    "val_runner.model = final_model\n",
    "test_runner.model = final_model"
   ]
  },
  {
   "cell_type": "code",
   "execution_count": 31,
   "metadata": {},
   "outputs": [],
   "source": [
    "train_runner.reset()\n",
    "val_runner.reset()\n",
    "test_runner.reset()\n",
    "\n",
    "train_runner.evaluation_mode() # Set to validation to avoid more training\n",
    "train_runner.run_epoch()\n",
    "val_runner.run_epoch()\n",
    "test_runner.run_epoch()"
   ]
  },
  {
   "cell_type": "code",
   "execution_count": 32,
   "metadata": {},
   "outputs": [
    {
     "name": "stdout",
     "output_type": "stream",
     "text": [
      "Evaluation on Training Data:\n",
      "Loss: 0.14009240179350882\n",
      "MCC: 0.704105262241186\n",
      "Confussion Matrix:\n",
      " [[2881  251]\n",
      " [ 217  825]] \n",
      "\n",
      "Evaluation on Validation Data:\n",
      "Loss: 0.15705299377441406\n",
      "MCC: 0.6556194538844453\n",
      "Confussion Matrix:\n",
      " [[1053   96]\n",
      " [ 101  282]] \n",
      "\n",
      "Evaluation on Test Data:\n",
      "Loss: 0.16574650061757942\n",
      "MCC: 0.6318304285610266\n",
      "Confussion Matrix:\n",
      " [[824  82]\n",
      " [ 84 217]] \n",
      "\n"
     ]
    },
    {
     "data": {
      "text/plain": [
       "Text(0.5, 1.0, 'Test Data')"
      ]
     },
     "execution_count": 32,
     "metadata": {},
     "output_type": "execute_result"
    },
    {
     "data": {
      "image/png": "[encoded data removed]",
      "text/plain": [
       "<Figure size 432x288 with 1 Axes>"
      ]
     },
     "metadata": {},
     "output_type": "display_data"
    },
    {
     "data": {
      "image/png": "[encoded data removed]",
      "text/plain": [
       "<Figure size 432x288 with 1 Axes>"
      ]
     },
     "metadata": {},
     "output_type": "display_data"
    },
    {
     "data": {
      "image/png": "[encoded data removed]",
      "text/plain": [
       "<Figure size 432x288 with 1 Axes>"
      ]
     },
     "metadata": {},
     "output_type": "display_data"
    }
   ],
   "source": [
    "print(\"Evaluation on Training Data:\")\n",
    "train_runner.evaluate_model()\n",
    "plt.title(\"Training Data\")\n",
    "\n",
    "print(\"Evaluation on Validation Data:\")\n",
    "val_runner.evaluate_model()\n",
    "plt.title(\"Evaluation Data\")\n",
    "\n",
    "print(\"Evaluation on Test Data:\")\n",
    "test_runner.evaluate_model()\n",
    "plt.title(\"Test Data\")\n"
   ]
  },
  {
   "cell_type": "markdown",
   "metadata": {},
   "source": [
    "## Check results from CV experiment to see per peptide performance\n",
    "\n",
    "For now only has the performance of the CDRs"
   ]
  },
  {
   "cell_type": "code",
   "execution_count": 191,
   "metadata": {},
   "outputs": [],
   "source": [
    "result = pd.read_csv(\"../../results/modelling/simplecnn_cdr_scores.csv\", index_col=0)"
   ]
  },
  {
   "cell_type": "code",
   "execution_count": 192,
   "metadata": {},
   "outputs": [],
   "source": [
    "from sklearn import metrics\n",
    "def calc_auc(x):\n",
    "    d = {}\n",
    "    d[\"auc\"] = metrics.roc_auc_score(x[\"labels\"],x[\"scores\"])\n",
    "    d[\"counts\"] = len(x)\n",
    "    return pd.Series(d, index=[\"auc\", \"counts\"])\n",
    "\n",
    "result = result[result[\"peptide\"].isin(result[\"peptide\"].value_counts(ascending=False).head(10).index)]\n",
    "auc_df = result.groupby(\"peptide\").apply(calc_auc)"
   ]
  },
  {
   "cell_type": "code",
   "execution_count": 201,
   "metadata": {},
   "outputs": [
    {
     "data": {
      "image/png": "[encoded data removed]",
      "text/plain": [
       "<Figure size 432x288 with 1 Axes>"
      ]
     },
     "metadata": {},
     "output_type": "display_data"
    }
   ],
   "source": [
    "def get_labels(x):\n",
    "    return f\"{x.name} ({int(x['counts'])})\"\n",
    "\n",
    "auc_df = auc_df.sort_values(\"counts\",ascending=False)\n",
    "ax = auc_df.plot.bar(y=\"auc\",ylim=[0,1.05])\n",
    "ax.axhline(0.5, ls=\"--\", c=\"black\")\n",
    "plt.tight_layout()\n",
    "ax.get_legend().remove()\n",
    "ax.set_xticklabels(auc_df.apply(get_labels, axis=1))\n",
    "plt.savefig(\"../../results/modelling/cdr_peptide_auc.png\")"
   ]
  },
  {
   "cell_type": "code",
   "execution_count": null,
   "metadata": {},
   "outputs": [],
   "source": []
  }
 ],
 "metadata": {
  "interpreter": {
   "hash": "57990f1ad2ea89c67ddae7f31d40c478205c5912da0fccfb7c5cfbb2b8bf17ad"
  },
  "kernelspec": {
   "display_name": "Python (myenv)",
   "language": "python",
   "name": "undefined.ipython.kernel"
  },
  "language_info": {
   "codemirror_mode": {
    "name": "ipython",
    "version": 3
   },
   "file_extension": ".py",
   "mimetype": "text/x-python",
   "name": "python",
   "nbconvert_exporter": "python",
   "pygments_lexer": "ipython3",
   "version": "3.8.3"
  },
  "orig_nbformat": 4
 },
 "nbformat": 4,
 "nbformat_minor": 2
}
